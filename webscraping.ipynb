{
 "cells": [
  {
   "cell_type": "markdown",
   "metadata": {},
   "source": [
    "# Textual data scraping and preprocessing"
   ]
  },
  {
   "cell_type": "markdown",
   "metadata": {},
   "source": [
    "> This course is a reworking of the excellent book designed by Melanie Walsh, [*Introduction to Cultural Analytics & Python*](https://melaniewalsh.github.io/Intro-Cultural-Analytics/welcome.html). Many paragraphs and explanations have been retained without modification.\n",
    "\n",
    "> **Read this book!**, itself inspired by *Inspired by web scraping lessons from [Lauren Klein](https://github.com/laurenfklein/emory-qtm340/blob/master/notebooks/class4-web-scraping-complete.ipynb) and [Allison Parrish](https://github.com/aparrish/dmep-python-intro/blob/master/scraping-html.ipynb)*"
   ]
  },
  {
   "cell_type": "markdown",
   "metadata": {},
   "source": [
    "Classically, a distinction is made between different work stages: (1) data production, (2) data processing and (3) data analysis.\n",
    "This course is a practical and fairly detailed introduction to the first 2 stages: **production and (pre)processing**.\n",
    "\n",
    "You'll learn how to use open Web services to automatically collect textual data. In doing so, you'll gain a better understanding of how the Web works (HTTP, HTML), discover structured data formats (CSV, JSON, XML) and get hands-on experience of the Python programming language.\n",
    "\n",
    "The important thing is not necessarily to retain everything, but to gain a better understanding of how this ecosystem works, so that you can gradually determine for yourself the solutions you need to implement to meet your own requirements.\n",
    "\n",
    "\n",
    "In this lesson, we're going to introduce how to \"scrape\" data from the internet with the Python libraries requests and BeautifulSoup.\n",
    "\n",
    "We will cover how to:\n",
    "\n",
    "* Programmatically access the text of a web page\n",
    "* Understand the basics of HTML\n",
    "* Extract certain HTML elements\n",
    "* Understand the basics of structured documents (CSV/TSV, JSON, XML)…\n",
    "* …and parse them to extract informations\n",
    "* Build collections\n",
    "* Design pre-processings\n",
    "\n",
    "And along the way, we'll be learning the basics of the Python programming language."
   ]
  },
  {
   "cell_type": "markdown",
   "metadata": {},
   "source": [
    "## Why Do We Need To Scrape At All?"
   ]
  },
  {
   "cell_type": "markdown",
   "metadata": {},
   "source": [
    "Today, written heritage is massively available on the Internet under Free Licenses.\n",
    "\n",
    "Community initiatives such as Project Gutenberg, based on crowdsourcing, have been succeeded by very large-scale institutional projects exploiting the potential of machine learning for the automatic acquisition of text, including handwritten. Gallica (BnF's digital library) represents over 10 million documents available online.\n",
    "\n",
    "Here are a few projects worth your attention :\n",
    "\n",
    "- [Project Gutenberg](https://www.gutenberg.org/): since December 1971! Project Gutenberg is a library of free electronic versions of physically existing books (>70,000 free eBooks).\n",
    "- [Wikisource](https://fr.wikisource.org/wiki/Wikisource:Accueil): Wikisource is a digital library of public domain texts, managed as a wiki using the MediaWiki engine (> 360,000 free and open texts).\n",
    "- [Gallica](https://gallica.bnf.fr/): Gallica is the digital library of the Bibliothèque nationale de France and its partners. It has been freely accessible since 1997, and contains > 10 million documents.\n",
    "- [HathiTrust](https://www.hathitrust.org/)\n",
    "- …\n",
    "\n",
    "This digital heritage opens up unprecedented prospects for the human and social sciences: provided, of course, that we know how to use these services to build research corpora. Text is also increasingly natively digital, and researchers often need to automatically follow certain subjects on platforms such as Twitter.\n",
    "\n",
    "This course will not teach you how to analyze these vast textual corpora, but rather how to build them. It will also show you how to pre-process them, an essential prerequisite for computational analysis.\n",
    "\n",
    "**Building the collection of Jules Verne novels**\n",
    "\n",
    "Let's start by building up a small corpus of Jules Verne's works available on Project Gutenberg. In the process, we'll discover HTTP."
   ]
  },
  {
   "cell_type": "markdown",
   "metadata": {},
   "source": [
    "## Reading a metadata table using Pandas (CSV/TSV)"
   ]
  },
  {
   "cell_type": "markdown",
   "metadata": {},
   "source": [
    "![csv](./img/verne_csv.png)\n",
    "\n",
    "A [comma-separated values](https://en.wikipedia.org/wiki/Comma-separated_values) (CSV) file is a delimited text file that uses a comma to separate values. Each line of the file is a data record. Each record consists of one or more fields, separated by commas. The use of the comma as a field separator is the source of the name for this file format. A CSV file typically stores tabular data (numbers and text) in plain text, in which case each line will have the same number of fields.\n",
    "\n",
    "The T of TSV is for 'tabulation'. Tabs are more convenient for separating text values, which may themselves contain commas...\n",
    "In short, our lesson begins with the reading of a simple TSV metadata table, which is a very common data exchange format.\n",
    "\n",
    "=====\n",
    "\n",
    "**[Pandas](https://pandas.pydata.org/)** is a library written for the Python programming language, enabling data manipulation and analysis. In particular, it offers data structures and array manipulation operations.\n",
    "\n",
    "Here, we use Pandas to read a [TSV table](https://en.wikipedia.org/wiki/Comma-separated_values) and store its data in a [DataFrame](https://pandas.pydata.org/docs/reference/api/pandas.DataFrame.html) (a 2-dimensional array), so that it can be manipulated."
   ]
  },
  {
   "cell_type": "code",
   "execution_count": 1,
   "metadata": {},
   "outputs": [],
   "source": [
    "import pandas as pd"
   ]
  },
  {
   "cell_type": "code",
   "execution_count": 2,
   "metadata": {},
   "outputs": [
    {
     "data": {
      "text/html": [
       "<div>\n",
       "<style scoped>\n",
       "    .dataframe tbody tr th:only-of-type {\n",
       "        vertical-align: middle;\n",
       "    }\n",
       "\n",
       "    .dataframe tbody tr th {\n",
       "        vertical-align: top;\n",
       "    }\n",
       "\n",
       "    .dataframe thead th {\n",
       "        text-align: right;\n",
       "    }\n",
       "</style>\n",
       "<table border=\"1\" class=\"dataframe\">\n",
       "  <thead>\n",
       "    <tr style=\"text-align: right;\">\n",
       "      <th></th>\n",
       "      <th>Etext-No.</th>\n",
       "      <th>Author</th>\n",
       "      <th>Title</th>\n",
       "      <th>url</th>\n",
       "      <th>Language</th>\n",
       "    </tr>\n",
       "  </thead>\n",
       "  <tbody>\n",
       "    <tr>\n",
       "      <th>0</th>\n",
       "      <td>26823</td>\n",
       "      <td>Verne, Jules, 1828-1905</td>\n",
       "      <td>Michel Strogoff: Pièce à grand spectacle en 5 ...</td>\n",
       "      <td>https://www.gutenberg.org/cache/epub/26823/pg2...</td>\n",
       "      <td>fr</td>\n",
       "    </tr>\n",
       "    <tr>\n",
       "      <th>1</th>\n",
       "      <td>800</td>\n",
       "      <td>Verne, Jules, 1828-1905</td>\n",
       "      <td>Le tour du monde en quatre-vingts jours</td>\n",
       "      <td>https://www.gutenberg.org/cache/epub/800/pg800...</td>\n",
       "      <td>fr</td>\n",
       "    </tr>\n",
       "    <tr>\n",
       "      <th>2</th>\n",
       "      <td>3456</td>\n",
       "      <td>Verne, Jules, 1828-1905</td>\n",
       "      <td>Le tour du monde en quatre-vingts jours</td>\n",
       "      <td>https://www.gutenberg.org/cache/epub/3456/pg34...</td>\n",
       "      <td>fr</td>\n",
       "    </tr>\n",
       "    <tr>\n",
       "      <th>3</th>\n",
       "      <td>4548</td>\n",
       "      <td>Verne, Jules, 1828-1905</td>\n",
       "      <td>Cinq Semaines En Ballon</td>\n",
       "      <td>https://www.gutenberg.org/cache/epub/4548/pg45...</td>\n",
       "      <td>fr</td>\n",
       "    </tr>\n",
       "    <tr>\n",
       "      <th>4</th>\n",
       "      <td>4717</td>\n",
       "      <td>Verne, Jules, 1828-1905</td>\n",
       "      <td>Autour de la Lune</td>\n",
       "      <td>https://www.gutenberg.org/cache/epub/4717/pg47...</td>\n",
       "      <td>fr</td>\n",
       "    </tr>\n",
       "  </tbody>\n",
       "</table>\n",
       "</div>"
      ],
      "text/plain": [
       "   Etext-No.                   Author  \\\n",
       "0      26823  Verne, Jules, 1828-1905   \n",
       "1        800  Verne, Jules, 1828-1905   \n",
       "2       3456  Verne, Jules, 1828-1905   \n",
       "3       4548  Verne, Jules, 1828-1905   \n",
       "4       4717  Verne, Jules, 1828-1905   \n",
       "\n",
       "                                               Title  \\\n",
       "0  Michel Strogoff: Pièce à grand spectacle en 5 ...   \n",
       "1            Le tour du monde en quatre-vingts jours   \n",
       "2            Le tour du monde en quatre-vingts jours   \n",
       "3                            Cinq Semaines En Ballon   \n",
       "4                                  Autour de la Lune   \n",
       "\n",
       "                                                 url Language  \n",
       "0  https://www.gutenberg.org/cache/epub/26823/pg2...       fr  \n",
       "1  https://www.gutenberg.org/cache/epub/800/pg800...       fr  \n",
       "2  https://www.gutenberg.org/cache/epub/3456/pg34...       fr  \n",
       "3  https://www.gutenberg.org/cache/epub/4548/pg45...       fr  \n",
       "4  https://www.gutenberg.org/cache/epub/4717/pg47...       fr  "
      ]
     },
     "execution_count": 2,
     "metadata": {},
     "output_type": "execute_result"
    }
   ],
   "source": [
    "urls = pd.read_csv(\"data/verne.csv\", delimiter='\\t', encoding='utf-8')\n",
    "# Get an overview\n",
    "urls.head()"
   ]
  },
  {
   "cell_type": "markdown",
   "metadata": {},
   "source": [
    "Here, the list of books and their metadata (download link, language) has been compiled in advance. We'll see later how to collect this information automatically, using a search API such as that provided by BnF.\n",
    "\n",
    "Let's learn how to read the DataFrame in different ways and to access the values contained in the cells."
   ]
  },
  {
   "cell_type": "code",
   "execution_count": 3,
   "metadata": {},
   "outputs": [
    {
     "name": "stdout",
     "output_type": "stream",
     "text": [
      "Dimensions     Lines          Columns\n",
      "(46, 5)        46             5\n"
     ]
    }
   ],
   "source": [
    "# Knowing the size of the df\n",
    "print(\n",
    "    f\"{'Dimensions':15}\"\n",
    "    f\"{'Lines':15}\"\n",
    "    f\"{'Columns'}\"\n",
    ")\n",
    "print(\n",
    "    f\"{str(urls.shape):15}\"\n",
    "    f\"{str(urls.shape[0]):15}\"\n",
    "    f\"{str(urls.shape[1])}\"\n",
    ")"
   ]
  },
  {
   "cell_type": "markdown",
   "metadata": {},
   "source": [
    "You can access one or more specific lines or slices using the [`.iloc[]`](https://pandas.pydata.org/docs/reference/api/pandas.DataFrame.iloc.html) property."
   ]
  },
  {
   "cell_type": "code",
   "execution_count": 4,
   "metadata": {},
   "outputs": [
    {
     "data": {
      "text/plain": [
       "Etext-No.                                                 4791\n",
       "Author                                 Verne, Jules, 1828-1905\n",
       "Title                             Voyage au Centre de la Terre\n",
       "url          https://www.gutenberg.org/cache/epub/4791/pg47...\n",
       "Language                                                    fr\n",
       "Name: 5, dtype: object"
      ]
     },
     "execution_count": 4,
     "metadata": {},
     "output_type": "execute_result"
    }
   ],
   "source": [
    "# Access a specific line\n",
    "urls.iloc[5]"
   ]
  },
  {
   "cell_type": "code",
   "execution_count": 5,
   "metadata": {},
   "outputs": [
    {
     "data": {
      "text/html": [
       "<div>\n",
       "<style scoped>\n",
       "    .dataframe tbody tr th:only-of-type {\n",
       "        vertical-align: middle;\n",
       "    }\n",
       "\n",
       "    .dataframe tbody tr th {\n",
       "        vertical-align: top;\n",
       "    }\n",
       "\n",
       "    .dataframe thead th {\n",
       "        text-align: right;\n",
       "    }\n",
       "</style>\n",
       "<table border=\"1\" class=\"dataframe\">\n",
       "  <thead>\n",
       "    <tr style=\"text-align: right;\">\n",
       "      <th></th>\n",
       "      <th>Etext-No.</th>\n",
       "      <th>Author</th>\n",
       "      <th>Title</th>\n",
       "      <th>url</th>\n",
       "      <th>Language</th>\n",
       "    </tr>\n",
       "  </thead>\n",
       "  <tbody>\n",
       "    <tr>\n",
       "      <th>5</th>\n",
       "      <td>4791</td>\n",
       "      <td>Verne, Jules, 1828-1905</td>\n",
       "      <td>Voyage au Centre de la Terre</td>\n",
       "      <td>https://www.gutenberg.org/cache/epub/4791/pg47...</td>\n",
       "      <td>fr</td>\n",
       "    </tr>\n",
       "    <tr>\n",
       "      <th>7</th>\n",
       "      <td>5081</td>\n",
       "      <td>Verne, Jules, 1828-1905</td>\n",
       "      <td>Les Indes Noires</td>\n",
       "      <td>https://www.gutenberg.org/cache/epub/5081/pg50...</td>\n",
       "      <td>fr</td>\n",
       "    </tr>\n",
       "    <tr>\n",
       "      <th>11</th>\n",
       "      <td>5097</td>\n",
       "      <td>Verne, Jules, 1828-1905</td>\n",
       "      <td>Vingt mille Lieues Sous Les Mers — Complete</td>\n",
       "      <td>https://www.gutenberg.org/cache/epub/5097/pg50...</td>\n",
       "      <td>fr</td>\n",
       "    </tr>\n",
       "  </tbody>\n",
       "</table>\n",
       "</div>"
      ],
      "text/plain": [
       "    Etext-No.                   Author  \\\n",
       "5        4791  Verne, Jules, 1828-1905   \n",
       "7        5081  Verne, Jules, 1828-1905   \n",
       "11       5097  Verne, Jules, 1828-1905   \n",
       "\n",
       "                                          Title  \\\n",
       "5                  Voyage au Centre de la Terre   \n",
       "7                              Les Indes Noires   \n",
       "11  Vingt mille Lieues Sous Les Mers — Complete   \n",
       "\n",
       "                                                  url Language  \n",
       "5   https://www.gutenberg.org/cache/epub/4791/pg47...       fr  \n",
       "7   https://www.gutenberg.org/cache/epub/5081/pg50...       fr  \n",
       "11  https://www.gutenberg.org/cache/epub/5097/pg50...       fr  "
      ]
     },
     "execution_count": 5,
     "metadata": {},
     "output_type": "execute_result"
    }
   ],
   "source": [
    "# Access specific lines\n",
    "urls.iloc[[5, 7, 11]]"
   ]
  },
  {
   "cell_type": "code",
   "execution_count": 6,
   "metadata": {},
   "outputs": [
    {
     "data": {
      "text/html": [
       "<div>\n",
       "<style scoped>\n",
       "    .dataframe tbody tr th:only-of-type {\n",
       "        vertical-align: middle;\n",
       "    }\n",
       "\n",
       "    .dataframe tbody tr th {\n",
       "        vertical-align: top;\n",
       "    }\n",
       "\n",
       "    .dataframe thead th {\n",
       "        text-align: right;\n",
       "    }\n",
       "</style>\n",
       "<table border=\"1\" class=\"dataframe\">\n",
       "  <thead>\n",
       "    <tr style=\"text-align: right;\">\n",
       "      <th></th>\n",
       "      <th>Etext-No.</th>\n",
       "      <th>Author</th>\n",
       "      <th>Title</th>\n",
       "      <th>url</th>\n",
       "      <th>Language</th>\n",
       "    </tr>\n",
       "  </thead>\n",
       "  <tbody>\n",
       "    <tr>\n",
       "      <th>5</th>\n",
       "      <td>4791</td>\n",
       "      <td>Verne, Jules, 1828-1905</td>\n",
       "      <td>Voyage au Centre de la Terre</td>\n",
       "      <td>https://www.gutenberg.org/cache/epub/4791/pg47...</td>\n",
       "      <td>fr</td>\n",
       "    </tr>\n",
       "    <tr>\n",
       "      <th>6</th>\n",
       "      <td>4968</td>\n",
       "      <td>Verne, Jules, 1828-1905</td>\n",
       "      <td>Les Cinq Cents Millions De La Bégum</td>\n",
       "      <td>https://www.gutenberg.org/cache/epub/4968/pg49...</td>\n",
       "      <td>fr</td>\n",
       "    </tr>\n",
       "    <tr>\n",
       "      <th>7</th>\n",
       "      <td>5081</td>\n",
       "      <td>Verne, Jules, 1828-1905</td>\n",
       "      <td>Les Indes Noires</td>\n",
       "      <td>https://www.gutenberg.org/cache/epub/5081/pg50...</td>\n",
       "      <td>fr</td>\n",
       "    </tr>\n",
       "  </tbody>\n",
       "</table>\n",
       "</div>"
      ],
      "text/plain": [
       "   Etext-No.                   Author                                Title  \\\n",
       "5       4791  Verne, Jules, 1828-1905         Voyage au Centre de la Terre   \n",
       "6       4968  Verne, Jules, 1828-1905  Les Cinq Cents Millions De La Bégum   \n",
       "7       5081  Verne, Jules, 1828-1905                     Les Indes Noires   \n",
       "\n",
       "                                                 url Language  \n",
       "5  https://www.gutenberg.org/cache/epub/4791/pg47...       fr  \n",
       "6  https://www.gutenberg.org/cache/epub/4968/pg49...       fr  \n",
       "7  https://www.gutenberg.org/cache/epub/5081/pg50...       fr  "
      ]
     },
     "execution_count": 6,
     "metadata": {},
     "output_type": "execute_result"
    }
   ],
   "source": [
    "# Access a slice of lines\n",
    "urls.iloc[5:8]"
   ]
  },
  {
   "cell_type": "markdown",
   "metadata": {},
   "source": [
    "You can get cell value by index or name."
   ]
  },
  {
   "cell_type": "code",
   "execution_count": 7,
   "metadata": {},
   "outputs": [
    {
     "name": "stdout",
     "output_type": "stream",
     "text": [
      "Voyage au Centre de la Terre <=> Voyage au Centre de la Terre\n"
     ]
    }
   ],
   "source": [
    "print(\n",
    "    str(urls.iloc[5][2]),\n",
    "    '<=>',\n",
    "    str(urls.iloc[5]['Title'])\n",
    ")"
   ]
  },
  {
   "cell_type": "markdown",
   "metadata": {},
   "source": [
    "Each novel title in this TSV file is paired with a URL for the plain text. How can we actually use these URLs to get computationally tractable text data? Though we could manually navigate to each URL and copy/paste each screenplay into a file, that would be suuuuper slow and painstaking. It would be much better to programmatically access the text data attached to every URL."
   ]
  },
  {
   "cell_type": "markdown",
   "metadata": {},
   "source": [
    "## HTTP Requests and Responses"
   ]
  },
  {
   "cell_type": "markdown",
   "metadata": {},
   "source": [
    "To programmatically access the text data attached to every URL, we can use a Python library called [requests](https://requests.readthedocs.io/en/master/)."
   ]
  },
  {
   "cell_type": "markdown",
   "metadata": {},
   "source": [
    "<img src=\"./img/http.png\" width=\"600px\">\n",
    "\n",
    "A [Uniform Resource Locator](https://en.wikipedia.org/wiki/URL) (URL), colloquially termed a web address, is a reference to a web resource that specifies its location on a computer network and a mechanism for retrieving it.\n",
    "\n",
    "Every HTTP URL conforms to the syntax of a generic URI. The URI generic syntax consists of 6 components organized hierarchically:\n",
    "\n",
    "`http://www.domain.com:80/path/to/myfile.html?key1=value1&key2=value2#anchor_in_doc`\n",
    "\n",
    "URLS parts:\n",
    "\n",
    "- **protocol**: `http://` or `https://`.\n",
    "- **domain name**: `www.domain.com` –instead of a domain name, you can use an IP address.\n",
    "- **port**: `:80` –indicates the technical \"door\" to be used to access the server's resources. This fragment is generally absent, as the browser uses the standard ports associated with the protocols (80 for HTTP, 443 for HTTPS).\n",
    "- **path**: `/path/to/myfile.html` –path, on the web server, to the resource. In the early days of the Web, this path often corresponded to a \"physical\" path existing on the server. Today, this path is merely an abstraction managed by the web server, and no longer corresponds to a \"physical\" reality.\n",
    "- **parameters**: `?key1=value1&key2=value2` –constructed as a list of key/value pairs separated by an ampersand.\n",
    "- **anchor**: `#anchor_in_doc` –points to a given location in the resource.\n",
    "\n",
    "When you type in a URL in your search address bar, you're sending an HTTP **request** for a web page, and the server which stores that web page will accordingly send back a **response**, some web page data that your browser will render.\n",
    "\n",
    "In the image below, in the inspector's network tab, you can see that for the URL, 2 HTTP requests received a positive response (status 200)."
   ]
  },
  {
   "cell_type": "markdown",
   "metadata": {},
   "source": [
    "![404](./img/request-response.png)"
   ]
  },
  {
   "cell_type": "markdown",
   "metadata": {},
   "source": [
    "### Get HTML Data with Requests\n",
    "\n",
    "**HTTP**\n",
    "\n",
    "In the HTTP protocol, a **method** is a command specifying a type of request, i.e. asking the server to perform an action. In general, the action concerns a resource identified by the URL following the method name.\n",
    "\n",
    "There are many [methods](https://en.wikipedia.org/wiki/HTTP#HTTP/1.1_request_messages), the most common being `GET`, `HEAD` and `POST` :\n",
    "\n",
    "- `GET`: the most common method for requesting a resource. A GET request has no effect on the resource.\n",
    "- `HEAD`: this method only requests information about the resource, without actually requesting the resource itself.\n",
    "- `POST`: this method is used to send data for processing (usually from an HTML form).\n",
    "\n",
    "**Requests Python Library**\n",
    "\n",
    "With the [`.get()` method](https://requests.readthedocs.io/en/latest/api/#requests.get), we can request to \"get\" web page data for a specific URL, which we will store in a varaible called `response`."
   ]
  },
  {
   "cell_type": "code",
   "execution_count": 7,
   "metadata": {},
   "outputs": [],
   "source": [
    "import requests"
   ]
  },
  {
   "cell_type": "code",
   "execution_count": 9,
   "metadata": {},
   "outputs": [],
   "source": [
    "response = requests.get(\"https://www.gutenberg.org/cache/epub/4791/pg4791.txt\")"
   ]
  },
  {
   "cell_type": "markdown",
   "metadata": {},
   "source": [
    "### HTTP Header Fields\n",
    "\n",
    "Wikipedia: \"[HTTP header fields](https://en.wikipedia.org/wiki/List_of_HTTP_header_fields) are a **list of strings sent and received by both the client program and server on every HTTP request and response. These headers are usually invisible to the end-user and are only processed or logged by the server and client applications. They define how information sent/received through the connection are encoded** (as in Content-Encoding), the session verification and identification of the client (as in browser cookies, IP address, user-agent) or their anonymity thereof (VPN or proxy masking, user-agent spoofing), how the server should handle data (as in Do-Not-Track), the age (the time it has resided in a shared cache) of the document being downloaded, amongst others.\"\n"
   ]
  },
  {
   "cell_type": "code",
   "execution_count": 10,
   "metadata": {},
   "outputs": [
    {
     "data": {
      "text/plain": [
       "{'Date': 'Fri, 02 Jun 2023 12:40:57 GMT', 'Server': 'Apache', 'Content-Location': 'pg4791.txt.utf8', 'Vary': 'negotiate', 'TCN': 'choice', 'Last-Modified': 'Fri, 12 May 2023 21:00:11 GMT', 'Accept-Ranges': 'bytes', 'Content-Length': '461106', 'X-Backend': 'gutenweb1', 'Content-Type': 'text/plain; charset=utf-8'}"
      ]
     },
     "execution_count": 10,
     "metadata": {},
     "output_type": "execute_result"
    }
   ],
   "source": [
    "response.headers"
   ]
  },
  {
   "cell_type": "markdown",
   "metadata": {},
   "source": [
    "Thus, using the `headers` [`Response` object](https://requests.readthedocs.io/en/latest/user/advanced/#request-and-response-objects); we can see that the document returned by Project Gutenberg is a plain text file.\n",
    "\n",
    "But more often than not, as we'll soon see, responses are encoded in HTML."
   ]
  },
  {
   "cell_type": "code",
   "execution_count": 11,
   "metadata": {},
   "outputs": [
    {
     "data": {
      "text/plain": [
       "'text/plain; charset=utf-8'"
      ]
     },
     "execution_count": 11,
     "metadata": {},
     "output_type": "execute_result"
    }
   ],
   "source": [
    "response.headers['Content-Type']"
   ]
  },
  {
   "cell_type": "markdown",
   "metadata": {},
   "source": [
    "### HTTP Status Code"
   ]
  },
  {
   "cell_type": "markdown",
   "metadata": {},
   "source": [
    "If we check out `response`, it will simply tell us its [HTTP response code](https://developer.mozilla.org/en-US/docs/Web/HTTP/Status), aka whether the request was successful or not.\n",
    "\n",
    "\"200\" is a successful response, while \"404\" is a common \"Page Not Found\" error."
   ]
  },
  {
   "cell_type": "code",
   "execution_count": 12,
   "metadata": {},
   "outputs": [
    {
     "data": {
      "text/plain": [
       "<Response [200]>"
      ]
     },
     "execution_count": 12,
     "metadata": {},
     "output_type": "execute_result"
    }
   ],
   "source": [
    "response"
   ]
  },
  {
   "cell_type": "markdown",
   "metadata": {},
   "source": [
    "Let's see what happens if we make a mistake entering the URL...  \n",
    "('page4791' instead of 'pg4791')"
   ]
  },
  {
   "cell_type": "code",
   "execution_count": 15,
   "metadata": {},
   "outputs": [
    {
     "data": {
      "text/plain": [
       "<Response [404]>"
      ]
     },
     "execution_count": 15,
     "metadata": {},
     "output_type": "execute_result"
    }
   ],
   "source": [
    "bad_response = requests.get(\"https://www.gutenberg.org/cache/epub/4791/page4791.txt\")\n",
    "bad_response"
   ]
  },
  {
   "cell_type": "markdown",
   "metadata": {},
   "source": [
    "![404](./img/bad_response.png)"
   ]
  },
  {
   "cell_type": "markdown",
   "metadata": {},
   "source": [
    "### Extract Text From Web Page"
   ]
  },
  {
   "cell_type": "markdown",
   "metadata": {},
   "source": [
    "To actually get at the text data in the reponse, we need to use [`.text` property](https://requests.readthedocs.io/en/latest/api/#requests.Response.text), which we will save in a variable called `text_string`.\n",
    "\n",
    "Project Gutenberg provides here a version of the novel in plain text format (what's convenient from a pedagogical point of view). But more often, the text data that we're getting on the Web is formatted in the HTML markup language, which we will talk more about in the BeautifulSoup section below."
   ]
  },
  {
   "cell_type": "code",
   "execution_count": 16,
   "metadata": {},
   "outputs": [],
   "source": [
    "text_string = response.text"
   ]
  },
  {
   "cell_type": "markdown",
   "metadata": {},
   "source": [
    "Here's the text of the novel now in a variable."
   ]
  },
  {
   "cell_type": "code",
   "execution_count": null,
   "metadata": {
    "scrolled": true,
    "tags": [
     "output_scroll"
    ]
   },
   "outputs": [],
   "source": [
    "print(text_string)"
   ]
  },
  {
   "cell_type": "markdown",
   "metadata": {},
   "source": [
    "### Extract Text From Multiple Web Pages"
   ]
  },
  {
   "cell_type": "markdown",
   "metadata": {},
   "source": [
    "Repeating the operation for each novel would be tedious… Let's see how we can extract the text for every URL in the DataFrame at once. To do so, we're going to create a smaller DataFrame containing the first 10 novels –fewer processings for the demonstration and the planet…"
   ]
  },
  {
   "cell_type": "code",
   "execution_count": 18,
   "metadata": {},
   "outputs": [],
   "source": [
    "sample_urls = urls[:10]"
   ]
  },
  {
   "cell_type": "markdown",
   "metadata": {},
   "source": [
    "We're going to make a function called `scrape_novel()` that includes our `requests.get()` and `response.text` code."
   ]
  },
  {
   "cell_type": "code",
   "execution_count": 19,
   "metadata": {},
   "outputs": [],
   "source": [
    "def scrape_novel(url):\n",
    "    response = requests.get(url)\n",
    "    html_string = response.text\n",
    "    return html_string"
   ]
  },
  {
   "cell_type": "markdown",
   "metadata": {},
   "source": [
    "Then we're going apply it to the \"url\" column of the DataFrame and create a new \"text\" column for the resulting extracted text."
   ]
  },
  {
   "cell_type": "code",
   "execution_count": null,
   "metadata": {},
   "outputs": [],
   "source": [
    "sample_urls['text'] = sample_urls['url'].apply(scrape_novel)"
   ]
  },
  {
   "cell_type": "code",
   "execution_count": 21,
   "metadata": {},
   "outputs": [
    {
     "data": {
      "text/html": [
       "<div>\n",
       "<style scoped>\n",
       "    .dataframe tbody tr th:only-of-type {\n",
       "        vertical-align: middle;\n",
       "    }\n",
       "\n",
       "    .dataframe tbody tr th {\n",
       "        vertical-align: top;\n",
       "    }\n",
       "\n",
       "    .dataframe thead th {\n",
       "        text-align: right;\n",
       "    }\n",
       "</style>\n",
       "<table border=\"1\" class=\"dataframe\">\n",
       "  <thead>\n",
       "    <tr style=\"text-align: right;\">\n",
       "      <th></th>\n",
       "      <th>Etext-No.</th>\n",
       "      <th>Author</th>\n",
       "      <th>Title</th>\n",
       "      <th>url</th>\n",
       "      <th>Language</th>\n",
       "      <th>text</th>\n",
       "    </tr>\n",
       "  </thead>\n",
       "  <tbody>\n",
       "    <tr>\n",
       "      <th>0</th>\n",
       "      <td>26823</td>\n",
       "      <td>Verne, Jules, 1828-1905</td>\n",
       "      <td>Michel Strogoff: Pièce à grand spectacle en 5 ...</td>\n",
       "      <td>https://www.gutenberg.org/cache/epub/26823/pg2...</td>\n",
       "      <td>fr</td>\n",
       "      <td>﻿Project Gutenberg's Michel Strogoff, by Jules...</td>\n",
       "    </tr>\n",
       "    <tr>\n",
       "      <th>1</th>\n",
       "      <td>800</td>\n",
       "      <td>Verne, Jules, 1828-1905</td>\n",
       "      <td>Le tour du monde en quatre-vingts jours</td>\n",
       "      <td>https://www.gutenberg.org/cache/epub/800/pg800...</td>\n",
       "      <td>fr</td>\n",
       "      <td>﻿The Project Gutenberg EBook of Le Tour du Mon...</td>\n",
       "    </tr>\n",
       "    <tr>\n",
       "      <th>2</th>\n",
       "      <td>3456</td>\n",
       "      <td>Verne, Jules, 1828-1905</td>\n",
       "      <td>Le tour du monde en quatre-vingts jours</td>\n",
       "      <td>https://www.gutenberg.org/cache/epub/3456/pg34...</td>\n",
       "      <td>fr</td>\n",
       "      <td>﻿The Project Gutenberg Etext of Tour Du Mond 8...</td>\n",
       "    </tr>\n",
       "  </tbody>\n",
       "</table>\n",
       "</div>"
      ],
      "text/plain": [
       "   Etext-No.                   Author  \\\n",
       "0      26823  Verne, Jules, 1828-1905   \n",
       "1        800  Verne, Jules, 1828-1905   \n",
       "2       3456  Verne, Jules, 1828-1905   \n",
       "\n",
       "                                               Title  \\\n",
       "0  Michel Strogoff: Pièce à grand spectacle en 5 ...   \n",
       "1            Le tour du monde en quatre-vingts jours   \n",
       "2            Le tour du monde en quatre-vingts jours   \n",
       "\n",
       "                                                 url Language  \\\n",
       "0  https://www.gutenberg.org/cache/epub/26823/pg2...       fr   \n",
       "1  https://www.gutenberg.org/cache/epub/800/pg800...       fr   \n",
       "2  https://www.gutenberg.org/cache/epub/3456/pg34...       fr   \n",
       "\n",
       "                                                text  \n",
       "0  ﻿Project Gutenberg's Michel Strogoff, by Jules...  \n",
       "1  ﻿The Project Gutenberg EBook of Le Tour du Mon...  \n",
       "2  ﻿The Project Gutenberg Etext of Tour Du Mond 8...  "
      ]
     },
     "execution_count": 21,
     "metadata": {},
     "output_type": "execute_result"
    }
   ],
   "source": [
    "sample_urls.head(3)"
   ]
  },
  {
   "cell_type": "markdown",
   "metadata": {},
   "source": [
    "The DataFrame above is truncated, so we can't see the full contents of the \"text\" column. But if we print out every row in the column, we can see that we successfully extracted text for each URL (though some of these URLs returned 404 errors)."
   ]
  },
  {
   "cell_type": "code",
   "execution_count": null,
   "metadata": {
    "scrolled": true,
    "tags": [
     "output_scroll"
    ]
   },
   "outputs": [],
   "source": [
    "print(sample_urls.iloc[4]['text'])"
   ]
  },
  {
   "cell_type": "markdown",
   "metadata": {},
   "source": [
    "It's simple and easy! However, that plain text format poses a few problems. It is not possible to automatically distinguish the Jules Verne text from the metadata and editorial paratext. Likewise, all the credit references at the end of the transcription are mixed in with the text, which can skew the analysis.\n",
    "\n",
    "We need a more structured format that allows us to distinguish between the author's text, the metadata and the editorial paratext."
   ]
  },
  {
   "cell_type": "markdown",
   "metadata": {},
   "source": [
    "## Web Scraping"
   ]
  },
  {
   "cell_type": "markdown",
   "metadata": {},
   "source": [
    "Not all web pages will be as easy to scrape as these Gutenberg project plain text files, however. Let's say we wanted to scrape the lyrics for NTM's song \"[On est encore là](https://genius.com/Supreme-ntm-on-est-encore-la-lyrics)\" (1998) from Genius.com.\n",
    "\n",
    "NB. The teaching sequence is by Mélanie Walsh, and has been updated as the data model has evolved..."
   ]
  },
  {
   "cell_type": "markdown",
   "metadata": {},
   "source": [
    "<img src=\"./img/ntm.png\" class=\"center\" >"
   ]
  },
  {
   "cell_type": "markdown",
   "metadata": {},
   "source": [
    "Even at a glance, we can tell that this *Genius* web page is a lot more complicated than the *Gutengerg project* page and that it contains a lot of information beyond the lyrics.\n",
    "\n",
    "Sure enough, if we use our requests library again and try to grab the data for this web page, the underlying data is much more complicated, too."
   ]
  },
  {
   "cell_type": "code",
   "execution_count": 6,
   "metadata": {
    "scrolled": true,
    "tags": [
     "output_scroll",
     "hide-output"
    ]
   },
   "outputs": [
    {
     "ename": "NameError",
     "evalue": "name 'requests' is not defined",
     "output_type": "error",
     "traceback": [
      "\u001b[0;31m---------------------------------------------------------------------------\u001b[0m",
      "\u001b[0;31mNameError\u001b[0m                                 Traceback (most recent call last)",
      "Cell \u001b[0;32mIn[6], line 1\u001b[0m\n\u001b[0;32m----> 1\u001b[0m response \u001b[38;5;241m=\u001b[39m \u001b[43mrequests\u001b[49m\u001b[38;5;241m.\u001b[39mget(\u001b[38;5;124m\"\u001b[39m\u001b[38;5;124mhttps://genius.com/Supreme-ntm-on-est-encore-la-lyrics\u001b[39m\u001b[38;5;124m\"\u001b[39m)\n\u001b[1;32m      2\u001b[0m html_string \u001b[38;5;241m=\u001b[39m response\u001b[38;5;241m.\u001b[39mtext\n\u001b[1;32m      3\u001b[0m \u001b[38;5;28mprint\u001b[39m(html_string)\n",
      "\u001b[0;31mNameError\u001b[0m: name 'requests' is not defined"
     ]
    }
   ],
   "source": [
    "response = requests.get(\"https://genius.com/Supreme-ntm-on-est-encore-la-lyrics\")\n",
    "html_string = response.text\n",
    "print(html_string)"
   ]
  },
  {
   "cell_type": "markdown",
   "metadata": {},
   "source": [
    "How can we extract just the song lyrics from this messy soup of a document? Luckily there's a Python library that can help us called [BeautifulSoup](https://beautiful-soup-4.readthedocs.io/en/latest/), which parses HTML documents.\n",
    "\n",
    "To understand BeautifulSoup and HTML, we're going to take things one step at a time. We'll start with a very simple example (beginner level) to understand the basic structure of an HTML page. Next, we'll go back to the Jules Verne novels available on Project Gutenberg (intermediate level) before trying to automatically extract the lyrics to the NTM song (advanced level)."
   ]
  },
  {
   "cell_type": "markdown",
   "metadata": {},
   "source": [
    "### HTML5"
   ]
  },
  {
   "cell_type": "markdown",
   "metadata": {},
   "source": [
    "This [Singers' singers webpage](todolink) is adapted from Parrish's website titled \"[Kittens and the TV Shows They Love](http://static.decontextualize.com/kittens.html)\" made for the purposes of teaching BeautifulSoup.\n",
    "\n",
    "Instant geek: thanks to IPython's [core.display module](https://ipython.org/ipython-doc/2/api/generated/IPython.core.display.html), it's even possible to display the content of a web page in a notebook."
   ]
  },
  {
   "cell_type": "code",
   "execution_count": 23,
   "metadata": {},
   "outputs": [
    {
     "data": {
      "text/html": [
       "<!doctype html>\n",
       "<html>\n",
       "  <head>\n",
       "    <title>Singers' singers</title>\n",
       "  </head>\n",
       "  <body>\n",
       "    <h1>Singers' singers</h1>\n",
       "    <p class=\"subtitle\">Singers and the Singers They Love</p>\n",
       "    <div class=\"singer\">\n",
       "      <h2>Iggy Pop</h2>\n",
       "      <div><img src=\"https://upload.wikimedia.org/wikipedia/commons/thumb/e/e8/Iggy_Pop_HS_Yearbook.jpeg/170px-Iggy_Pop_HS_Yearbook.jpeg\"></div>\n",
       "      <ul class=\"idols\">\n",
       "        <li><a href=\"https://en.wikipedia.org/wiki/Frank_Sinatra\">Frank Sinatra</a></li>\n",
       "        <li><a href=\"https://en.wikipedia.org/wiki/Jim_Morrison\">Jim Morrison</a></li>\n",
       "      </ul>\n",
       "      Last check-up: <span class=\"lastcheckup\">2023-05-30</span>\n",
       "    </div>\n",
       "    <div class=\"singer\">\n",
       "      <h2>Joe Strummer</h2>\n",
       "      <div><img src=\"https://upload.wikimedia.org/wikipedia/commons/6/63/Joe_strummer_1999.jpg\"></div>\n",
       "      <ul class=\"idols\">\n",
       "        <li><a href=\"https://en.wikipedia.org/wiki/Johnny_Cash\">Johnny Cash</a></li>\n",
       "        <li><a href=\"https://en.wikipedia.org/wiki/John_Lydon\">John Lydon</a></li>\n",
       "      </ul>\n",
       "      Last check-up: <span class=\"lastcheckup\">2023-06-01</span>\n",
       "    </div>\n",
       "  </body>\n",
       "</html>"
      ],
      "text/plain": [
       "<IPython.core.display.HTML object>"
      ]
     },
     "metadata": {},
     "output_type": "display_data"
    }
   ],
   "source": [
    "from IPython.display import display, HTML\n",
    "response = requests.get(\"https://raw.githubusercontent.com/architexte/cours-data-processing/main/data/punk.html\")\n",
    "html_string = response.text\n",
    "display(HTML(html_string))"
   ]
  },
  {
   "cell_type": "markdown",
   "metadata": {},
   "source": [
    "Let's take a look at the structure of this HTML page:"
   ]
  },
  {
   "cell_type": "code",
   "execution_count": 25,
   "metadata": {},
   "outputs": [
    {
     "name": "stdout",
     "output_type": "stream",
     "text": [
      "<!doctype html>\n",
      "<html>\n",
      "  <head>\n",
      "    <title>Singers' singers</title>\n",
      "  </head>\n",
      "  <body>\n",
      "    <h1>Singers' singers</h1>\n",
      "    <p class=\"subtitle\">Singers and the Singers They Love</p>\n",
      "    <div class=\"singer\">\n",
      "      <h2>Iggy Pop</h2>\n",
      "      <div><img src=\"https://upload.wikimedia.org/wikipedia/commons/thumb/e/e8/Iggy_Pop_HS_Yearbook.jpeg/170px-Iggy_Pop_HS_Yearbook.jpeg\"></div>\n",
      "      <ul class=\"idols\">\n",
      "        <li><a href=\"https://en.wikipedia.org/wiki/Frank_Sinatra\">Frank Sinatra</a></li>\n",
      "        <li><a href=\"https://en.wikipedia.org/wiki/Jim_Morrison\">Jim Morrison</a></li>\n",
      "      </ul>\n",
      "      Last check-up: <span class=\"lastcheckup\">2023-05-30</span>\n",
      "    </div>\n",
      "    <div class=\"singer\">\n",
      "      <h2>Joe Strummer</h2>\n",
      "      <div><img src=\"https://upload.wikimedia.org/wikipedia/commons/6/63/Joe_strummer_1999.jpg\"></div>\n",
      "      <ul class=\"idols\">\n",
      "        <li><a href=\"https://en.wikipedia.org/wiki/Johnny_Cash\">Johnny Cash</a></li>\n",
      "        <li><a href=\"https://en.wikipedia.org/wiki/John_Lydon\">John Lydon</a></li>\n",
      "      </ul>\n",
      "      Last check-up: <span class=\"lastcheckup\">2023-06-01</span>\n",
      "    </div>\n",
      "  </body>\n",
      "</html>\n"
     ]
    }
   ],
   "source": [
    "print(html_string)"
   ]
  },
  {
   "cell_type": "markdown",
   "metadata": {},
   "source": [
    "#### HTML Tags"
   ]
  },
  {
   "cell_type": "markdown",
   "metadata": {},
   "source": [
    "HTML stands for HyperText Markup Language. It is the standard language for writing web page documents. The most important thing you need to know about HTML is that the language uses HTML \"tags\" to represent different elements, such as a main header `<h1>`. "
   ]
  },
  {
   "cell_type": "markdown",
   "metadata": {},
   "source": [
    "| HTML Tag                | Explanation                              |\n",
    "|--------------------|-------------------------------------------|\n",
    "| <\\!DOCTYPE>        | Defines document type                 |\n",
    "| <html\\>             | Root of the HTML document                  |\n",
    "| <head\\>             | Metadata about document    |\n",
    "| <title\\>            | Title for document          |\n",
    "| <body\\>             | Document body               |\n",
    "| <h1\\> to <h6\\>       |  Headings                    |\n",
    "| <div\\> | Bloc section in a document                   |\n",
    "| <p\\>                | Paragraph                       |\n",
    "| <ul\\> | Unordered list                     |\n",
    "| <ol\\> | Ordered list                     |\n",
    "| <li\\> | List item                     |\n",
    "| <br\\>               | Line break               |\n",
    "| <a\\> | Hyperlink                       |\n",
    "| <img\\> | Image                         |\n",
    "| <span\\> | Inline section in a document                   |\n",
    "| <\\!\\-\\-comment here-\\-> | Comment                         |"
   ]
  },
  {
   "cell_type": "markdown",
   "metadata": {},
   "source": [
    "HTML tags often, but not always, require a \"closing\" tag. For example, the main header \"Kittens and the TV Shows They Love\" will be surrounded by `<h1>` (opening tag) and `</h1>` (closing tag) on either side: `<h1>Singers' singers</h1>`"
   ]
  },
  {
   "cell_type": "markdown",
   "metadata": {},
   "source": [
    "#### HTML Attributes, Classes, and IDs"
   ]
  },
  {
   "cell_type": "markdown",
   "metadata": {},
   "source": [
    "HTML elements sometimes come with even more information inside a tag. This will often be a keyword (like `class` or `id`) followed by an equals sign `=` and a further descriptor such as `<div class=\"iggy\">`.\n",
    "\n",
    "We need to know about tags as well as attributes, classes, and IDs because this is how we're going to extract specific HTML data with BeautifulSoup."
   ]
  },
  {
   "cell_type": "markdown",
   "metadata": {},
   "source": [
    "### BeautifulSoup (Singers’ singers)"
   ]
  },
  {
   "cell_type": "code",
   "execution_count": 8,
   "metadata": {},
   "outputs": [],
   "source": [
    "from bs4 import BeautifulSoup"
   ]
  },
  {
   "cell_type": "markdown",
   "metadata": {},
   "source": [
    "To make a BeautifulSoup document, we call `BeautifulSoup()` with two parameters: the `html_string` from our HTTP request and [the kind of parser](https://www.crummy.com/software/BeautifulSoup/bs4/doc/#specifying-the-parser-to-use) that we want to use, which will always be `\"html.parser\"` for our purposes."
   ]
  },
  {
   "cell_type": "code",
   "execution_count": 10,
   "metadata": {},
   "outputs": [],
   "source": [
    "response = requests.get(\"https://raw.githubusercontent.com/architexte/cours-data-processing/main/data/punk.html\")\n",
    "html_string = response.text\n",
    "document = BeautifulSoup(html_string, \"html.parser\")"
   ]
  },
  {
   "cell_type": "code",
   "execution_count": 11,
   "metadata": {},
   "outputs": [
    {
     "name": "stdout",
     "output_type": "stream",
     "text": [
      "<class 'bs4.BeautifulSoup'>\n"
     ]
    }
   ],
   "source": [
    "print(type(document))"
   ]
  },
  {
   "cell_type": "code",
   "execution_count": 12,
   "metadata": {},
   "outputs": [
    {
     "data": {
      "text/plain": [
       "<!DOCTYPE html>\n",
       "\n",
       "<html>\n",
       "<head>\n",
       "<title>Singers' singers</title>\n",
       "</head>\n",
       "<body>\n",
       "<h1>Singers' singers</h1>\n",
       "<p class=\"subtitle\">Singers and the Singers They Love</p>\n",
       "<div class=\"singer\">\n",
       "<h2>Iggy Pop</h2>\n",
       "<div><img src=\"https://upload.wikimedia.org/wikipedia/commons/thumb/e/e8/Iggy_Pop_HS_Yearbook.jpeg/170px-Iggy_Pop_HS_Yearbook.jpeg\"/></div>\n",
       "<ul class=\"idols\">\n",
       "<li><a href=\"https://en.wikipedia.org/wiki/Frank_Sinatra\">Frank Sinatra</a></li>\n",
       "<li><a href=\"https://en.wikipedia.org/wiki/Jim_Morrison\">Jim Morrison</a></li>\n",
       "</ul>\n",
       "      Last check-up: <span class=\"lastcheckup\">2023-05-30</span>\n",
       "</div>\n",
       "<div class=\"singer\">\n",
       "<h2>Joe Strummer</h2>\n",
       "<div><img src=\"https://upload.wikimedia.org/wikipedia/commons/6/63/Joe_strummer_1999.jpg\"/></div>\n",
       "<ul class=\"idols\">\n",
       "<li><a href=\"https://en.wikipedia.org/wiki/Johnny_Cash\">Johnny Cash</a></li>\n",
       "<li><a href=\"https://en.wikipedia.org/wiki/John_Lydon\">John Lydon</a></li>\n",
       "</ul>\n",
       "      Last check-up: <span class=\"lastcheckup\">2023-06-01</span>\n",
       "</div>\n",
       "</body>\n",
       "</html>"
      ]
     },
     "execution_count": 12,
     "metadata": {},
     "output_type": "execute_result"
    }
   ],
   "source": [
    "document"
   ]
  },
  {
   "cell_type": "markdown",
   "metadata": {},
   "source": [
    "#### Extract HTML Element"
   ]
  },
  {
   "cell_type": "markdown",
   "metadata": {},
   "source": [
    "We can use the [`.find()` method](https://www.crummy.com/software/BeautifulSoup/bs4/doc/#find) to find and extract certain elements, such as a main header."
   ]
  },
  {
   "cell_type": "code",
   "execution_count": 13,
   "metadata": {},
   "outputs": [
    {
     "data": {
      "text/plain": [
       "<h1>Singers' singers</h1>"
      ]
     },
     "execution_count": 13,
     "metadata": {},
     "output_type": "execute_result"
    }
   ],
   "source": [
    "document.find(\"h1\")"
   ]
  },
  {
   "cell_type": "markdown",
   "metadata": {},
   "source": [
    "If we want only the text contained between those tags, we can use `.text` to extract just the text."
   ]
  },
  {
   "cell_type": "code",
   "execution_count": 14,
   "metadata": {},
   "outputs": [
    {
     "data": {
      "text/plain": [
       "\"Singers' singers\""
      ]
     },
     "execution_count": 14,
     "metadata": {},
     "output_type": "execute_result"
    }
   ],
   "source": [
    "document.find(\"h1\").text"
   ]
  },
  {
   "cell_type": "code",
   "execution_count": 15,
   "metadata": {},
   "outputs": [
    {
     "data": {
      "text/plain": [
       "str"
      ]
     },
     "execution_count": 15,
     "metadata": {},
     "output_type": "execute_result"
    }
   ],
   "source": [
    "type(document.find(\"h1\").text)"
   ]
  },
  {
   "cell_type": "markdown",
   "metadata": {},
   "source": [
    "Find the HTML element that contains an image."
   ]
  },
  {
   "cell_type": "code",
   "execution_count": 16,
   "metadata": {
    "tags": [
     "hide-output"
    ]
   },
   "outputs": [
    {
     "data": {
      "text/plain": [
       "<img src=\"https://upload.wikimedia.org/wikipedia/commons/thumb/e/e8/Iggy_Pop_HS_Yearbook.jpeg/170px-Iggy_Pop_HS_Yearbook.jpeg\"/>"
      ]
     },
     "execution_count": 16,
     "metadata": {},
     "output_type": "execute_result"
    }
   ],
   "source": [
    "document.find(\"img\")"
   ]
  },
  {
   "cell_type": "code",
   "execution_count": 17,
   "metadata": {},
   "outputs": [
    {
     "data": {
      "text/plain": [
       "'https://upload.wikimedia.org/wikipedia/commons/thumb/e/e8/Iggy_Pop_HS_Yearbook.jpeg/170px-Iggy_Pop_HS_Yearbook.jpeg'"
      ]
     },
     "execution_count": 17,
     "metadata": {},
     "output_type": "execute_result"
    }
   ],
   "source": [
    "document.find(\"img\")['src']"
   ]
  },
  {
   "cell_type": "markdown",
   "metadata": {},
   "source": [
    "**The `.find()` method returns only one result** (the first one).  \n",
    "However, we may wish to obtain a list of all the images called up in the page."
   ]
  },
  {
   "cell_type": "markdown",
   "metadata": {},
   "source": [
    "#### Extract Multiple HTML Elements"
   ]
  },
  {
   "cell_type": "markdown",
   "metadata": {},
   "source": [
    "You can also extract multiple HTML elements at a time with the [`.find_all()` method](https://www.crummy.com/software/BeautifulSoup/bs4/doc/#find-all) that returns a list."
   ]
  },
  {
   "cell_type": "code",
   "execution_count": 18,
   "metadata": {},
   "outputs": [
    {
     "data": {
      "text/plain": [
       "[<img src=\"https://upload.wikimedia.org/wikipedia/commons/thumb/e/e8/Iggy_Pop_HS_Yearbook.jpeg/170px-Iggy_Pop_HS_Yearbook.jpeg\"/>,\n",
       " <img src=\"https://upload.wikimedia.org/wikipedia/commons/6/63/Joe_strummer_1999.jpg\"/>]"
      ]
     },
     "execution_count": 18,
     "metadata": {},
     "output_type": "execute_result"
    }
   ],
   "source": [
    "document.find_all(\"img\")"
   ]
  },
  {
   "cell_type": "markdown",
   "metadata": {},
   "source": [
    "With Python, it's easy to use a `for` loop to go through the list:"
   ]
  },
  {
   "cell_type": "code",
   "execution_count": 19,
   "metadata": {},
   "outputs": [
    {
     "name": "stdout",
     "output_type": "stream",
     "text": [
      "https://upload.wikimedia.org/wikipedia/commons/thumb/e/e8/Iggy_Pop_HS_Yearbook.jpeg/170px-Iggy_Pop_HS_Yearbook.jpeg\n",
      "https://upload.wikimedia.org/wikipedia/commons/6/63/Joe_strummer_1999.jpg\n"
     ]
    }
   ],
   "source": [
    "for img in document.find_all(\"img\"):\n",
    "    print(img['src'])"
   ]
  },
  {
   "cell_type": "markdown",
   "metadata": {},
   "source": [
    "It's possible to extract a serie of elements according to the value of their attributes (here, `div` whose class attribute value is `singer`)."
   ]
  },
  {
   "cell_type": "code",
   "execution_count": 20,
   "metadata": {
    "tags": [
     "hide-output"
    ]
   },
   "outputs": [
    {
     "data": {
      "text/plain": [
       "[<div class=\"singer\">\n",
       " <h2>Iggy Pop</h2>\n",
       " <div><img src=\"https://upload.wikimedia.org/wikipedia/commons/thumb/e/e8/Iggy_Pop_HS_Yearbook.jpeg/170px-Iggy_Pop_HS_Yearbook.jpeg\"/></div>\n",
       " <ul class=\"idols\">\n",
       " <li><a href=\"https://en.wikipedia.org/wiki/Frank_Sinatra\">Frank Sinatra</a></li>\n",
       " <li><a href=\"https://en.wikipedia.org/wiki/Jim_Morrison\">Jim Morrison</a></li>\n",
       " </ul>\n",
       "       Last check-up: <span class=\"lastcheckup\">2023-05-30</span>\n",
       " </div>,\n",
       " <div class=\"singer\">\n",
       " <h2>Joe Strummer</h2>\n",
       " <div><img src=\"https://upload.wikimedia.org/wikipedia/commons/6/63/Joe_strummer_1999.jpg\"/></div>\n",
       " <ul class=\"idols\">\n",
       " <li><a href=\"https://en.wikipedia.org/wiki/Johnny_Cash\">Johnny Cash</a></li>\n",
       " <li><a href=\"https://en.wikipedia.org/wiki/John_Lydon\">John Lydon</a></li>\n",
       " </ul>\n",
       "       Last check-up: <span class=\"lastcheckup\">2023-06-01</span>\n",
       " </div>]"
      ]
     },
     "execution_count": 20,
     "metadata": {},
     "output_type": "execute_result"
    }
   ],
   "source": [
    "document.find_all(\"div\", attrs={\"class\": \"singer\"})"
   ]
  },
  {
   "cell_type": "code",
   "execution_count": 21,
   "metadata": {},
   "outputs": [
    {
     "data": {
      "text/plain": [
       "'Iggy Pop'"
      ]
     },
     "execution_count": 21,
     "metadata": {},
     "output_type": "execute_result"
    }
   ],
   "source": [
    "document.find(\"h2\").text"
   ]
  },
  {
   "cell_type": "code",
   "execution_count": 22,
   "metadata": {},
   "outputs": [
    {
     "data": {
      "text/plain": [
       "[<h2>Iggy Pop</h2>, <h2>Joe Strummer</h2>]"
      ]
     },
     "execution_count": 22,
     "metadata": {},
     "output_type": "execute_result"
    }
   ],
   "source": [
    "document.find_all(\"h2\")"
   ]
  },
  {
   "cell_type": "markdown",
   "metadata": {},
   "source": [
    "``` {warning}\n",
    "Heads up! The code below will cause an error.\n",
    "```\n",
    "Let's try to extract the text from all the header2 elements:"
   ]
  },
  {
   "cell_type": "code",
   "execution_count": 40,
   "metadata": {
    "tags": [
     "hide-output"
    ]
   },
   "outputs": [
    {
     "ename": "AttributeError",
     "evalue": "ResultSet object has no attribute 'text'. You're probably treating a list of elements like a single element. Did you call find_all() when you meant to call find()?",
     "output_type": "error",
     "traceback": [
      "\u001b[0;31m---------------------------------------------------------------------------\u001b[0m",
      "\u001b[0;31mAttributeError\u001b[0m                            Traceback (most recent call last)",
      "Cell \u001b[0;32mIn[40], line 1\u001b[0m\n\u001b[0;32m----> 1\u001b[0m \u001b[43mdocument\u001b[49m\u001b[38;5;241;43m.\u001b[39;49m\u001b[43mfind_all\u001b[49m\u001b[43m(\u001b[49m\u001b[38;5;124;43m\"\u001b[39;49m\u001b[38;5;124;43mh2\u001b[39;49m\u001b[38;5;124;43m\"\u001b[39;49m\u001b[43m)\u001b[49m\u001b[38;5;241;43m.\u001b[39;49m\u001b[43mtext\u001b[49m\n",
      "File \u001b[0;32m~/opt/anaconda3/envs/sassari/lib/python3.9/site-packages/bs4/element.py:2428\u001b[0m, in \u001b[0;36mResultSet.__getattr__\u001b[0;34m(self, key)\u001b[0m\n\u001b[1;32m   2426\u001b[0m \u001b[38;5;28;01mdef\u001b[39;00m \u001b[38;5;21m__getattr__\u001b[39m(\u001b[38;5;28mself\u001b[39m, key):\n\u001b[1;32m   2427\u001b[0m     \u001b[38;5;124;03m\"\"\"Raise a helpful exception to explain a common code fix.\"\"\"\u001b[39;00m\n\u001b[0;32m-> 2428\u001b[0m     \u001b[38;5;28;01mraise\u001b[39;00m \u001b[38;5;167;01mAttributeError\u001b[39;00m(\n\u001b[1;32m   2429\u001b[0m         \u001b[38;5;124m\"\u001b[39m\u001b[38;5;124mResultSet object has no attribute \u001b[39m\u001b[38;5;124m'\u001b[39m\u001b[38;5;132;01m%s\u001b[39;00m\u001b[38;5;124m'\u001b[39m\u001b[38;5;124m. You\u001b[39m\u001b[38;5;124m'\u001b[39m\u001b[38;5;124mre probably treating a list of elements like a single element. Did you call find_all() when you meant to call find()?\u001b[39m\u001b[38;5;124m\"\u001b[39m \u001b[38;5;241m%\u001b[39m key\n\u001b[1;32m   2430\u001b[0m     )\n",
      "\u001b[0;31mAttributeError\u001b[0m: ResultSet object has no attribute 'text'. You're probably treating a list of elements like a single element. Did you call find_all() when you meant to call find()?"
     ]
    }
   ],
   "source": [
    "document.find_all(\"h2\").text"
   ]
  },
  {
   "cell_type": "markdown",
   "metadata": {},
   "source": [
    "That didn't work! In order to extract text data from multiple HTML elements, we need a `for` loop and some list-building."
   ]
  },
  {
   "cell_type": "code",
   "execution_count": 43,
   "metadata": {},
   "outputs": [
    {
     "data": {
      "text/plain": [
       "[<h2>Iggy Pop</h2>, <h2>Joe Strummer</h2>]"
      ]
     },
     "execution_count": 43,
     "metadata": {},
     "output_type": "execute_result"
    }
   ],
   "source": [
    "all_h2_headers = document.find_all(\"h2\")\n",
    "all_h2_headers"
   ]
  },
  {
   "cell_type": "markdown",
   "metadata": {},
   "source": [
    "First we will make an empty list called `h2_headers`.\n",
    "\n",
    "Then `for` each `header` in `all_h2_headers`, we will grab the `.text`, put it into a variable called `header_contents`, then `.append()` it to our `h2_headers` list."
   ]
  },
  {
   "cell_type": "code",
   "execution_count": 44,
   "metadata": {},
   "outputs": [],
   "source": [
    "h2_headers = []\n",
    "for header in all_h2_headers:\n",
    "    header_contents = header.text\n",
    "    h2_headers.append(header_contents)"
   ]
  },
  {
   "cell_type": "code",
   "execution_count": 45,
   "metadata": {},
   "outputs": [
    {
     "data": {
      "text/plain": [
       "['Iggy Pop', 'Joe Strummer']"
      ]
     },
     "execution_count": 45,
     "metadata": {},
     "output_type": "execute_result"
    }
   ],
   "source": [
    "h2_headers"
   ]
  },
  {
   "cell_type": "markdown",
   "metadata": {},
   "source": [
    "You can produce the same result in a more \"pythonic\" way by using a **list comprehension** (shorter syntax):"
   ]
  },
  {
   "cell_type": "code",
   "execution_count": 46,
   "metadata": {
    "tags": [
     "hide-cell"
    ]
   },
   "outputs": [
    {
     "data": {
      "text/plain": [
       "['Iggy Pop', 'Joe Strummer']"
      ]
     },
     "execution_count": 46,
     "metadata": {},
     "output_type": "execute_result"
    }
   ],
   "source": [
    "h2_headers = [header.text for header in all_h2_headers]\n",
    "h2_headers"
   ]
  },
  {
   "cell_type": "markdown",
   "metadata": {},
   "source": [
    "#### Inspect HTML Elements with Browser"
   ]
  },
  {
   "cell_type": "markdown",
   "metadata": {},
   "source": [
    "Most times if you're looking to extract something from an HTML document, it's best to use your \"Inspect\" capabilities in your web browser. You can hover over elements that you're interested in and find that specific element in the HTML."
   ]
  },
  {
   "cell_type": "markdown",
   "metadata": {},
   "source": [
    "<img src=\"./img/inspect1.png\" width=\"700px\">"
   ]
  },
  {
   "cell_type": "markdown",
   "metadata": {},
   "source": [
    "For example, if we hover over the main link \"Johnny Cash\":\n",
    "\n",
    "<img src=\"./img/inspect2.png\" width=\"700px\" >"
   ]
  },
  {
   "cell_type": "markdown",
   "metadata": {},
   "source": [
    "### Your Turn! (Project Gutenberg)"
   ]
  },
  {
   "cell_type": "markdown",
   "metadata": {},
   "source": [
    "Ok so now we've learned a little bit about how to use BeautifulSoup to parse HTML documents. So how would we apply what we've learned to extract the text of Jules Verne's novels?\n",
    "\n",
    "Project Gutenberg shares its editions in plain text format, but not only. An HTML version is of course also available. It's a little more difficult to process it than the full-text version, but at least we can try to extract metadata and the author's text alone.\n",
    "\n",
    "Let's follow our example of the *Voyage au Centre de la Terre*: https://www.gutenberg.org/cache/epub/4791/pg4791.html.\n",
    "\n",
    "Inspect the page with your browser and try to extract:\n",
    "\n",
    "- the main header of the page\n",
    "- the title of the novel\n",
    "- `p` elements with `id``\n",
    "\n",
    "Finally, try to extract the only text of the novel (the one written by Jules Verne)."
   ]
  },
  {
   "cell_type": "code",
   "execution_count": 47,
   "metadata": {},
   "outputs": [],
   "source": [
    "response = requests.get(\"https://www.gutenberg.org/cache/epub/4791/pg4791.html\")\n",
    "html_string = response.text\n",
    "document = BeautifulSoup(html_string, \"html.parser\")"
   ]
  },
  {
   "cell_type": "code",
   "execution_count": 48,
   "metadata": {},
   "outputs": [
    {
     "data": {
      "text/plain": [
       "<h2 id=\"pg-header-heading\">The Project Gutenberg eBook of <span lang=\"fr\">Voyage au Centre de la Terre</span></h2>"
      ]
     },
     "execution_count": 48,
     "metadata": {},
     "output_type": "execute_result"
    }
   ],
   "source": [
    "# Main header\n",
    "document.find('h2')"
   ]
  },
  {
   "cell_type": "code",
   "execution_count": 49,
   "metadata": {},
   "outputs": [
    {
     "data": {
      "text/plain": [
       "'The Project Gutenberg eBook of Voyage au Centre de la Terre'"
      ]
     },
     "execution_count": 49,
     "metadata": {},
     "output_type": "execute_result"
    }
   ],
   "source": [
    "# Main header text\n",
    "document.find('h2').text"
   ]
  },
  {
   "cell_type": "markdown",
   "metadata": {},
   "source": [
    "No `h1`elmement, it’s a semantic oddity... A closer look reveals that the hierarchy of headings is not even respected (`h5` > `h2`).\n",
    "\n",
    "But note that thanks to BeautifulSoup, you can easily print the text contained in all descendant elements (here `span`). How convenient!"
   ]
  },
  {
   "cell_type": "code",
   "execution_count": 50,
   "metadata": {},
   "outputs": [
    {
     "data": {
      "text/plain": [
       "'VOYAGE  AU  CENTRE DE  LA TERRE'"
      ]
     },
     "execution_count": 50,
     "metadata": {},
     "output_type": "execute_result"
    }
   ],
   "source": [
    "# Title of the novel\n",
    "document.find(\"h5\").text"
   ]
  },
  {
   "cell_type": "code",
   "execution_count": 51,
   "metadata": {},
   "outputs": [
    {
     "data": {
      "text/plain": [
       "<p id=\"id00000\">We thank the Bibliotheque Nationale de France that has made available</p>"
      ]
     },
     "execution_count": 51,
     "metadata": {},
     "output_type": "execute_result"
    }
   ],
   "source": [
    "# First p element with an id attribute\n",
    "document.find(\"p\", {\"id\" : True})"
   ]
  },
  {
   "cell_type": "code",
   "execution_count": 52,
   "metadata": {},
   "outputs": [
    {
     "data": {
      "text/plain": [
       "<p id=\"id02329\">—Explique-toi, mon garçon,</p>"
      ]
     },
     "execution_count": 52,
     "metadata": {},
     "output_type": "execute_result"
    }
   ],
   "source": [
    "# The `p` element whose id value is 'id02329'.\n",
    "document.find(\"p\", {\"id\" : \"id02329\"})"
   ]
  },
  {
   "cell_type": "code",
   "execution_count": 53,
   "metadata": {},
   "outputs": [
    {
     "data": {
      "text/plain": [
       "<p id=\"id00001\" style=\"margin-top: 4em\">the image files at www://gallica.bnf.fr, authorizing the preparation\n",
       "of the etext through OCR.</p>"
      ]
     },
     "execution_count": 53,
     "metadata": {},
     "output_type": "execute_result"
    }
   ],
   "source": [
    "# A `p` element that has an `id` attribute AND a `style` attribute.\n",
    "document.find(\"p\", attrs={\"id\" : True, \"style\" : True})"
   ]
  },
  {
   "cell_type": "code",
   "execution_count": 54,
   "metadata": {},
   "outputs": [
    {
     "data": {
      "text/plain": [
       "<p id=\"id00001\" style=\"margin-top: 4em\">the image files at www://gallica.bnf.fr, authorizing the preparation\n",
       "of the etext through OCR.</p>"
      ]
     },
     "execution_count": 54,
     "metadata": {},
     "output_type": "execute_result"
    }
   ],
   "source": [
    "# Same, compact syntax\n",
    "document.find(\"p\", {\"id\" : True, \"style\" : True})"
   ]
  },
  {
   "cell_type": "code",
   "execution_count": 55,
   "metadata": {},
   "outputs": [
    {
     "data": {
      "text/plain": [
       "[<p id=\"id00000\">We thank the Bibliotheque Nationale de France that has made available</p>,\n",
       " <p id=\"id00001\" style=\"margin-top: 4em\">the image files at www://gallica.bnf.fr, authorizing the preparation\n",
       " of the etext through OCR.</p>,\n",
       " <p id=\"id00002\" style=\"margin-top: 2em\">Nous remercions la Bibliothèque Nationale de France qui a mis à\n",
       " disposition les images dans www://gallica.bnf.fr, et a donné\n",
       " l'authorisation à les utilizer pour préparer ce texte.</p>,\n",
       " <p id=\"id00003\" style=\"margin-top: 4em\">Editorial note: We emphasize with <i>X</i> the runes that Verne emphasizes\n",
       " with serifs, and translitterates with uppecase.</p>,\n",
       " <p id=\"id00004\">Note de l'éditeur: On répresente avec <i>X</i> les runes que Verne relève\n",
       " avec des sérifs, et transcrit avec des maj uscules.</p>,\n",
       " <p id=\"id00005\" style=\"margin-top: 4em\">Jules Verne</p>,\n",
       " <p id=\"id00008\" style=\"margin-top: 2em\">Le 24 mai 1863, un dimanche, mon oncle, le professeur Lidenbrock,\n",
       " revint précipitamment vers sa petite maison située au numéro 19\n",
       " de König-strasse, l'une des plus anciennes rues du vieux quartier\n",
       " de Hambourg.</p>,\n",
       " <p id=\"id00009\">La bonne Marthe dut se croire fort en retard, car le dîner\n",
       " commençait à peine à chanter sur le fourneau de la cuisine.</p>]"
      ]
     },
     "execution_count": 55,
     "metadata": {},
     "output_type": "execute_result"
    }
   ],
   "source": [
    "# List of the 10 first p elements with an id attribute\n",
    "document.find_all(\"p\", {\"id\" : True})[0:8]"
   ]
  },
  {
   "cell_type": "code",
   "execution_count": null,
   "metadata": {},
   "outputs": [],
   "source": [
    "#document.find_all(['p', 'h2', 'h5'])\n",
    "#document.find_all(['p', 'h2', 'h5'], id=True) # relou\n",
    "#document.select('p[id], h2, h5')"
   ]
  },
  {
   "cell_type": "markdown",
   "metadata": {},
   "source": [
    "Better, but we don't want to extract either the acknowledgements (`@id` 'id00000'-'id00002') or the editorial notes (`@id` 'id00003'-'id00005')...  \n",
    "One strategy is to extract only the paragraphs following the novel's title (`h5`):"
   ]
  },
  {
   "cell_type": "code",
   "execution_count": 56,
   "metadata": {},
   "outputs": [
    {
     "data": {
      "text/plain": [
       "[<p id=\"id00008\" style=\"margin-top: 2em\">Le 24 mai 1863, un dimanche, mon oncle, le professeur Lidenbrock,\n",
       " revint précipitamment vers sa petite maison située au numéro 19\n",
       " de König-strasse, l'une des plus anciennes rues du vieux quartier\n",
       " de Hambourg.</p>,\n",
       " <p id=\"id00009\">La bonne Marthe dut se croire fort en retard, car le dîner\n",
       " commençait à peine à chanter sur le fourneau de la cuisine.</p>]"
      ]
     },
     "execution_count": 56,
     "metadata": {},
     "output_type": "execute_result"
    }
   ],
   "source": [
    "start_tag = document.find('h5')\n",
    "start_tag.find_all_next('p')[0:2]"
   ]
  },
  {
   "cell_type": "markdown",
   "metadata": {},
   "source": [
    "We're making progress, but on closer inspection, we realize that we're forgetting the titles (`h2`). You can pass a list of elements to the `find_all_next()` method:"
   ]
  },
  {
   "cell_type": "code",
   "execution_count": 57,
   "metadata": {},
   "outputs": [
    {
     "data": {
      "text/plain": [
       "[<h2 id=\"id00007\" style=\"margin-top: 4em\">I</h2>,\n",
       " <p id=\"id00008\" style=\"margin-top: 2em\">Le 24 mai 1863, un dimanche, mon oncle, le professeur Lidenbrock,\n",
       " revint précipitamment vers sa petite maison située au numéro 19\n",
       " de König-strasse, l'une des plus anciennes rues du vieux quartier\n",
       " de Hambourg.</p>,\n",
       " <p id=\"id00009\">La bonne Marthe dut se croire fort en retard, car le dîner\n",
       " commençait à peine à chanter sur le fourneau de la cuisine.</p>]"
      ]
     },
     "execution_count": 57,
     "metadata": {},
     "output_type": "execute_result"
    }
   ],
   "source": [
    "start_tag = document.find('h5')\n",
    "start_tag.find_all_next(['p', 'h2'])[0:3]"
   ]
  },
  {
   "cell_type": "markdown",
   "metadata": {},
   "source": [
    "All that's left is to save the text in a list, simply with a small loop:"
   ]
  },
  {
   "cell_type": "code",
   "execution_count": 58,
   "metadata": {},
   "outputs": [
    {
     "data": {
      "text/plain": [
       "['I',\n",
       " \"Le 24 mai 1863, un dimanche, mon oncle, le professeur Lidenbrock,\\r\\nrevint précipitamment vers sa petite maison située au numéro 19\\r\\nde König-strasse, l'une des plus anciennes rues du vieux quartier\\r\\nde Hambourg.\",\n",
       " 'La bonne Marthe dut se croire fort en retard, car le dîner\\r\\ncommençait à peine à chanter sur le fourneau de la cuisine.']"
      ]
     },
     "execution_count": 58,
     "metadata": {},
     "output_type": "execute_result"
    }
   ],
   "source": [
    "verne_text_list = []\n",
    "for element in start_tag.find_all_next(['p', 'h2']):\n",
    "    text = element.text\n",
    "    verne_text_list.append(text)\n",
    "verne_text_list[0:3]"
   ]
  },
  {
   "cell_type": "code",
   "execution_count": 59,
   "metadata": {},
   "outputs": [
    {
     "name": "stdout",
     "output_type": "stream",
     "text": [
      "I\n",
      "Le 24 mai 1863, un dimanche, mon oncle, le professeur Lidenbrock,\n",
      "revint précipitamment vers sa petite maison située au numéro 19\n",
      "de König-strasse, l'une des plus anciennes rues du vieux quartier\n",
      "de Hambourg.\n",
      "La bonne Marthe dut se croire fort en retard, car le dîner\n",
      "commençait à peine à chanter sur le fourneau de la cuisine.\n"
     ]
    }
   ],
   "source": [
    "# Otherwise, print it all in a single string.\n",
    "verne_p = document.find_all('p', id=True)\n",
    "for element in start_tag.find_all_next(['p', 'h2'])[0:3]:\n",
    "    print(element.text)"
   ]
  },
  {
   "cell_type": "markdown",
   "metadata": {},
   "source": [
    "**Issue**\n",
    "\n",
    "- find all `p` with id : `document.find_all('p', id=True)`\n",
    "\n",
    "This syntax prohibits the selection of paragraphs with `id` and `h2` without: impossible to write `('[p', id=True, h2])`…  \n",
    "In this case, you can use the `select()` method :\n",
    "\n",
    "- select all `p` with id and all `h2` : ` document.select('p[id], h2')`\n",
    "\n",
    "All you have to do is write:\n",
    "\n",
    "```python\n",
    "verne_text_list = [element.text for element in document.select('p[id], h2, h5')]\n",
    "```"
   ]
  },
  {
   "cell_type": "markdown",
   "metadata": {},
   "source": [
    "**Summary**\n",
    "\n",
    "Thanks to HTML, BeautifulSoup and a little trickery, you can extract Jules Verne's text alone. A little more difficult than with the plain text format, but also more subtle: you manage to separate the author's text from the editorial paratext.\n",
    "\n",
    "Issue: this recipe works for this novel, but what guarantee do we have that it will work for other texts? To automate extractions, we need standardized sources... That's one of the advantages of APIs."
   ]
  },
  {
   "cell_type": "markdown",
   "metadata": {},
   "source": [
    "### Your Turn! (Genius)"
   ]
  },
  {
   "cell_type": "markdown",
   "metadata": {},
   "source": [
    "So how would we apply what we've learned to extract NTM lyrics?\n",
    "\n",
    "https://genius.com/Supreme-ntm-on-est-encore-la-lyrics\n",
    "\n",
    "What HTML element do we need to \"find\" to extract the song lyrics?"
   ]
  },
  {
   "cell_type": "code",
   "execution_count": 60,
   "metadata": {},
   "outputs": [],
   "source": [
    "response = requests.get(\"https://genius.com/Supreme-ntm-on-est-encore-la-lyrics\")\n",
    "html_string = response.text\n",
    "document = BeautifulSoup(html_string, \"html.parser\")"
   ]
  },
  {
   "cell_type": "markdown",
   "metadata": {},
   "source": [
    "What do we have in the `p` elements?"
   ]
  },
  {
   "cell_type": "code",
   "execution_count": 61,
   "metadata": {},
   "outputs": [
    {
     "name": "stdout",
     "output_type": "stream",
     "text": [
      "[<p class=\"HeaderCredits__Label-wx7h8g-2 ghcavQ\">Produced by</p>, <p class=\"SongPage__HeaderSpace-sc-19xhmoi-3 cZZbkS\"></p>, <p>How to Format Lyrics:</p>, <p>To learn more, check out our <a class=\"Link__StyledLink-rwn6i6-0 coFKbX\" font-weight=\"light\" href=\"https://genius.com/Genius-how-to-add-songs-to-genius-annotated\">transcription guide</a> or visit our <a class=\"Link__StyledLink-rwn6i6-0 coFKbX\" font-weight=\"light\" href=\"https://genius.com/transcribers\">transcribers forum</a></p>, <p>Artistes : KoolShen, Joeystarr<br/>\n",
      "Instru :<br/>\n",
      "(I) Madizm<br/>\n",
      "(II) Zoxeakopat<br/>\n",
      "Sample : Whayback – <a data-api_path=\"/songs/8394\" href=\"https://genius.com/Artifacts-whayback-lyrics\" rel=\"noopener\">“Artifacts”</a><br/>\n",
      "Album : <em>Suprême NTM</em> (1998)<br/>\n",
      "[Bad image! Try pasting a different image link!]</p>, <p>Le double morceau de l'album éponyme du Suprême NTM, qui affirme la persévérance du duo dans sa subversion. La version (II) présente le même texte, privé de l'extrait télévisuel faisant office de bridge, sur une instru de Zoxeakopat (des Sages Poètes de la Rue)</p>, <p><a href=\"http://www.youtube.com/watch?v=stI3TkXZ1HE\" rel=\"noopener nofollow\">http://www.youtube.com/watch?v=stI3TkXZ1HE</a></p>]\n"
     ]
    }
   ],
   "source": [
    "ntm_p = document.find_all(\"p\")\n",
    "print(ntm_p)"
   ]
  },
  {
   "cell_type": "markdown",
   "metadata": {},
   "source": [
    "What HTML element do we need to \"find\" to extract the title?"
   ]
  },
  {
   "cell_type": "code",
   "execution_count": 62,
   "metadata": {},
   "outputs": [
    {
     "name": "stdout",
     "output_type": "stream",
     "text": [
      "On est encore là\n"
     ]
    }
   ],
   "source": [
    "print(document.find('h1').text)"
   ]
  },
  {
   "cell_type": "markdown",
   "metadata": {},
   "source": [
    "En inspectant la page, on s’aperçoit que certains éléments `div` ont un attribut `data-lyrics-container`"
   ]
  },
  {
   "cell_type": "code",
   "execution_count": 63,
   "metadata": {},
   "outputs": [
    {
     "name": "stdout",
     "output_type": "stream",
     "text": [
      "[Couplet 1 - KoolShen]Retour en force de l'ordre moral, je veux surtout pas te casser ton moralMais c'est le bordel quand t'entres pas dans leur panel, je suis formelEt reste formé pour ça, nique le CSAC'est pour ça que j'ai gardé ma tenue de combatQue je lâcherai pas mon ton-bâ, fais gaffe à ton dos, protège tes abdosSi tu parles cash de leurs vices, ils te feront pas de cadeauOn nous censure parce que notre culture est trop basanéeQu'on représente pas assez la France du passéC'est carré, on veut nous stopper : ça allaitTant qu'on rappait dans les MJC, mais aujourd'huiLe phénomène a grandi, Dieu merci, je remercieLes jeunes qui rappent sans merci et puis nique sa mère, siOn passe pas dans leurs radios, on fera le tour, c'est pas graveLe plus dur c'était de sortir de la cave et les gens le saventHey, on est encore làPrêt à foutre le souk et tout le monde est ccord-d'a[Refrain - Joeystarr, KoolShen]Non, non ! (hahaha...) On est encore làPrêt à foutre le souk et tout le monde est ccord-d'aNique le CSA ! (hahaha...)\"Fuck that ! I'm above that. I don't play that.\"Non, non ! (hahaha...) On est encore làPrêt à foutre le souk et tout le monde est ccord-d'aNique le CSA ! (hahaha...)\"Fuck that ! I'm above that. I don't play that.\"\n"
     ]
    }
   ],
   "source": [
    "print(document.find('div', {\"data-lyrics-container\": \"true\"}).text)"
   ]
  },
  {
   "cell_type": "markdown",
   "metadata": {},
   "source": [
    "**Issue**. We lose the lines of verse. What can we do? The [`get_text()` method](https://www.crummy.com/software/BeautifulSoup/bs4/doc/#get-text) returns all the text in a document (or beneath a tag) as a single Unicode string and enables to specify a string to be used to join the bits of text together…"
   ]
  },
  {
   "cell_type": "code",
   "execution_count": 64,
   "metadata": {},
   "outputs": [
    {
     "name": "stdout",
     "output_type": "stream",
     "text": [
      "[Couplet 1 - KoolShen]\n",
      "Retour en force de l'ordre moral\n",
      ", je veux surtout pas te casser ton moral\n",
      "Mais c'est le bordel quand t'entres pas dans leur panel\n",
      ", je suis formel\n",
      "Et reste formé pour ça, \n",
      "nique le CSA\n",
      "C'est pour ça que j'ai gardé ma tenue de combat\n",
      "Que je lâcherai pas mon ton-bâ, \n",
      "fais gaffe à ton dos, protège tes abdos\n",
      "Si tu parles cash de leurs vices, ils te feront pas de cadeau\n",
      "On nous censure parce que notre culture est trop basanée\n",
      "Qu'on représente pas assez la France du passé\n",
      "C'est carré, on veut nous stopper : ça allait\n",
      "Tant qu'on rappait dans les MJC\n",
      ", mais aujourd'hui\n",
      "Le phénomène a grandi, Dieu merci, je remercie\n",
      "Les jeunes qui rappent sans merci et puis\n",
      " \n",
      "nique sa mère\n",
      ", si\n",
      "On passe pas dans leurs radios, on fera le tour, c'est pas grave\n",
      "Le plus dur c'était de sortir de la cave et les gens le savent\n",
      "Hey, on est encore là\n",
      "Prêt à foutre le souk et tout le monde est ccord-d'a\n",
      "[Refrain - Joeystarr, KoolShen]\n",
      "Non, non ! (hahaha...) On est encore là\n",
      "Prêt à foutre le souk et tout le monde est ccord-d'a\n",
      "Nique le CSA ! (hahaha...)\n",
      "\"Fuck that ! I'm above that. I don't play that.\"\n",
      "Non, non ! (hahaha...) On est encore là\n",
      "Prêt à foutre le souk et tout le monde est ccord-d'a\n",
      "Nique le CSA ! (hahaha...)\n",
      "\"Fuck that ! I'm above that. I don't play that.\"\n"
     ]
    }
   ],
   "source": [
    "lyrics = document.find('div', {\"data-lyrics-container\": \"true\"}).get_text(\"\\n\")\n",
    "print(lyrics)"
   ]
  },
  {
   "cell_type": "markdown",
   "metadata": {},
   "source": [
    "**Issue (continued)**. Good idea, but it's really not great because of the segmentation of the annotations...  \n",
    "We need to be more specific and process all `br` elements:"
   ]
  },
  {
   "cell_type": "code",
   "execution_count": 65,
   "metadata": {},
   "outputs": [
    {
     "name": "stdout",
     "output_type": "stream",
     "text": [
      "[Couplet 1 - KoolShen]\n",
      "Retour en force de l'ordre moral, je veux surtout pas te casser ton moral\n",
      "Mais c'est le bordel quand t'entres pas dans leur panel, je suis formel\n",
      "Et reste formé pour ça, nique le CSA\n",
      "C'est pour ça que j'ai gardé ma tenue de combat\n",
      "Que je lâcherai pas mon ton-bâ, fais gaffe à ton dos, protège tes abdos\n",
      "Si tu parles cash de leurs vices, ils te feront pas de cadeau\n",
      "On nous censure parce que notre culture est trop basanée\n",
      "Qu'on représente pas assez la France du passé\n",
      "C'est carré, on veut nous stopper : ça allait\n",
      "Tant qu'on rappait dans les MJC, mais aujourd'hui\n",
      "Le phénomène a grandi, Dieu merci, je remercie\n",
      "Les jeunes qui rappent sans merci et puis nique sa mère, si\n",
      "On passe pas dans leurs radios, on fera le tour, c'est pas grave\n",
      "Le plus dur c'était de sortir de la cave et les gens le savent\n",
      "Hey, on est encore là\n",
      "Prêt à foutre le souk et tout le monde est ccord-d'a\n",
      "\n",
      "[Refrain - Joeystarr, KoolShen]\n",
      "Non, non ! (hahaha...) On est encore là\n",
      "Prêt à foutre le souk et tout le monde est ccord-d'a\n",
      "Nique le CSA ! (hahaha...)\n",
      "\"Fuck that ! I'm above that. I don't play that.\"\n",
      "Non, non ! (hahaha...) On est encore là\n",
      "Prêt à foutre le souk et tout le monde est ccord-d'a\n",
      "Nique le CSA ! (hahaha...)\n",
      "\"Fuck that ! I'm above that. I don't play that.\"\n",
      "\n"
     ]
    }
   ],
   "source": [
    "for br in document.find_all(\"br\"):\n",
    "    br.replace_with(\"\\n\")\n",
    "lyrics = document.find('div', {\"data-lyrics-container\": \"true\"}).text\n",
    "print(lyrics)"
   ]
  },
  {
   "cell_type": "markdown",
   "metadata": {},
   "source": [
    "**Issue (end)**. Gee, we only have the beginning of the lyrics, which are written in several `div`..."
   ]
  },
  {
   "cell_type": "code",
   "execution_count": 66,
   "metadata": {},
   "outputs": [
    {
     "name": "stdout",
     "output_type": "stream",
     "text": [
      "[Couplet 1 - KoolShen]\n",
      "Retour en force de l'ordre moral, je veux surtout pas te casser ton moral\n",
      "Mais c'est le bordel quand t'entres pas dans leur panel, je suis formel\n",
      "Et reste formé pour ça, nique le CSA\n",
      "C'est pour ça que j'ai gardé ma tenue de combat\n",
      "Que je lâcherai pas mon ton-bâ, fais gaffe à ton dos, protège tes abdos\n",
      "Si tu parles cash de leurs vices, ils te feront pas de cadeau\n",
      "On nous censure parce que notre culture est trop basanée\n",
      "Qu'on représente pas assez la France du passé\n",
      "C'est carré, on veut nous stopper : ça allait\n",
      "Tant qu'on rappait dans les MJC, mais aujourd'hui\n",
      "Le phénomène a grandi, Dieu merci, je remercie\n",
      "Les jeunes qui rappent sans merci et puis nique sa mère, si\n",
      "On passe pas dans leurs radios, on fera le tour, c'est pas grave\n",
      "Le plus dur c'était de sortir de la cave et les gens le savent\n",
      "Hey, on est encore là\n",
      "Prêt à foutre le souk et tout le monde est ccord-d'a\n",
      "\n",
      "[Refrain - Joeystarr, KoolShen]\n",
      "Non, non ! (hahaha...) On est encore là\n",
      "Prêt à foutre le souk et tout le monde est ccord-d'a\n",
      "Nique le CSA ! (hahaha...)\n",
      "\"Fuck that ! I'm above that. I don't play that.\"\n",
      "Non, non ! (hahaha...) On est encore là\n",
      "Prêt à foutre le souk et tout le monde est ccord-d'a\n",
      "Nique le CSA ! (hahaha...)\n",
      "\"Fuck that ! I'm above that. I don't play that.\"\n",
      "\n",
      "[Couplet 2 - Joeystarr]\n",
      "Personne n'a oublié : il fut un temps, on nous aurait pendu\n",
      "Comme des vendus, des bandits à la langue trop pendue\n",
      "C'est les honneurs qu'on nous réserve pour la suite ?\n",
      "Parce que quand je kicke la vérité, putain, ça se complique !\n",
      "C'est pour ça que je lis dans leurs yeux la terreur, ce qui me fait peur\n",
      "C'est que mon cœur est aussi dur que le pays qui m'a vu naître par erreur\n",
      "Ici, ce pays où l'esprit critique est en crise\n",
      "Écrasé par l'assise des hypocrites qui ont la mainmise\n",
      "Misant sur l'info biz, la falsifiant, t'façon faut que ça saigne\n",
      "On pousse les masses à la confrontation, putain, c'est pas bon\n",
      "Enlevez-nous ce bâillon, y a trop de trucs qui tournent pas rond\n",
      "Et donc face à tout ça, faut pas lâcher, faut faire front !\n",
      "Faut plus m'interdire de faire vibrer les consciences\n",
      "T'façon c'est tout ce que je sais faire, j'en subis les conséquences\n",
      "Et si on censure, s'acharne à casser le Suprême\n",
      "C'est qu'on fait pas partie de la solution, mais peut-être plutôt du problème...\n",
      "\n",
      "[Refrain - Joeystarr, KoolShen]\n",
      "Non, non ! (hahaha...) On est encore là\n",
      "Prêt à foutre le souk et tout le monde est ccord-d'a\n",
      "Nique le CSA ! (hahaha...)\n",
      "\"Fuck that ! I'm above that. I don't play that.\"\n",
      "Non, non ! (hahaha...) On est encore là\n",
      "Prêt à foutre le souk et tout le monde est ccord-d'a\n",
      "Nique le CSA ! (hahaha...)\n",
      "\"Fuck that ! I'm above that. I don't play that.\"\n",
      "\n",
      "[Bridge - extrait télé]\n",
      "\"Oui eh bien bonjour\n",
      "Je me trouve donc en ce moment-même au tribunal d'Aix-en-Provence\n",
      "Pour l'affaire qui oppose le groupe Suprême NTM aux forces de l'ordre\n",
      "Et les juges viennent à l'instant de rendre leur verdict.\"\n",
      "\n",
      "[Couplet 3 - KoolShen]\n",
      "Deux mois de sursis, cinq barres d'amende, on est condamnés\n",
      "Pour être encore là après tant d'années\n",
      "Et pour les avoir tant tannés instantanément, de façon spontanée\n",
      "On en paye le prix aujourd'hui mon gars, mais c'est pas un hasard\n",
      "Ça correspond au climat bizarre\n",
      "À l'odeur étrange qui émane du côté d'Orange\n",
      "Le Sud est contaminé, remarque, y a pas que la droite, aussi\n",
      "Les lois Debré tu crois que c'est quoi sinon une pâle copie ?\n",
      "De celui qu'on ne censure pas\n",
      "De celui qui parle de race supérieure et qu'on invite à tous les débats\n",
      "Je suis pas sûr qu'y ait pas deux poids, deux mesures et pas\n",
      "Et pas de justice, surtout si tu pèses pas\n",
      "Tant pis, on vit avec ça et puis de toute façon\n",
      "On s'est jamais trop fait d'illusion\n",
      "La liberté d'expression ? Laissez-moi gole-ri\n",
      "Ils subissent tous des pressions, non c'est pas des conneries\n",
      "La grande bouffonnerie, continue mais je serai là\n",
      "C'est pour ça qu'à chaque fois, je ferai la différence, refrè là\n",
      "Tu sais, je défraie la chronique, pas par plaisir, putain, mais simplement parce que je chronique\n",
      "La vie et ça les met en panique\n",
      "\n",
      "[Refrain - Joeystarr, KoolShen]\n",
      "Non, non ! (hahaha...) On est encore là\n",
      "Prêt à foutre le souk et tout le monde est ccord-d'a\n",
      "Nique le CSA ! (hahaha...)\n",
      "\"Fuck that ! I'm above that. I don't play that.\"\n",
      "Non, non ! (hahaha...) On est encore là\n",
      "Prêt à foutre le souk et tout le monde est ccord-d'a\n",
      "Nique le CSA ! (hahaha...)\n",
      "\"Fuck that ! I'm above that. I don't play that\n"
     ]
    }
   ],
   "source": [
    "lyrics = document.find_all('div', {\"data-lyrics-container\": \"true\"})\n",
    "for lyrics_part in lyrics:\n",
    "    print(lyrics_part.text)"
   ]
  },
  {
   "cell_type": "markdown",
   "metadata": {},
   "source": [
    "**Reuse**.  \n",
    "All that remains is to write this code into a small function so that we can reuse it to automatically extract the text of other songs."
   ]
  },
  {
   "cell_type": "code",
   "execution_count": 67,
   "metadata": {},
   "outputs": [],
   "source": [
    "def get_lyrics(song_genius_url):\n",
    "    response = requests.get(song_genius_url)\n",
    "    document = BeautifulSoup(response.text, \"html.parser\")\n",
    "    for br in document.find_all(\"br\"):\n",
    "        br.replace_with(\"\\n\")\n",
    "    lyrics = document.find_all('div', {\"data-lyrics-container\": \"true\"})\n",
    "    for lyrics_part in lyrics:\n",
    "        print(lyrics_part.text)"
   ]
  },
  {
   "cell_type": "code",
   "execution_count": null,
   "metadata": {},
   "outputs": [],
   "source": [
    "# https://genius.com/Grandmaster-flash-and-the-furious-five-the-message-lyrics\n",
    "# https://genius.com/De-la-soul-the-magic-number-lyrics\n",
    "# https://genius.com/Dr-jeckyll-and-mr-hyde-genius-rap-lyrics\n",
    "# https://genius.com/Supreme-ntm-on-est-encore-la-lyrics\n",
    "get_lyrics('https://genius.com/Amel-bent-ma-philosophie-lyrics')"
   ]
  },
  {
   "cell_type": "markdown",
   "metadata": {},
   "source": [
    "**Conclusion**.\n",
    "\n",
    "Unfortunately, this method is neither reusable nor future-proof… **We need standardized data served via an API.**"
   ]
  },
  {
   "cell_type": "markdown",
   "metadata": {},
   "source": [
    "## APIs\n",
    "\n",
    "[Wikipedia](https://en.wikipedia.org/wiki/API): An **application programming interface** (API) is a way for two or more computer programs to communicate with each other. It is a type of software interface, offering a service to other pieces of software.  \n",
    "In contrast to a user interface, which connects a computer to a person, an application programming interface connects computers or pieces of software to each other. It is not intended to be used directly by a person (the end user) other than a computer programmer who is incorporating it into the software.\n",
    "\n",
    "- **An API enables a computer to request information from another computer over the Internet**.\n",
    "- **Data access endpoints and the format of the response are standardized according to a specification**."
   ]
  },
  {
   "cell_type": "markdown",
   "metadata": {},
   "source": [
    "### Genius API (JSON)\n",
    "\n",
    "According to its [documentation](https://docs.genius.com), the Genius API provides access to various resources, including:\n",
    "\n",
    "- Search (results)\n",
    "- Artists\n",
    "- Songs\n",
    "\n",
    "<img src=\"./img/genius_doc.png\" class=\"center\" >\n",
    "\n",
    "Let's explore the possibilities out of curiosity…\n",
    "\n",
    "Genius uses the OAuth2 standard for making API calls on behalf of individual users.  \n",
    "Requests are authenticated with an **Access Token** sent in an HTTP header or simply **as a request parameter**.\n",
    "\n",
    "[How to get, store and call your Genius API keys](https://melaniewalsh.github.io/Intro-Cultural-Analytics/04-Data-Collection/07-Genius-API.html#api-keys)…\n",
    "\n",
    "The best practice is to keep your API keys away from your code, such as in another file.\n",
    "\n",
    "My key is stored in a python file called `api_key.py` that contains just one variable `your_client_access_token = \"MY_API_KEY\"`, so I can import below this variable into this notebook with `import api_key`."
   ]
  },
  {
   "cell_type": "code",
   "execution_count": 69,
   "metadata": {},
   "outputs": [],
   "source": [
    "import api_key\n",
    "#api_key.your_client_access_token"
   ]
  },
  {
   "cell_type": "markdown",
   "metadata": {},
   "source": [
    "#### Making an API Request\n",
    "\n",
    "Making an API request looks a lot like typing a specially-formatted URL. But instead of getting a rendered HTML web page in return, you get some data in return.\n",
    "\n",
    "Let's start with the basic search, which allows you to get a bunch of Genius data about any artist or songs that you search for:\n",
    "\n",
    "http://api.genius.com/search?q={search_term}&access_token={client_access_token}"
   ]
  },
  {
   "cell_type": "code",
   "execution_count": 70,
   "metadata": {},
   "outputs": [
    {
     "data": {
      "text/plain": [
       "'application/json; charset=utf-8'"
      ]
     },
     "execution_count": 70,
     "metadata": {},
     "output_type": "execute_result"
    }
   ],
   "source": [
    "search_term = \"Supreme NTM\"\n",
    "genius_search_url = f\"http://api.genius.com/search?q={search_term}&access_token={api_key.your_client_access_token}\"\n",
    "response = requests.get(genius_search_url)\n",
    "response.headers['Content-Type']"
   ]
  },
  {
   "cell_type": "markdown",
   "metadata": {},
   "source": [
    "This time, the response is not formatted as plain text or HTML, but as JSON.\n",
    "With Requests, you can call [.json()](https://requests.readthedocs.io/en/latest/api/#requests.Response.json) to returns the json-encoded content of a response.\n",
    "\n",
    "Thanks to IPython's [`.display` module](https://ipython.readthedocs.io/en/stable/api/generated/IPython.display.html#IPython.display.JSON), we can effectively display a response that is quite long:"
   ]
  },
  {
   "cell_type": "code",
   "execution_count": 71,
   "metadata": {},
   "outputs": [],
   "source": [
    "from IPython.display import JSON"
   ]
  },
  {
   "cell_type": "code",
   "execution_count": 72,
   "metadata": {},
   "outputs": [
    {
     "data": {
      "application/json": {
       "meta": {
        "status": 200
       },
       "response": {
        "hits": [
         {
          "highlights": [],
          "index": "song",
          "result": {
           "annotation_count": 23,
           "api_path": "/songs/67453",
           "artist_names": "Suprême NTM (Ft. Lord Kossity)",
           "featured_artists": [
            {
             "api_path": "/artists/18002",
             "header_image_url": "https://images.genius.com/51cf093f407940de4303c737d2dac6ff.526x526x1.jpg",
             "id": 18002,
             "image_url": "https://images.genius.com/51cf093f407940de4303c737d2dac6ff.526x526x1.jpg",
             "is_meme_verified": false,
             "is_verified": false,
             "name": "Lord Kossity",
             "url": "https://genius.com/artists/Lord-kossity"
            }
           ],
           "full_title": "Ma Benz by Suprême NTM (Ft. Lord Kossity)",
           "header_image_thumbnail_url": "https://images.genius.com/2fa333a4bf52a6e67ec0de0c396d6307.300x298x1.jpg",
           "header_image_url": "https://images.genius.com/2fa333a4bf52a6e67ec0de0c396d6307.599x596x1.jpg",
           "id": 67453,
           "language": "en",
           "lyrics_owner_id": 13034,
           "lyrics_state": "complete",
           "path": "/Supreme-ntm-ma-benz-lyrics",
           "primary_artist": {
            "api_path": "/artists/24568",
            "header_image_url": "https://images.genius.com/fdfb55d21023733cf0240308340ebd04.1000x444x1.jpg",
            "id": 24568,
            "image_url": "https://images.genius.com/949ffbea5ebe16dd1762092e0cb794c5.399x399x1.jpg",
            "is_meme_verified": false,
            "is_verified": false,
            "name": "Suprême NTM",
            "url": "https://genius.com/artists/Supreme-ntm"
           },
           "pyongs_count": 7,
           "relationships_index_url": "https://genius.com/Supreme-ntm-ma-benz-sample",
           "release_date_components": {
            "day": 21,
            "month": 4,
            "year": 1998
           },
           "release_date_for_display": "April 21, 1998",
           "release_date_with_abbreviated_month_for_display": "Apr. 21, 1998",
           "song_art_image_thumbnail_url": "https://images.genius.com/2fa333a4bf52a6e67ec0de0c396d6307.300x298x1.jpg",
           "song_art_image_url": "https://images.genius.com/2fa333a4bf52a6e67ec0de0c396d6307.599x596x1.jpg",
           "stats": {
            "hot": false,
            "pageviews": 97018,
            "unreviewed_annotations": 3
           },
           "title": "Ma Benz",
           "title_with_featured": "Ma Benz (Ft. Lord Kossity)",
           "url": "https://genius.com/Supreme-ntm-ma-benz-lyrics"
          },
          "type": "song"
         },
         {
          "highlights": [],
          "index": "song",
          "result": {
           "annotation_count": 39,
           "api_path": "/songs/2706",
           "artist_names": "Suprême NTM",
           "featured_artists": [],
           "full_title": "Laisse pas traîner ton fils by Suprême NTM",
           "header_image_thumbnail_url": "https://images.genius.com/f8566c932eff213421ae9a00bed3dda1.300x298x1.jpg",
           "header_image_url": "https://images.genius.com/f8566c932eff213421ae9a00bed3dda1.599x595x1.jpg",
           "id": 2706,
           "language": "fr",
           "lyrics_owner_id": 3639,
           "lyrics_state": "complete",
           "path": "/Supreme-ntm-laisse-pas-trainer-ton-fils-lyrics",
           "primary_artist": {
            "api_path": "/artists/24568",
            "header_image_url": "https://images.genius.com/fdfb55d21023733cf0240308340ebd04.1000x444x1.jpg",
            "id": 24568,
            "image_url": "https://images.genius.com/949ffbea5ebe16dd1762092e0cb794c5.399x399x1.jpg",
            "is_meme_verified": false,
            "is_verified": false,
            "name": "Suprême NTM",
            "url": "https://genius.com/artists/Supreme-ntm"
           },
           "pyongs_count": 11,
           "relationships_index_url": "https://genius.com/Supreme-ntm-laisse-pas-trainer-ton-fils-sample",
           "release_date_components": {
            "day": 21,
            "month": 4,
            "year": 1998
           },
           "release_date_for_display": "April 21, 1998",
           "release_date_with_abbreviated_month_for_display": "Apr. 21, 1998",
           "song_art_image_thumbnail_url": "https://images.genius.com/f8566c932eff213421ae9a00bed3dda1.300x298x1.jpg",
           "song_art_image_url": "https://images.genius.com/f8566c932eff213421ae9a00bed3dda1.599x595x1.jpg",
           "stats": {
            "hot": false,
            "pageviews": 104386,
            "unreviewed_annotations": 6
           },
           "title": "Laisse pas traîner ton fils",
           "title_with_featured": "Laisse pas traîner ton fils",
           "url": "https://genius.com/Supreme-ntm-laisse-pas-trainer-ton-fils-lyrics"
          },
          "type": "song"
         },
         {
          "highlights": [],
          "index": "song",
          "result": {
           "annotation_count": 22,
           "api_path": "/songs/4921",
           "artist_names": "Suprême NTM",
           "featured_artists": [],
           "full_title": "That’s My People by Suprême NTM",
           "header_image_thumbnail_url": "https://images.genius.com/085050346319e9e30fb77004dfcf804f.300x300x1.jpg",
           "header_image_url": "https://images.genius.com/085050346319e9e30fb77004dfcf804f.829x829x1.jpg",
           "id": 4921,
           "language": "fr",
           "lyrics_owner_id": 3639,
           "lyrics_state": "complete",
           "path": "/Supreme-ntm-thats-my-people-lyrics",
           "primary_artist": {
            "api_path": "/artists/24568",
            "header_image_url": "https://images.genius.com/fdfb55d21023733cf0240308340ebd04.1000x444x1.jpg",
            "id": 24568,
            "image_url": "https://images.genius.com/949ffbea5ebe16dd1762092e0cb794c5.399x399x1.jpg",
            "is_meme_verified": false,
            "is_verified": false,
            "name": "Suprême NTM",
            "url": "https://genius.com/artists/Supreme-ntm"
           },
           "pyongs_count": 16,
           "relationships_index_url": "https://genius.com/Supreme-ntm-thats-my-people-sample",
           "release_date_components": {
            "day": 21,
            "month": 4,
            "year": 1998
           },
           "release_date_for_display": "April 21, 1998",
           "release_date_with_abbreviated_month_for_display": "Apr. 21, 1998",
           "song_art_image_thumbnail_url": "https://images.genius.com/085050346319e9e30fb77004dfcf804f.300x300x1.jpg",
           "song_art_image_url": "https://images.genius.com/085050346319e9e30fb77004dfcf804f.829x829x1.jpg",
           "stats": {
            "hot": false,
            "pageviews": 74920,
            "unreviewed_annotations": 3
           },
           "title": "That’s My People",
           "title_with_featured": "That’s My People",
           "url": "https://genius.com/Supreme-ntm-thats-my-people-lyrics"
          },
          "type": "song"
         },
         {
          "highlights": [],
          "index": "song",
          "result": {
           "annotation_count": 24,
           "api_path": "/songs/3957441",
           "artist_names": "Suprême NTM (Ft. Sofiane)",
           "featured_artists": [
            {
             "api_path": "/artists/12085",
             "header_image_url": "https://images.genius.com/ed6a9f934405ced2459aa83a3698f38d.630x395x1.jpg",
             "id": 12085,
             "image_url": "https://images.genius.com/7cc2be4fe0a433698d0e54bce9008895.308x308x1.png",
             "iq": 100,
             "is_meme_verified": false,
             "is_verified": true,
             "name": "Sofiane",
             "url": "https://genius.com/artists/Sofiane"
            }
           ],
           "full_title": "Sur le drapeau by Suprême NTM (Ft. Sofiane)",
           "header_image_thumbnail_url": "https://images.genius.com/fcc7589860476c8e3ecfded5e773509b.300x150x1.jpg",
           "header_image_url": "https://images.genius.com/fcc7589860476c8e3ecfded5e773509b.800x400x1.jpg",
           "id": 3957441,
           "language": "en",
           "lyrics_owner_id": 280073,
           "lyrics_state": "complete",
           "path": "/Supreme-ntm-sur-le-drapeau-lyrics",
           "primary_artist": {
            "api_path": "/artists/24568",
            "header_image_url": "https://images.genius.com/fdfb55d21023733cf0240308340ebd04.1000x444x1.jpg",
            "id": 24568,
            "image_url": "https://images.genius.com/949ffbea5ebe16dd1762092e0cb794c5.399x399x1.jpg",
            "is_meme_verified": false,
            "is_verified": false,
            "name": "Suprême NTM",
            "url": "https://genius.com/artists/Supreme-ntm"
           },
           "pyongs_count": 5,
           "relationships_index_url": "https://genius.com/Supreme-ntm-sur-le-drapeau-sample",
           "release_date_components": {
            "day": 14,
            "month": 9,
            "year": 2018
           },
           "release_date_for_display": "September 14, 2018",
           "release_date_with_abbreviated_month_for_display": "Sep. 14, 2018",
           "song_art_image_thumbnail_url": "https://images.genius.com/ff794858120025c48f43381416ac836f.300x300x1.jpg",
           "song_art_image_url": "https://images.genius.com/ff794858120025c48f43381416ac836f.640x640x1.jpg",
           "stats": {
            "hot": false,
            "pageviews": 58408,
            "unreviewed_annotations": 19
           },
           "title": "Sur le drapeau",
           "title_with_featured": "Sur le drapeau (Ft. Sofiane)",
           "url": "https://genius.com/Supreme-ntm-sur-le-drapeau-lyrics"
          },
          "type": "song"
         },
         {
          "highlights": [],
          "index": "song",
          "result": {
           "annotation_count": 27,
           "api_path": "/songs/61371",
           "artist_names": "Suprême NTM",
           "featured_artists": [],
           "full_title": "Seine-Saint-Denis Style by Suprême NTM",
           "header_image_thumbnail_url": "https://images.genius.com/17800f65ce7efc1a4bea4f1bc86685c6.300x300x1.jpg",
           "header_image_url": "https://images.genius.com/17800f65ce7efc1a4bea4f1bc86685c6.320x320x1.jpg",
           "id": 61371,
           "language": "fr",
           "lyrics_owner_id": 50405,
           "lyrics_state": "complete",
           "path": "/Supreme-ntm-seine-saint-denis-style-lyrics",
           "primary_artist": {
            "api_path": "/artists/24568",
            "header_image_url": "https://images.genius.com/fdfb55d21023733cf0240308340ebd04.1000x444x1.jpg",
            "id": 24568,
            "image_url": "https://images.genius.com/949ffbea5ebe16dd1762092e0cb794c5.399x399x1.jpg",
            "is_meme_verified": false,
            "is_verified": false,
            "name": "Suprême NTM",
            "url": "https://genius.com/artists/Supreme-ntm"
           },
           "pyongs_count": 1,
           "relationships_index_url": "https://genius.com/Supreme-ntm-seine-saint-denis-style-sample",
           "release_date_components": {
            "day": 21,
            "month": 4,
            "year": 1998
           },
           "release_date_for_display": "April 21, 1998",
           "release_date_with_abbreviated_month_for_display": "Apr. 21, 1998",
           "song_art_image_thumbnail_url": "https://images.genius.com/17800f65ce7efc1a4bea4f1bc86685c6.300x300x1.jpg",
           "song_art_image_url": "https://images.genius.com/17800f65ce7efc1a4bea4f1bc86685c6.320x320x1.jpg",
           "stats": {
            "hot": false,
            "pageviews": 53136,
            "unreviewed_annotations": 3
           },
           "title": "Seine-Saint-Denis Style",
           "title_with_featured": "Seine-Saint-Denis Style",
           "url": "https://genius.com/Supreme-ntm-seine-saint-denis-style-lyrics"
          },
          "type": "song"
         },
         {
          "highlights": [],
          "index": "song",
          "result": {
           "annotation_count": 23,
           "api_path": "/songs/54666",
           "artist_names": "Suprême NTM",
           "featured_artists": [],
           "full_title": "Pose ton gun by Suprême NTM",
           "header_image_thumbnail_url": "https://images.genius.com/981c72824fe9bfb68c1f0a2576eb6a4d.300x300x1.jpg",
           "header_image_url": "https://images.genius.com/981c72824fe9bfb68c1f0a2576eb6a4d.600x600x1.jpg",
           "id": 54666,
           "language": "en",
           "lyrics_owner_id": 26617,
           "lyrics_state": "complete",
           "path": "/Supreme-ntm-pose-ton-gun-lyrics",
           "primary_artist": {
            "api_path": "/artists/24568",
            "header_image_url": "https://images.genius.com/fdfb55d21023733cf0240308340ebd04.1000x444x1.jpg",
            "id": 24568,
            "image_url": "https://images.genius.com/949ffbea5ebe16dd1762092e0cb794c5.399x399x1.jpg",
            "is_meme_verified": false,
            "is_verified": false,
            "name": "Suprême NTM",
            "url": "https://genius.com/artists/Supreme-ntm"
           },
           "pyongs_count": 5,
           "relationships_index_url": "https://genius.com/Supreme-ntm-pose-ton-gun-sample",
           "release_date_components": {
            "day": 21,
            "month": 4,
            "year": 1998
           },
           "release_date_for_display": "April 21, 1998",
           "release_date_with_abbreviated_month_for_display": "Apr. 21, 1998",
           "song_art_image_thumbnail_url": "https://images.genius.com/981c72824fe9bfb68c1f0a2576eb6a4d.300x300x1.jpg",
           "song_art_image_url": "https://images.genius.com/981c72824fe9bfb68c1f0a2576eb6a4d.600x600x1.jpg",
           "stats": {
            "hot": false,
            "pageviews": 46390,
            "unreviewed_annotations": 4
           },
           "title": "Pose ton gun",
           "title_with_featured": "Pose ton gun",
           "url": "https://genius.com/Supreme-ntm-pose-ton-gun-lyrics"
          },
          "type": "song"
         },
         {
          "highlights": [],
          "index": "song",
          "result": {
           "annotation_count": 14,
           "api_path": "/songs/70084",
           "artist_names": "Suprême NTM (Ft. The Firm)",
           "featured_artists": [
            {
             "api_path": "/artists/478",
             "header_image_url": "https://images.genius.com/231cf241514c4f43f030dc9e5a77837f.500x560x1.jpg",
             "id": 478,
             "image_url": "https://images.genius.com/6decc7980b5c2eafb679abac53d861aa.500x500x1.jpg",
             "is_meme_verified": false,
             "is_verified": false,
             "name": "The Firm",
             "url": "https://genius.com/artists/The-firm"
            }
           ],
           "full_title": "Affirmative Action (Saint-Denis-Style Remix) by Suprême NTM (Ft. The Firm)",
           "header_image_thumbnail_url": "https://images.rapgenius.com/6b3af1791b654fa7265ff3e47a90f7c3.300x225x1.jpg",
           "header_image_url": "https://images.rapgenius.com/6b3af1791b654fa7265ff3e47a90f7c3.1000x750x1.jpg",
           "id": 70084,
           "language": "en",
           "lyrics_owner_id": 85567,
           "lyrics_state": "complete",
           "path": "/Supreme-ntm-affirmative-action-saint-denis-style-remix-lyrics",
           "primary_artist": {
            "api_path": "/artists/24568",
            "header_image_url": "https://images.genius.com/fdfb55d21023733cf0240308340ebd04.1000x444x1.jpg",
            "id": 24568,
            "image_url": "https://images.genius.com/949ffbea5ebe16dd1762092e0cb794c5.399x399x1.jpg",
            "is_meme_verified": false,
            "is_verified": false,
            "name": "Suprême NTM",
            "url": "https://genius.com/artists/Supreme-ntm"
           },
           "pyongs_count": 6,
           "relationships_index_url": "https://genius.com/Supreme-ntm-affirmative-action-saint-denis-style-remix-sample",
           "release_date_components": {
            "day": 30,
            "month": 12,
            "year": 1996
           },
           "release_date_for_display": "December 30, 1996",
           "release_date_with_abbreviated_month_for_display": "Dec. 30, 1996",
           "song_art_image_thumbnail_url": "https://images.rapgenius.com/6b3af1791b654fa7265ff3e47a90f7c3.300x225x1.jpg",
           "song_art_image_url": "https://images.rapgenius.com/6b3af1791b654fa7265ff3e47a90f7c3.1000x750x1.jpg",
           "stats": {
            "hot": false,
            "pageviews": 32851,
            "unreviewed_annotations": 1
           },
           "title": "Affirmative Action (Saint-Denis-Style Remix)",
           "title_with_featured": "Affirmative Action (Saint-Denis-Style Remix) (Ft. The Firm)",
           "url": "https://genius.com/Supreme-ntm-affirmative-action-saint-denis-style-remix-lyrics"
          },
          "type": "song"
         },
         {
          "highlights": [],
          "index": "song",
          "result": {
           "annotation_count": 11,
           "api_path": "/songs/203",
           "artist_names": "Suprême NTM",
           "featured_artists": [],
           "full_title": "La fièvre by Suprême NTM",
           "header_image_thumbnail_url": "https://images.genius.com/fe4b7d89d8824f5d3c6e0a49d07c9603.300x300x1.jpg",
           "header_image_url": "https://images.genius.com/fe4b7d89d8824f5d3c6e0a49d07c9603.1000x1000x1.jpg",
           "id": 203,
           "language": "fr",
           "lyrics_owner_id": 20,
           "lyrics_state": "complete",
           "path": "/Supreme-ntm-la-fievre-lyrics",
           "primary_artist": {
            "api_path": "/artists/24568",
            "header_image_url": "https://images.genius.com/fdfb55d21023733cf0240308340ebd04.1000x444x1.jpg",
            "id": 24568,
            "image_url": "https://images.genius.com/949ffbea5ebe16dd1762092e0cb794c5.399x399x1.jpg",
            "is_meme_verified": false,
            "is_verified": false,
            "name": "Suprême NTM",
            "url": "https://genius.com/artists/Supreme-ntm"
           },
           "pyongs_count": 4,
           "relationships_index_url": "https://genius.com/Supreme-ntm-la-fievre-sample",
           "release_date_components": {
            "day": 27,
            "month": 3,
            "year": 1995
           },
           "release_date_for_display": "March 27, 1995",
           "release_date_with_abbreviated_month_for_display": "Mar. 27, 1995",
           "song_art_image_thumbnail_url": "https://images.genius.com/fe4b7d89d8824f5d3c6e0a49d07c9603.300x300x1.jpg",
           "song_art_image_url": "https://images.genius.com/fe4b7d89d8824f5d3c6e0a49d07c9603.1000x1000x1.jpg",
           "stats": {
            "hot": false,
            "pageviews": 27962,
            "unreviewed_annotations": 3
           },
           "title": "La fièvre",
           "title_with_featured": "La fièvre",
           "url": "https://genius.com/Supreme-ntm-la-fievre-lyrics"
          },
          "type": "song"
         },
         {
          "highlights": [],
          "index": "song",
          "result": {
           "annotation_count": 38,
           "api_path": "/songs/51240",
           "artist_names": "Suprême NTM",
           "featured_artists": [],
           "full_title": "Tout n'est pas si facile by Suprême NTM",
           "header_image_thumbnail_url": "https://images.genius.com/59b0bbc7fc972c7804f0cc78be62b808.300x300x1.jpg",
           "header_image_url": "https://images.genius.com/59b0bbc7fc972c7804f0cc78be62b808.600x600x1.jpg",
           "id": 51240,
           "language": "fr",
           "lyrics_owner_id": 15008,
           "lyrics_state": "complete",
           "path": "/Supreme-ntm-tout-nest-pas-si-facile-lyrics",
           "primary_artist": {
            "api_path": "/artists/24568",
            "header_image_url": "https://images.genius.com/fdfb55d21023733cf0240308340ebd04.1000x444x1.jpg",
            "id": 24568,
            "image_url": "https://images.genius.com/949ffbea5ebe16dd1762092e0cb794c5.399x399x1.jpg",
            "is_meme_verified": false,
            "is_verified": false,
            "name": "Suprême NTM",
            "url": "https://genius.com/artists/Supreme-ntm"
           },
           "pyongs_count": 3,
           "relationships_index_url": "https://genius.com/Supreme-ntm-tout-nest-pas-si-facile-sample",
           "release_date_components": {
            "day": 13,
            "month": 2,
            "year": 1995
           },
           "release_date_for_display": "February 13, 1995",
           "release_date_with_abbreviated_month_for_display": "Feb. 13, 1995",
           "song_art_image_thumbnail_url": "https://images.genius.com/59b0bbc7fc972c7804f0cc78be62b808.300x300x1.jpg",
           "song_art_image_url": "https://images.genius.com/59b0bbc7fc972c7804f0cc78be62b808.600x600x1.jpg",
           "stats": {
            "hot": false,
            "pageviews": 26234,
            "unreviewed_annotations": 14
           },
           "title": "Tout n’est pas si facile",
           "title_with_featured": "Tout n'est pas si facile",
           "url": "https://genius.com/Supreme-ntm-tout-nest-pas-si-facile-lyrics"
          },
          "type": "song"
         },
         {
          "highlights": [],
          "index": "song",
          "result": {
           "annotation_count": 24,
           "api_path": "/songs/87367",
           "artist_names": "Suprême NTM",
           "featured_artists": [],
           "full_title": "On est encore là by Suprême NTM",
           "header_image_thumbnail_url": "https://images.genius.com/17800f65ce7efc1a4bea4f1bc86685c6.300x300x1.jpg",
           "header_image_url": "https://images.genius.com/17800f65ce7efc1a4bea4f1bc86685c6.320x320x1.jpg",
           "id": 87367,
           "language": "fr",
           "lyrics_owner_id": 64332,
           "lyrics_state": "complete",
           "path": "/Supreme-ntm-on-est-encore-la-lyrics",
           "primary_artist": {
            "api_path": "/artists/24568",
            "header_image_url": "https://images.genius.com/fdfb55d21023733cf0240308340ebd04.1000x444x1.jpg",
            "id": 24568,
            "image_url": "https://images.genius.com/949ffbea5ebe16dd1762092e0cb794c5.399x399x1.jpg",
            "is_meme_verified": false,
            "is_verified": false,
            "name": "Suprême NTM",
            "url": "https://genius.com/artists/Supreme-ntm"
           },
           "pyongs_count": 1,
           "relationships_index_url": "https://genius.com/Supreme-ntm-on-est-encore-la-sample",
           "release_date_components": {
            "day": 21,
            "month": 4,
            "year": 1998
           },
           "release_date_for_display": "April 21, 1998",
           "release_date_with_abbreviated_month_for_display": "Apr. 21, 1998",
           "song_art_image_thumbnail_url": "https://images.genius.com/17800f65ce7efc1a4bea4f1bc86685c6.300x300x1.jpg",
           "song_art_image_url": "https://images.genius.com/17800f65ce7efc1a4bea4f1bc86685c6.320x320x1.jpg",
           "stats": {
            "hot": false,
            "pageviews": 20264,
            "unreviewed_annotations": 1
           },
           "title": "On est encore là",
           "title_with_featured": "On est encore là",
           "url": "https://genius.com/Supreme-ntm-on-est-encore-la-lyrics"
          },
          "type": "song"
         }
        ]
       }
      },
      "text/plain": [
       "<IPython.core.display.JSON object>"
      ]
     },
     "execution_count": 72,
     "metadata": {
      "application/json": {
       "expanded": false,
       "root": "root"
      }
     },
     "output_type": "execute_result"
    }
   ],
   "source": [
    "JSON(response.json())"
   ]
  },
  {
   "cell_type": "markdown",
   "metadata": {},
   "source": [
    "#### JSON\n",
    "\n",
    "[JSON](https://en.wikipedia.org/wiki/JSON) (JavaScript Object Notation) is an open standard file format and data interchange format that uses human-readable text to store and transmit data objects consisting of attribute–value pairs and arrays (or other serializable values). JSON is commonly used by APIs.  \n",
    "JSON data can be nested and contains key/value pairs.\n",
    "\n",
    "JSON [Syntax Rules](https://www.w3schools.com/whatis/whatis_json.asp):\n",
    "\n",
    "- Data is in name/value pairs: `'title': 'On est encore là'`\n",
    "- Data is separated by commas: `'id': 87367, 'language': 'fr'`\n",
    "- Curly braces hold **objects**: `'release_date_components': {'year': 1998, 'month': 4, 'day': 21}`\n",
    "- Square brackets hold **arrays**: `'featured_artists': […]`\n",
    "\n",
    "See also https://en.wikipedia.org/wiki/JSON#Syntax:\n",
    "\n",
    "- **Array**: an ordered list of zero or more elements\n",
    "- **Object**: a collection of name–value pairs where the names (also called keys) are strings. \n",
    "\n",
    "We can index this data and look at the 10th “hit” (`['hits'][9]`) about our search term \"Supreme NTM\":\n",
    "\n",
    "NB: the code `\\xa0` represents a non-breaking space."
   ]
  },
  {
   "cell_type": "code",
   "execution_count": 73,
   "metadata": {},
   "outputs": [
    {
     "data": {
      "text/plain": [
       "{'highlights': [],\n",
       " 'index': 'song',\n",
       " 'type': 'song',\n",
       " 'result': {'annotation_count': 24,\n",
       "  'api_path': '/songs/87367',\n",
       "  'artist_names': 'Suprême NTM',\n",
       "  'full_title': 'On est encore là by\\xa0Suprême\\xa0NTM',\n",
       "  'header_image_thumbnail_url': 'https://images.genius.com/17800f65ce7efc1a4bea4f1bc86685c6.300x300x1.jpg',\n",
       "  'header_image_url': 'https://images.genius.com/17800f65ce7efc1a4bea4f1bc86685c6.320x320x1.jpg',\n",
       "  'id': 87367,\n",
       "  'language': 'fr',\n",
       "  'lyrics_owner_id': 64332,\n",
       "  'lyrics_state': 'complete',\n",
       "  'path': '/Supreme-ntm-on-est-encore-la-lyrics',\n",
       "  'pyongs_count': 1,\n",
       "  'relationships_index_url': 'https://genius.com/Supreme-ntm-on-est-encore-la-sample',\n",
       "  'release_date_components': {'year': 1998, 'month': 4, 'day': 21},\n",
       "  'release_date_for_display': 'April 21, 1998',\n",
       "  'release_date_with_abbreviated_month_for_display': 'Apr. 21, 1998',\n",
       "  'song_art_image_thumbnail_url': 'https://images.genius.com/17800f65ce7efc1a4bea4f1bc86685c6.300x300x1.jpg',\n",
       "  'song_art_image_url': 'https://images.genius.com/17800f65ce7efc1a4bea4f1bc86685c6.320x320x1.jpg',\n",
       "  'stats': {'unreviewed_annotations': 1, 'hot': False, 'pageviews': 20264},\n",
       "  'title': 'On est encore là',\n",
       "  'title_with_featured': 'On est encore là',\n",
       "  'url': 'https://genius.com/Supreme-ntm-on-est-encore-la-lyrics',\n",
       "  'featured_artists': [],\n",
       "  'primary_artist': {'api_path': '/artists/24568',\n",
       "   'header_image_url': 'https://images.genius.com/fdfb55d21023733cf0240308340ebd04.1000x444x1.jpg',\n",
       "   'id': 24568,\n",
       "   'image_url': 'https://images.genius.com/949ffbea5ebe16dd1762092e0cb794c5.399x399x1.jpg',\n",
       "   'is_meme_verified': False,\n",
       "   'is_verified': False,\n",
       "   'name': 'Suprême NTM',\n",
       "   'url': 'https://genius.com/artists/Supreme-ntm'}}}"
      ]
     },
     "execution_count": 73,
     "metadata": {},
     "output_type": "execute_result"
    }
   ],
   "source": [
    "json_data = response.json()\n",
    "json_data['response']['hits'][9]"
   ]
  },
  {
   "cell_type": "markdown",
   "metadata": {},
   "source": [
    "#### Looping Through JSON Data\n",
    "\n",
    "We can see that each `hits` in the `response` corresponds to a song. With a `for` loop, we can easily extract the title (`full_title`) as well as the `id` of each song:"
   ]
  },
  {
   "cell_type": "code",
   "execution_count": 74,
   "metadata": {},
   "outputs": [
    {
     "name": "stdout",
     "output_type": "stream",
     "text": [
      "67453      Ma Benz by Suprême NTM (Ft. Lord Kossity)\n",
      "2706       Laisse pas traîner ton fils by Suprême NTM\n",
      "4921       That’s My People by Suprême NTM\n",
      "3957441    Sur le drapeau by Suprême NTM (Ft. Sofiane)\n",
      "61371      Seine-Saint-Denis Style by Suprême NTM\n",
      "54666      Pose ton gun by Suprême NTM\n",
      "70084      Affirmative Action (Saint-Denis-Style Remix) by Suprême NTM (Ft. The Firm)\n",
      "203        La fièvre by Suprême NTM\n",
      "51240      Tout n'est pas si facile by Suprême NTM\n",
      "87367      On est encore là by Suprême NTM\n"
     ]
    }
   ],
   "source": [
    "for song in json_data['response']['hits']:\n",
    "    print(\n",
    "        f\"{str(song['result']['id']):10}\", # constrain string length to align\n",
    "        song['result']['full_title']\n",
    "    )"
   ]
  },
  {
   "cell_type": "markdown",
   "metadata": {},
   "source": [
    "A closer look reveals other relevant informations:\n",
    "    \n",
    "- date of release = ???\n",
    "- number of visits to the associated page = ???\n"
   ]
  },
  {
   "cell_type": "code",
   "execution_count": 75,
   "metadata": {},
   "outputs": [
    {
     "name": "stdout",
     "output_type": "stream",
     "text": [
      "67453      1998 97018    Ma Benz by Suprême NTM (Ft. Lord Kossity)\n",
      "2706       1998 104386   Laisse pas traîner ton fils by Suprême NTM\n",
      "4921       1998 74920    That’s My People by Suprême NTM\n",
      "3957441    2018 58408    Sur le drapeau by Suprême NTM (Ft. Sofiane)\n",
      "61371      1998 53136    Seine-Saint-Denis Style by Suprême NTM\n",
      "54666      1998 46390    Pose ton gun by Suprême NTM\n",
      "70084      1996 32851    Affirmative Action (Saint-Denis-Style Remix) by Suprême NTM (Ft. The Firm)\n",
      "203        1995 27962    La fièvre by Suprême NTM\n",
      "51240      1995 26234    Tout n'est pas si facile by Suprême NTM\n",
      "87367      1998 20264    On est encore là by Suprême NTM\n"
     ]
    }
   ],
   "source": [
    "for song in json_data['response']['hits']:\n",
    "    print(\n",
    "        f\"{str(song['result']['id']):10}\",\n",
    "        song['result']['release_date_components']['year'],\n",
    "        f\"{str(song['result']['stats']['pageviews']):8}\",\n",
    "        song['result']['full_title']\n",
    "    )"
   ]
  },
  {
   "cell_type": "markdown",
   "metadata": {},
   "source": [
    "We can take advantage of what we've already learned to store those metadata in a dataframe. We also take this opportunity to extract :\n",
    "\n",
    "- artist name = ???\n",
    "- artist id =  ???\n",
    "\n",
    "NB. This `artist_id` will allow us to automatically extract information about the band using the `artists` route. (`GET /artists/:id`)."
   ]
  },
  {
   "cell_type": "code",
   "execution_count": 76,
   "metadata": {},
   "outputs": [
    {
     "data": {
      "text/html": [
       "<div>\n",
       "<style scoped>\n",
       "    .dataframe tbody tr th:only-of-type {\n",
       "        vertical-align: middle;\n",
       "    }\n",
       "\n",
       "    .dataframe tbody tr th {\n",
       "        vertical-align: top;\n",
       "    }\n",
       "\n",
       "    .dataframe thead th {\n",
       "        text-align: right;\n",
       "    }\n",
       "</style>\n",
       "<table border=\"1\" class=\"dataframe\">\n",
       "  <thead>\n",
       "    <tr style=\"text-align: right;\">\n",
       "      <th></th>\n",
       "      <th>song_id</th>\n",
       "      <th>song_title</th>\n",
       "      <th>year</th>\n",
       "      <th>page_views</th>\n",
       "      <th>artist_id</th>\n",
       "      <th>artist_names</th>\n",
       "    </tr>\n",
       "  </thead>\n",
       "  <tbody>\n",
       "    <tr>\n",
       "      <th>0</th>\n",
       "      <td>67453</td>\n",
       "      <td>Ma Benz by Suprême NTM (Ft. Lord Kossity)</td>\n",
       "      <td>1998</td>\n",
       "      <td>97018</td>\n",
       "      <td>24568</td>\n",
       "      <td>Suprême NTM (Ft. Lord Kossity)</td>\n",
       "    </tr>\n",
       "    <tr>\n",
       "      <th>1</th>\n",
       "      <td>2706</td>\n",
       "      <td>Laisse pas traîner ton fils by Suprême NTM</td>\n",
       "      <td>1998</td>\n",
       "      <td>104386</td>\n",
       "      <td>24568</td>\n",
       "      <td>Suprême NTM</td>\n",
       "    </tr>\n",
       "    <tr>\n",
       "      <th>2</th>\n",
       "      <td>4921</td>\n",
       "      <td>That’s My People by Suprême NTM</td>\n",
       "      <td>1998</td>\n",
       "      <td>74920</td>\n",
       "      <td>24568</td>\n",
       "      <td>Suprême NTM</td>\n",
       "    </tr>\n",
       "    <tr>\n",
       "      <th>3</th>\n",
       "      <td>3957441</td>\n",
       "      <td>Sur le drapeau by Suprême NTM (Ft. Sofiane)</td>\n",
       "      <td>2018</td>\n",
       "      <td>58408</td>\n",
       "      <td>24568</td>\n",
       "      <td>Suprême NTM (Ft. Sofiane)</td>\n",
       "    </tr>\n",
       "    <tr>\n",
       "      <th>4</th>\n",
       "      <td>61371</td>\n",
       "      <td>Seine-Saint-Denis Style by Suprême NTM</td>\n",
       "      <td>1998</td>\n",
       "      <td>53136</td>\n",
       "      <td>24568</td>\n",
       "      <td>Suprême NTM</td>\n",
       "    </tr>\n",
       "    <tr>\n",
       "      <th>5</th>\n",
       "      <td>54666</td>\n",
       "      <td>Pose ton gun by Suprême NTM</td>\n",
       "      <td>1998</td>\n",
       "      <td>46390</td>\n",
       "      <td>24568</td>\n",
       "      <td>Suprême NTM</td>\n",
       "    </tr>\n",
       "    <tr>\n",
       "      <th>6</th>\n",
       "      <td>70084</td>\n",
       "      <td>Affirmative Action (Saint-Denis-Style Remix) b...</td>\n",
       "      <td>1996</td>\n",
       "      <td>32851</td>\n",
       "      <td>24568</td>\n",
       "      <td>Suprême NTM (Ft. The Firm)</td>\n",
       "    </tr>\n",
       "    <tr>\n",
       "      <th>7</th>\n",
       "      <td>203</td>\n",
       "      <td>La fièvre by Suprême NTM</td>\n",
       "      <td>1995</td>\n",
       "      <td>27962</td>\n",
       "      <td>24568</td>\n",
       "      <td>Suprême NTM</td>\n",
       "    </tr>\n",
       "    <tr>\n",
       "      <th>8</th>\n",
       "      <td>51240</td>\n",
       "      <td>Tout n'est pas si facile by Suprême NTM</td>\n",
       "      <td>1995</td>\n",
       "      <td>26234</td>\n",
       "      <td>24568</td>\n",
       "      <td>Suprême NTM</td>\n",
       "    </tr>\n",
       "    <tr>\n",
       "      <th>9</th>\n",
       "      <td>87367</td>\n",
       "      <td>On est encore là by Suprême NTM</td>\n",
       "      <td>1998</td>\n",
       "      <td>20264</td>\n",
       "      <td>24568</td>\n",
       "      <td>Suprême NTM</td>\n",
       "    </tr>\n",
       "  </tbody>\n",
       "</table>\n",
       "</div>"
      ],
      "text/plain": [
       "   song_id                                         song_title  year  \\\n",
       "0    67453          Ma Benz by Suprême NTM (Ft. Lord Kossity)  1998   \n",
       "1     2706         Laisse pas traîner ton fils by Suprême NTM  1998   \n",
       "2     4921                    That’s My People by Suprême NTM  1998   \n",
       "3  3957441        Sur le drapeau by Suprême NTM (Ft. Sofiane)  2018   \n",
       "4    61371             Seine-Saint-Denis Style by Suprême NTM  1998   \n",
       "5    54666                        Pose ton gun by Suprême NTM  1998   \n",
       "6    70084  Affirmative Action (Saint-Denis-Style Remix) b...  1996   \n",
       "7      203                           La fièvre by Suprême NTM  1995   \n",
       "8    51240            Tout n'est pas si facile by Suprême NTM  1995   \n",
       "9    87367                    On est encore là by Suprême NTM  1998   \n",
       "\n",
       "   page_views  artist_id                    artist_names  \n",
       "0       97018      24568  Suprême NTM (Ft. Lord Kossity)  \n",
       "1      104386      24568                     Suprême NTM  \n",
       "2       74920      24568                     Suprême NTM  \n",
       "3       58408      24568       Suprême NTM (Ft. Sofiane)  \n",
       "4       53136      24568                     Suprême NTM  \n",
       "5       46390      24568                     Suprême NTM  \n",
       "6       32851      24568      Suprême NTM (Ft. The Firm)  \n",
       "7       27962      24568                     Suprême NTM  \n",
       "8       26234      24568                     Suprême NTM  \n",
       "9       20264      24568                     Suprême NTM  "
      ]
     },
     "execution_count": 76,
     "metadata": {},
     "output_type": "execute_result"
    }
   ],
   "source": [
    "songs_meta = []\n",
    "for song in json_data['response']['hits']:\n",
    "    songs_meta.append([song['result']['id'],\n",
    "                       song['result']['full_title'],\n",
    "                       song['result']['release_date_components']['year'],\n",
    "                       song['result']['stats']['pageviews'],\n",
    "                       song['result']['primary_artist']['id'],\n",
    "                       song['result']['artist_names']\n",
    "])\n",
    "\n",
    "#Make a Pandas dataframe from a list\n",
    "songs_df = pd.DataFrame(songs_meta)\n",
    "songs_df.columns = ['song_id', 'song_title', 'year', 'page_views', 'artist_id', 'artist_names']\n",
    "songs_df"
   ]
  },
  {
   "cell_type": "code",
   "execution_count": 77,
   "metadata": {},
   "outputs": [],
   "source": [
    "def get_songs_meta_of_a_search(band_name):\n",
    "    genius_search_url = f\"http://api.genius.com/search?q={band_name}&access_token={api_key.your_client_access_token}\"\n",
    "    json_data = requests.get(genius_search_url).json()\n",
    "    songs_meta = []\n",
    "    for song in json_data['response']['hits']:\n",
    "        songs_meta.append([song['result']['id'],\n",
    "                           song['result']['full_title'],\n",
    "                           song['result']['release_date_components']['year'],\n",
    "                           song['result']['stats']['pageviews'],\n",
    "                           song['result']['primary_artist']['id'],\n",
    "                           song['result']['artist_names']\n",
    "                          ])\n",
    "    \n",
    "    songs_df = pd.DataFrame(songs_meta)\n",
    "    songs_df.columns = ['song_id', 'song_title', 'year', 'page_views', 'artist_id', 'artist_names']\n",
    "    return(songs_df)"
   ]
  },
  {
   "cell_type": "code",
   "execution_count": 79,
   "metadata": {},
   "outputs": [
    {
     "data": {
      "text/html": [
       "<div>\n",
       "<style scoped>\n",
       "    .dataframe tbody tr th:only-of-type {\n",
       "        vertical-align: middle;\n",
       "    }\n",
       "\n",
       "    .dataframe tbody tr th {\n",
       "        vertical-align: top;\n",
       "    }\n",
       "\n",
       "    .dataframe thead th {\n",
       "        text-align: right;\n",
       "    }\n",
       "</style>\n",
       "<table border=\"1\" class=\"dataframe\">\n",
       "  <thead>\n",
       "    <tr style=\"text-align: right;\">\n",
       "      <th></th>\n",
       "      <th>song_id</th>\n",
       "      <th>song_title</th>\n",
       "      <th>year</th>\n",
       "      <th>page_views</th>\n",
       "      <th>artist_id</th>\n",
       "      <th>artist_names</th>\n",
       "    </tr>\n",
       "  </thead>\n",
       "  <tbody>\n",
       "    <tr>\n",
       "      <th>0</th>\n",
       "      <td>3266715</td>\n",
       "      <td>Notes pour trop tard by OrelSan (Ft. Ibeyi)</td>\n",
       "      <td>2017</td>\n",
       "      <td>551896</td>\n",
       "      <td>1286</td>\n",
       "      <td>OrelSan (Ft. Ibeyi)</td>\n",
       "    </tr>\n",
       "    <tr>\n",
       "      <th>1</th>\n",
       "      <td>4088140</td>\n",
       "      <td>Rêves bizarres by OrelSan (Ft. Damso)</td>\n",
       "      <td>2018</td>\n",
       "      <td>314322</td>\n",
       "      <td>1286</td>\n",
       "      <td>OrelSan (Ft. Damso)</td>\n",
       "    </tr>\n",
       "    <tr>\n",
       "      <th>2</th>\n",
       "      <td>55645</td>\n",
       "      <td>Suicide social by OrelSan</td>\n",
       "      <td>2011</td>\n",
       "      <td>255724</td>\n",
       "      <td>1286</td>\n",
       "      <td>OrelSan</td>\n",
       "    </tr>\n",
       "    <tr>\n",
       "      <th>3</th>\n",
       "      <td>3267187</td>\n",
       "      <td>San by OrelSan</td>\n",
       "      <td>2017</td>\n",
       "      <td>234475</td>\n",
       "      <td>1286</td>\n",
       "      <td>OrelSan</td>\n",
       "    </tr>\n",
       "    <tr>\n",
       "      <th>4</th>\n",
       "      <td>3267190</td>\n",
       "      <td>Défaite de famille by OrelSan</td>\n",
       "      <td>2017</td>\n",
       "      <td>218459</td>\n",
       "      <td>1286</td>\n",
       "      <td>OrelSan</td>\n",
       "    </tr>\n",
       "    <tr>\n",
       "      <th>5</th>\n",
       "      <td>3267195</td>\n",
       "      <td>Paradis by OrelSan</td>\n",
       "      <td>2017</td>\n",
       "      <td>216777</td>\n",
       "      <td>1286</td>\n",
       "      <td>OrelSan</td>\n",
       "    </tr>\n",
       "    <tr>\n",
       "      <th>6</th>\n",
       "      <td>51809</td>\n",
       "      <td>Sale pute by OrelSan</td>\n",
       "      <td>2007</td>\n",
       "      <td>215420</td>\n",
       "      <td>1286</td>\n",
       "      <td>OrelSan</td>\n",
       "    </tr>\n",
       "    <tr>\n",
       "      <th>7</th>\n",
       "      <td>3266712</td>\n",
       "      <td>Zone by OrelSan (Ft. Dizzee Rascal &amp; Nekfeu)</td>\n",
       "      <td>2017</td>\n",
       "      <td>211259</td>\n",
       "      <td>1286</td>\n",
       "      <td>OrelSan (Ft. Dizzee Rascal &amp; Nekfeu)</td>\n",
       "    </tr>\n",
       "    <tr>\n",
       "      <th>8</th>\n",
       "      <td>7325573</td>\n",
       "      <td>L'odeur de l'essence by OrelSan</td>\n",
       "      <td>2021</td>\n",
       "      <td>201167</td>\n",
       "      <td>1286</td>\n",
       "      <td>OrelSan</td>\n",
       "    </tr>\n",
       "    <tr>\n",
       "      <th>9</th>\n",
       "      <td>3266713</td>\n",
       "      <td>La pluie by OrelSan (Ft. Stromae)</td>\n",
       "      <td>2017</td>\n",
       "      <td>188567</td>\n",
       "      <td>1286</td>\n",
       "      <td>OrelSan (Ft. Stromae)</td>\n",
       "    </tr>\n",
       "  </tbody>\n",
       "</table>\n",
       "</div>"
      ],
      "text/plain": [
       "   song_id                                    song_title  year  page_views  \\\n",
       "0  3266715   Notes pour trop tard by OrelSan (Ft. Ibeyi)  2017      551896   \n",
       "1  4088140         Rêves bizarres by OrelSan (Ft. Damso)  2018      314322   \n",
       "2    55645                     Suicide social by OrelSan  2011      255724   \n",
       "3  3267187                                San by OrelSan  2017      234475   \n",
       "4  3267190                 Défaite de famille by OrelSan  2017      218459   \n",
       "5  3267195                            Paradis by OrelSan  2017      216777   \n",
       "6    51809                          Sale pute by OrelSan  2007      215420   \n",
       "7  3266712  Zone by OrelSan (Ft. Dizzee Rascal & Nekfeu)  2017      211259   \n",
       "8  7325573               L'odeur de l'essence by OrelSan  2021      201167   \n",
       "9  3266713             La pluie by OrelSan (Ft. Stromae)  2017      188567   \n",
       "\n",
       "   artist_id                          artist_names  \n",
       "0       1286                   OrelSan (Ft. Ibeyi)  \n",
       "1       1286                   OrelSan (Ft. Damso)  \n",
       "2       1286                               OrelSan  \n",
       "3       1286                               OrelSan  \n",
       "4       1286                               OrelSan  \n",
       "5       1286                               OrelSan  \n",
       "6       1286                               OrelSan  \n",
       "7       1286  OrelSan (Ft. Dizzee Rascal & Nekfeu)  \n",
       "8       1286                               OrelSan  \n",
       "9       1286                 OrelSan (Ft. Stromae)  "
      ]
     },
     "execution_count": 79,
     "metadata": {},
     "output_type": "execute_result"
    }
   ],
   "source": [
    "get_songs_meta_of_a_search('Orelsan')"
   ]
  },
  {
   "cell_type": "markdown",
   "metadata": {},
   "source": [
    "#### Exercice 1\n",
    "\n",
    "Extract the NTM band description using the following route, which does not require an authentication token: https://genius.com/api/artists/{artist_id}\n",
    "\n",
    "- find the band ID\n",
    "- discover the [`text_format` query parameter](https://docs.genius.com/#/response-format-h1)find group identifier that can be used to specify how text content is formatted. \n",
    "\n",
    "**Answer:**\n",
    "\n",
    "```python\n",
    "artist_id = \"24568\"\n",
    "text_format = 'plain'\n",
    "\n",
    "genius_api_url = f\"https://genius.com/api/artists/{artist_id}?text_format={text_format}\"\n",
    "json_data = requests.get(genius_api_url).json()\n",
    "print(json_data['response']['artist']['description']['plain'])\n",
    "```\n"
   ]
  },
  {
   "cell_type": "markdown",
   "metadata": {},
   "source": [
    "#### Exercice 2\n",
    "\n",
    "https://docs.genius.com/#artists-h2:\n",
    "\n",
    "```\n",
    "GET /artists/:id/songs\n",
    "\n",
    "Documents (songs) for the artist specified. By default, 20 items are returned for each request.\n",
    "````\n",
    "\n",
    "The query parameter `sort` sorts songs by popularity.  \n",
    "**Goal**: write a function that returns a list of the n most popular songs for an artist_id.\n",
    "\n",
    "\n",
    "**Answer**:\n",
    "\n",
    "```python\n",
    "def get_popular_songs_of_artist(artist_id, sort_param, max_number):\n",
    "    genius_api_url = f\"https://genius.com/api/artists/{artist_id}/songs?sort={sort_param}&per_page={max_number}text_format=plain\"\n",
    "    json_data = requests.get(genius_api_url).json()\n",
    "\n",
    "    for song in json_data['response']['songs']:\n",
    "        year = song['release_date_components']['year'] if song['release_date_components'] else 'none'\n",
    "        print(song['id'],\n",
    "              song['annotation_count'],\n",
    "              year,\n",
    "              song['full_title'])\n",
    "```\n",
    "\n",
    "and\n",
    "\n",
    "```python\n",
    "> get_popular_songs_of_artist('24568', 'popularity', 10)\n",
    "```"
   ]
  },
  {
   "cell_type": "markdown",
   "metadata": {},
   "source": [
    "#### LyricsGenius Wrapper\n",
    "\n",
    "Our initial aim (already achieved) was to extract song lyrics. But is there a simpler, more durable way? There is a `song` resource, and its [documentation](https://docs.genius.com/#songs-h2) is encouraging.\n",
    "\n",
    "> A song is a document hosted on Genius. It's usually music lyrics.\n",
    "\n",
    "Let's have a look.\n"
   ]
  },
  {
   "cell_type": "code",
   "execution_count": 80,
   "metadata": {},
   "outputs": [
    {
     "data": {
      "application/json": {
       "meta": {
        "status": 200
       },
       "response": {
        "song": {
         "album": {
          "api_path": "/albums/20994",
          "artist": {
           "api_path": "/artists/24568",
           "header_image_url": "https://images.genius.com/fdfb55d21023733cf0240308340ebd04.1000x444x1.jpg",
           "id": 24568,
           "image_url": "https://images.genius.com/949ffbea5ebe16dd1762092e0cb794c5.399x399x1.jpg",
           "is_meme_verified": false,
           "is_verified": false,
           "name": "Suprême NTM",
           "url": "https://genius.com/artists/Supreme-ntm"
          },
          "cover_art_url": "https://images.genius.com/17800f65ce7efc1a4bea4f1bc86685c6.320x320x1.jpg",
          "full_title": "Suprême NTM by Suprême NTM",
          "id": 20994,
          "name": "Suprême NTM",
          "release_date_for_display": "April 20, 1998",
          "url": "https://genius.com/albums/Supreme-ntm/Supreme-ntm"
         },
         "annotation_count": 24,
         "api_path": "/songs/87367",
         "apple_music_id": "273709036",
         "apple_music_player_url": "https://genius.com/songs/87367/apple_music_player",
         "artist_names": "Suprême NTM",
         "current_user_metadata": {
          "excluded_permissions": [
           "follow",
           "award_transcription_iq",
           "remove_transcription_iq",
           "pyong",
           "edit_lyrics",
           "view_annotation_engagement_data",
           "publish",
           "unpublish",
           "edit_spotify_details",
           "hide",
           "unhide",
           "toggle_featured_video",
           "add_pinned_annotation_to",
           "add_community_annotation_to",
           "destroy",
           "mark_as_not_spam",
           "edit_spotify_annotations_for",
           "verify_lyrics",
           "unverify_lyrics",
           "edit_anything",
           "edit_any_media",
           "edit",
           "rename",
           "edit_tags",
           "reindex",
           "view_lyrics_synchronization",
           "enable_media",
           "disable_media",
           "edit_lyrics_or_annotation_brackets",
           "see_editorial_indicators",
           "view_attribution_visualization",
           "edit_annotation_brackets",
           "preview_lyrics_for_export",
           "hide_apple_player",
           "unhide_apple_player",
           "trigger_apple_match",
           "mark_lyrics_evaluation_as_complete",
           "mark_lyrics_evaluation_as_staff_approved",
           "unmark_lyrics_evaluation_as_complete",
           "mark_lyrics_evaluation_as_un_staff_approved",
           "view_transcriber_media_player",
           "override_apple_match",
           "set_song_color_gradient",
           "mark_as_hot",
           "unmark_as_hot",
           "edit_youtube_url",
           "edit_soundcloud_url",
           "edit_spotify_uuid",
           "edit_vevo_url",
           "create_comment",
           "moderate_annotations",
           "create_annotation",
           "see_short_id",
           "manage_chart_item",
           "create_tag",
           "propose_lyrics_edit",
           "view_lyrics_edit_proposals_on_song",
           "create_question"
          ],
          "interactions": {
           "following": false,
           "pyong": false
          },
          "iq_by_action": {},
          "permissions": [
           "see_pageviews",
           "view_apple_music_player",
           "view_recommendations",
           "view_relationships_page",
           "view_song_story_gallery"
          ],
          "relationships": {}
         },
         "custom_performances": [
          {
           "artists": [
            {
             "api_path": "/artists/657513",
             "header_image_url": "https://images.genius.com/b45ad9bc0e471aba31d05d980a68ab82.225x225x1.jpg",
             "id": 657513,
             "image_url": "https://images.genius.com/b45ad9bc0e471aba31d05d980a68ab82.225x225x1.jpg",
             "is_meme_verified": false,
             "is_verified": false,
             "name": "Tony Smalios",
             "url": "https://genius.com/artists/Tony-smalios"
            },
            {
             "api_path": "/artists/24568",
             "header_image_url": "https://images.genius.com/fdfb55d21023733cf0240308340ebd04.1000x444x1.jpg",
             "id": 24568,
             "image_url": "https://images.genius.com/949ffbea5ebe16dd1762092e0cb794c5.399x399x1.jpg",
             "is_meme_verified": false,
             "is_verified": false,
             "name": "Suprême NTM",
             "url": "https://genius.com/artists/Supreme-ntm"
            }
           ],
           "label": "Mixing"
          },
          {
           "artists": [
            {
             "api_path": "/artists/658545",
             "header_image_url": "https://images.genius.com/b485c07caae65f36208929cab513f29d.600x600x1.jpg",
             "id": 658545,
             "image_url": "https://images.genius.com/c1ba34d3fc80606291b8aaa506e2702f.600x600x1.jpg",
             "is_meme_verified": false,
             "is_verified": false,
             "name": "Jean-Christophe Beaudon",
             "url": "https://genius.com/artists/Jean-christophe-beaudon"
            }
           ],
           "label": "Mastering Engineer"
          },
          {
           "artists": [
            {
             "api_path": "/artists/648827",
             "header_image_url": "https://assets.genius.com/images/default_avatar_300.png?1685647951",
             "id": 648827,
             "image_url": "https://assets.genius.com/images/default_avatar_300.png?1685647951",
             "is_meme_verified": false,
             "is_verified": false,
             "name": "Cédric Dumond",
             "url": "https://genius.com/artists/Cedric-dumond"
            }
           ],
           "label": "Voice"
          },
          {
           "artists": [
            {
             "api_path": "/artists/12547",
             "header_image_url": "https://images.genius.com/adfc115df7aa8098e784e49772251f52.1000x1000x1.jpg",
             "id": 12547,
             "image_url": "https://images.genius.com/adfc115df7aa8098e784e49772251f52.1000x1000x1.jpg",
             "is_meme_verified": false,
             "is_verified": false,
             "name": "Kool Shen",
             "url": "https://genius.com/artists/Kool-shen"
            },
            {
             "api_path": "/artists/12438",
             "header_image_url": "https://images.genius.com/av8r1dfk0zropywf26dullwah.1000x800x1.jpg",
             "id": 12438,
             "image_url": "https://images.genius.com/c08e1b6a6ce88c0fcedf2a74d8ed89f8.757x757x1.jpg",
             "is_meme_verified": false,
             "is_verified": false,
             "name": "Joey Starr",
             "url": "https://genius.com/artists/Joey-starr"
            }
           ],
           "label": "Rap"
          },
          {
           "artists": [
            {
             "api_path": "/artists/24568",
             "header_image_url": "https://images.genius.com/fdfb55d21023733cf0240308340ebd04.1000x444x1.jpg",
             "id": 24568,
             "image_url": "https://images.genius.com/949ffbea5ebe16dd1762092e0cb794c5.399x399x1.jpg",
             "is_meme_verified": false,
             "is_verified": false,
             "name": "Suprême NTM",
             "url": "https://genius.com/artists/Supreme-ntm"
            }
           ],
           "label": "Arranger"
          },
          {
           "artists": [
            {
             "api_path": "/artists/24568",
             "header_image_url": "https://images.genius.com/fdfb55d21023733cf0240308340ebd04.1000x444x1.jpg",
             "id": 24568,
             "image_url": "https://images.genius.com/949ffbea5ebe16dd1762092e0cb794c5.399x399x1.jpg",
             "is_meme_verified": false,
             "is_verified": false,
             "name": "Suprême NTM",
             "url": "https://genius.com/artists/Supreme-ntm"
            }
           ],
           "label": "Executive Producer"
          },
          {
           "artists": [
            {
             "api_path": "/artists/29283",
             "header_image_url": "https://images.genius.com/d1c7c94710be665f2e53f0c106e5ec23.1000x529x1.png",
             "id": 29283,
             "image_url": "https://images.genius.com/884bcbfd6d724865a9dad648fe405238.640x640x1.jpg",
             "is_meme_verified": false,
             "is_verified": false,
             "name": "Madizm",
             "url": "https://genius.com/artists/Madizm"
            }
           ],
           "label": "Scratches"
          }
         ],
         "description": {
          "dom": {
           "children": [
            {
             "children": [
              "Artistes : KoolShen, Joeystarr",
              {
               "tag": "br"
              },
              "Instru :",
              {
               "tag": "br"
              },
              "(I) Madizm",
              {
               "tag": "br"
              },
              "(II) Zoxeakopat",
              {
               "tag": "br"
              },
              "Sample : Whayback – ",
              {
               "attributes": {
                "href": "https://genius.com/Artifacts-whayback-lyrics",
                "rel": "noopener"
               },
               "children": [
                "“Artifacts”"
               ],
               "data": {
                "api_path": "/songs/8394"
               },
               "tag": "a"
              },
              {
               "tag": "br"
              },
              "Album : ",
              {
               "children": [
                "Suprême NTM"
               ],
               "tag": "em"
              },
              " (1998)",
              {
               "tag": "br"
              },
              "[Bad image! Try pasting a different image link!]"
             ],
             "tag": "p"
            },
            "",
            {
             "children": [
              "Le double morceau de l'album éponyme du Suprême NTM, qui affirme la persévérance du duo dans sa subversion. La version (II) présente le même texte, privé de l'extrait télévisuel faisant office de bridge, sur une instru de Zoxeakopat (des Sages Poètes de la Rue)"
             ],
             "tag": "p"
            },
            "",
            {
             "children": [
              {
               "attributes": {
                "href": "http://www.youtube.com/watch?v=stI3TkXZ1HE",
                "rel": "noopener nofollow"
               },
               "children": [
                "http://www.youtube.com/watch?v=stI3TkXZ1HE"
               ],
               "tag": "a"
              }
             ],
             "tag": "p"
            }
           ],
           "tag": "root"
          }
         },
         "description_annotation": {
          "_type": "referent",
          "annotatable": {
           "api_path": "/songs/87367",
           "client_timestamps": {
            "lyrics_updated_at": 1667992019,
            "updated_by_human_at": 1667992019
           },
           "context": "Suprême NTM",
           "id": 87367,
           "image_url": "https://images.genius.com/17800f65ce7efc1a4bea4f1bc86685c6.320x320x1.jpg",
           "link_title": "On est encore là by Suprême NTM",
           "title": "On est encore là",
           "type": "Song",
           "url": "https://genius.com/Supreme-ntm-on-est-encore-la-lyrics"
          },
          "annotations": [
           {
            "api_path": "/annotations/3693576",
            "authors": [
             {
              "attribution": 1,
              "pinned_role": null,
              "user": {
               "api_path": "/users/64332",
               "avatar": {
                "medium": {
                 "bounding_box": {
                  "height": 400,
                  "width": 300
                 },
                 "url": "https://s3.amazonaws.com/rapgenius/avatars/medium/1358289763_64332_Tof.png"
                },
                "small": {
                 "bounding_box": {
                  "height": 100,
                  "width": 100
                 },
                 "url": "https://s3.amazonaws.com/rapgenius/avatars/small/1358289764_64332_Tof.png"
                },
                "thumb": {
                 "bounding_box": {
                  "height": 32,
                  "width": 32
                 },
                 "url": "https://s3.amazonaws.com/rapgenius/avatars/thumb/1358289764_64332_Tof.png"
                },
                "tiny": {
                 "bounding_box": {
                  "height": 16,
                  "width": 16
                 },
                 "url": "https://s3.amazonaws.com/rapgenius/avatars/tiny/64332_Tof.png"
                }
               },
               "current_user_metadata": {
                "excluded_permissions": [
                 "follow"
                ],
                "interactions": {
                 "following": false
                },
                "permissions": []
               },
               "header_image_url": "https://s3.amazonaws.com/rapgenius/avatars/medium/1358289763_64332_Tof.png",
               "human_readable_role_for_display": "Moderator",
               "id": 64332,
               "iq": 76310,
               "login": "CirrusMinor",
               "name": "CirrusMinor",
               "role_for_display": "moderator",
               "url": "https://genius.com/CirrusMinor"
              }
             }
            ],
            "body": {
             "dom": {
              "children": [
               {
                "children": [
                 "Artistes : KoolShen, Joeystarr",
                 {
                  "tag": "br"
                 },
                 "Instru :",
                 {
                  "tag": "br"
                 },
                 "(I) Madizm",
                 {
                  "tag": "br"
                 },
                 "(II) Zoxeakopat",
                 {
                  "tag": "br"
                 },
                 "Sample : Whayback – ",
                 {
                  "attributes": {
                   "href": "https://genius.com/Artifacts-whayback-lyrics",
                   "rel": "noopener"
                  },
                  "children": [
                   "“Artifacts”"
                  ],
                  "data": {
                   "api_path": "/songs/8394"
                  },
                  "tag": "a"
                 },
                 {
                  "tag": "br"
                 },
                 "Album : ",
                 {
                  "children": [
                   "Suprême NTM"
                  ],
                  "tag": "em"
                 },
                 " (1998)",
                 {
                  "tag": "br"
                 },
                 "[Bad image! Try pasting a different image link!]"
                ],
                "tag": "p"
               },
               "",
               {
                "children": [
                 "Le double morceau de l'album éponyme du Suprême NTM, qui affirme la persévérance du duo dans sa subversion. La version (II) présente le même texte, privé de l'extrait télévisuel faisant office de bridge, sur une instru de Zoxeakopat (des Sages Poètes de la Rue)"
                ],
                "tag": "p"
               },
               "",
               {
                "children": [
                 {
                  "attributes": {
                   "href": "http://www.youtube.com/watch?v=stI3TkXZ1HE",
                   "rel": "noopener nofollow"
                  },
                  "children": [
                   "http://www.youtube.com/watch?v=stI3TkXZ1HE"
                  ],
                  "tag": "a"
                 }
                ],
                "tag": "p"
               }
              ],
              "tag": "root"
             }
            },
            "comment_count": 0,
            "community": true,
            "cosigned_by": [],
            "current_user_metadata": {
             "excluded_permissions": [
              "vote",
              "edit",
              "cosign",
              "uncosign",
              "destroy",
              "accept",
              "reject",
              "see_unreviewed",
              "clear_votes",
              "propose_edit_to",
              "pin_to_profile",
              "unpin_from_profile",
              "update_source",
              "edit_custom_preview",
              "create_comment"
             ],
             "interactions": {
              "cosign": false,
              "pyong": false,
              "vote": null
             },
             "iq_by_action": {},
             "permissions": []
            },
            "custom_preview": null,
            "has_voters": true,
            "id": 3693576,
            "pinned": false,
            "rejection_comment": null,
            "share_url": "https://genius.com/3693576",
            "source": null,
            "state": "accepted",
            "url": "https://genius.com/3693576/Supreme-ntm-on-est-encore-la/On-est-encore-la",
            "verified": false,
            "verified_by": null,
            "votes_total": 1
           }
          ],
          "annotator_id": 64332,
          "annotator_login": "CirrusMinor",
          "api_path": "/referents/3693576",
          "classification": "accepted",
          "fragment": "On est encore là",
          "id": 3693576,
          "is_description": true,
          "path": "/3693576/Supreme-ntm-on-est-encore-la/On-est-encore-la",
          "range": {
           "content": "On est encore là"
          },
          "song_id": 87367,
          "url": "https://genius.com/3693576/Supreme-ntm-on-est-encore-la/On-est-encore-la",
          "verified_annotator_ids": []
         },
         "embed_content": "<div id='rg_embed_link_87367' class='rg_embed_link' data-song-id='87367'>Read <a href='https://genius.com/Supreme-ntm-on-est-encore-la-lyrics'>“On est encore là” by Suprême NTM</a> on Genius</div> <script crossorigin src='//genius.com/songs/87367/embed.js'></script>",
         "featured_artists": [],
         "featured_video": false,
         "full_title": "On est encore là by Suprême NTM",
         "header_image_thumbnail_url": "https://images.genius.com/17800f65ce7efc1a4bea4f1bc86685c6.300x300x1.jpg",
         "header_image_url": "https://images.genius.com/17800f65ce7efc1a4bea4f1bc86685c6.320x320x1.jpg",
         "id": 87367,
         "language": "fr",
         "lyrics_marked_complete_by": null,
         "lyrics_marked_staff_approved_by": null,
         "lyrics_owner_id": 64332,
         "lyrics_placeholder_reason": null,
         "lyrics_state": "complete",
         "media": [
          {
           "native_uri": "spotify:track:05lnQ0JjWC85TNOtm3UVVN",
           "provider": "spotify",
           "type": "audio",
           "url": "https://open.spotify.com/track/05lnQ0JjWC85TNOtm3UVVN"
          },
          {
           "provider": "youtube",
           "start": 0,
           "type": "video",
           "url": "http://www.youtube.com/watch?v=DabwgV36-fU"
          }
         ],
         "path": "/Supreme-ntm-on-est-encore-la-lyrics",
         "primary_artist": {
          "api_path": "/artists/24568",
          "header_image_url": "https://images.genius.com/fdfb55d21023733cf0240308340ebd04.1000x444x1.jpg",
          "id": 24568,
          "image_url": "https://images.genius.com/949ffbea5ebe16dd1762092e0cb794c5.399x399x1.jpg",
          "is_meme_verified": false,
          "is_verified": false,
          "name": "Suprême NTM",
          "url": "https://genius.com/artists/Supreme-ntm"
         },
         "producer_artists": [
          {
           "api_path": "/artists/29283",
           "header_image_url": "https://images.genius.com/d1c7c94710be665f2e53f0c106e5ec23.1000x529x1.png",
           "id": 29283,
           "image_url": "https://images.genius.com/884bcbfd6d724865a9dad648fe405238.640x640x1.jpg",
           "is_meme_verified": false,
           "is_verified": false,
           "name": "Madizm",
           "url": "https://genius.com/artists/Madizm"
          }
         ],
         "pyongs_count": 1,
         "recording_location": null,
         "relationships_index_url": "https://genius.com/Supreme-ntm-on-est-encore-la-sample",
         "release_date": "1998-04-21",
         "release_date_for_display": "April 21, 1998",
         "release_date_with_abbreviated_month_for_display": "Apr. 21, 1998",
         "song_art_image_thumbnail_url": "https://images.genius.com/17800f65ce7efc1a4bea4f1bc86685c6.300x300x1.jpg",
         "song_art_image_url": "https://images.genius.com/17800f65ce7efc1a4bea4f1bc86685c6.320x320x1.jpg",
         "song_relationships": [
          {
           "relationship_type": "samples",
           "songs": [],
           "type": "samples",
           "url": "https://genius.com/Led-zeppelin-moby-dick-sample/samples"
          },
          {
           "relationship_type": "sampled_in",
           "songs": [
            {
             "annotation_count": 6,
             "api_path": "/songs/109408",
             "artist_names": "Kery James",
             "featured_artists": [],
             "full_title": "Vrai peura by Kery James",
             "header_image_thumbnail_url": "https://images.genius.com/e7741b75bc5a012adf9249558b44d9e9.300x300x1.jpg",
             "header_image_url": "https://images.genius.com/e7741b75bc5a012adf9249558b44d9e9.400x400x1.jpg",
             "id": 109408,
             "language": "fr",
             "lyrics_owner_id": 72031,
             "lyrics_state": "complete",
             "path": "/Kery-james-vrai-peura-lyrics",
             "primary_artist": {
              "api_path": "/artists/1273",
              "header_image_url": "https://images.genius.com/b3e3e1d25f67b271355a4e68bc7b7abf.1000x667x1.jpg",
              "id": 1273,
              "image_url": "https://images.genius.com/74cf66f613495ab9c902d97245e180d9.588x588x1.png",
              "iq": 2728,
              "is_meme_verified": false,
              "is_verified": true,
              "name": "Kery James",
              "url": "https://genius.com/artists/Kery-james"
             },
             "pyongs_count": null,
             "relationships_index_url": "https://genius.com/Kery-james-vrai-peura-sample",
             "release_date_components": {
              "day": 31,
              "month": 3,
              "year": 2008
             },
             "release_date_for_display": "March 31, 2008",
             "release_date_with_abbreviated_month_for_display": "Mar. 31, 2008",
             "song_art_image_thumbnail_url": "https://images.genius.com/e7741b75bc5a012adf9249558b44d9e9.300x300x1.jpg",
             "song_art_image_url": "https://images.genius.com/e7741b75bc5a012adf9249558b44d9e9.400x400x1.jpg",
             "stats": {
              "hot": false,
              "unreviewed_annotations": 0
             },
             "title": "Vrai peura",
             "title_with_featured": "Vrai peura",
             "url": "https://genius.com/Kery-james-vrai-peura-lyrics"
            }
           ],
           "type": "sampled_in",
           "url": null
          },
          {
           "relationship_type": "interpolates",
           "songs": [],
           "type": "interpolates",
           "url": null
          },
          {
           "relationship_type": "interpolated_by",
           "songs": [],
           "type": "interpolated_by",
           "url": null
          },
          {
           "relationship_type": "cover_of",
           "songs": [],
           "type": "cover_of",
           "url": "https://genius.com/D4vd-romantic-homicide-sample/covers"
          },
          {
           "relationship_type": "covered_by",
           "songs": [],
           "type": "covered_by",
           "url": null
          },
          {
           "relationship_type": "remix_of",
           "songs": [],
           "type": "remix_of",
           "url": null
          },
          {
           "relationship_type": "remixed_by",
           "songs": [],
           "type": "remixed_by",
           "url": null
          },
          {
           "relationship_type": "live_version_of",
           "songs": [],
           "type": "live_version_of",
           "url": null
          },
          {
           "relationship_type": "performed_live_as",
           "songs": [],
           "type": "performed_live_as",
           "url": null
          },
          {
           "relationship_type": "translation_of",
           "songs": [],
           "type": "translation_of",
           "url": "https://genius.com/Kendrick-lamar-humble-sample/translations"
          },
          {
           "relationship_type": "translations",
           "songs": [],
           "type": "translations",
           "url": null
          }
         ],
         "stats": {
          "accepted_annotations": 22,
          "contributors": 18,
          "hot": false,
          "iq_earners": 17,
          "pageviews": 20264,
          "transcribers": 3,
          "unreviewed_annotations": 1,
          "verified_annotations": 0
         },
         "title": "On est encore là",
         "title_with_featured": "On est encore là",
         "translation_songs": [],
         "url": "https://genius.com/Supreme-ntm-on-est-encore-la-lyrics",
         "verified_annotations_by": [],
         "verified_contributors": [],
         "verified_lyrics_by": [],
         "writer_artists": [
          {
           "api_path": "/artists/12438",
           "header_image_url": "https://images.genius.com/av8r1dfk0zropywf26dullwah.1000x800x1.jpg",
           "id": 12438,
           "image_url": "https://images.genius.com/c08e1b6a6ce88c0fcedf2a74d8ed89f8.757x757x1.jpg",
           "is_meme_verified": false,
           "is_verified": false,
           "name": "Joey Starr",
           "url": "https://genius.com/artists/Joey-starr"
          },
          {
           "api_path": "/artists/12547",
           "header_image_url": "https://images.genius.com/adfc115df7aa8098e784e49772251f52.1000x1000x1.jpg",
           "id": 12547,
           "image_url": "https://images.genius.com/adfc115df7aa8098e784e49772251f52.1000x1000x1.jpg",
           "is_meme_verified": false,
           "is_verified": false,
           "name": "Kool Shen",
           "url": "https://genius.com/artists/Kool-shen"
          }
         ]
        }
       }
      },
      "text/plain": [
       "<IPython.core.display.JSON object>"
      ]
     },
     "execution_count": 80,
     "metadata": {
      "application/json": {
       "expanded": false,
       "root": "root"
      }
     },
     "output_type": "execute_result"
    }
   ],
   "source": [
    "from IPython.display import JSON\n",
    "song_id = '87367'\n",
    "json_data = requests.get(f\"https://api.genius.com/songs/{song_id}?access_token={api_key.your_client_access_token}\").json()\n",
    "JSON(json_data)"
   ]
  },
  {
   "cell_type": "markdown",
   "metadata": {},
   "source": [
    "**Disappointing!** Unfortunately, contrary to what the documentation claims, the lyrics are not accessible.  \n",
    "The Genius API appears extremely restrictive, probably for commercial reasons (it's easier to contribute than to grab the data...). In this case, it may be useful to use a wrapper.\n",
    "\n",
    "An **API wrapper** is a language-specific package or kit that encapsulates multiple API calls to make complicated functions easy to use. \n",
    "\n",
    "For Genius, there's an excellent wrapper, freely available, **LyricsGenius**. \n",
    "\n",
    "- code: https://github.com/johnwmillr/LyricsGenius\n",
    "- documentation: https://lyricsgenius.readthedocs.io/en/master/ \n",
    "\n",
    "The [method implemented to extract lyrics](https://github.com/johnwmillr/LyricsGenius/blob/master/lyricsgenius/genius.py#L95) is quite similar to ours. However, the code is of better quality: it's more tried and tested, and we can expect it to be maintained. And it's easier to use. There's no need, for example, to find the song identifier."
   ]
  },
  {
   "cell_type": "code",
   "execution_count": null,
   "metadata": {},
   "outputs": [],
   "source": [
    "pip install git+https://github.com/johnwmillr/LyricsGenius.git"
   ]
  },
  {
   "cell_type": "code",
   "execution_count": 83,
   "metadata": {},
   "outputs": [],
   "source": [
    "import lyricsgenius\n",
    "genius = lyricsgenius.Genius(api_key.your_client_access_token)"
   ]
  },
  {
   "cell_type": "code",
   "execution_count": 84,
   "metadata": {},
   "outputs": [
    {
     "name": "stdout",
     "output_type": "stream",
     "text": [
      "Searching for songs by NTM...\n",
      "\n",
      "Changing artist name to 'Suprême NTM'\n",
      "Song 1: \"93.2 NTMEO Radio\"\n",
      "Song 2: \"Affirmative Action\"\n",
      "Song 3: \"Affirmative Action (Saint-Denis-Style Remix)\"\n",
      "\n",
      "Reached user-specified song limit (3).\n",
      "Done. Found 3 songs.\n"
     ]
    }
   ],
   "source": [
    "artist = genius.search_artist(\"NTM\", max_songs=3, sort=\"title\")"
   ]
  },
  {
   "cell_type": "code",
   "execution_count": 85,
   "metadata": {},
   "outputs": [
    {
     "name": "stdout",
     "output_type": "stream",
     "text": [
      "Suprême NTM, 3 songs <class 'lyricsgenius.types.artist.Artist'>\n"
     ]
    }
   ],
   "source": [
    "print(artist, type(artist))"
   ]
  },
  {
   "cell_type": "markdown",
   "metadata": {},
   "source": [
    "L’objet `artist` stocke toutes les informations relatives à un artiste, notamment :\n",
    "\n",
    "- son nom: `artist.name`\n",
    "- son id: `artist.id`\n",
    "- la liste de ses chansons: `artist.songs`\n",
    "\n",
    "On peut ainsi facilement accéder à chacune des chansons pour obtenir, par exemple pour la seconde de la liste:\n",
    "\n",
    "- le titre: `artist.songs[1].title`\n",
    "- l’id: `artist.songs[1].id`\n",
    "- les paroles: `artist.songs[1].lyrics`\n",
    "\n"
   ]
  },
  {
   "cell_type": "code",
   "execution_count": null,
   "metadata": {},
   "outputs": [],
   "source": [
    "# Print and analyze all the current properties and values of `artist` object?\n",
    "'''\n",
    "from pprint import pprint\n",
    "pprint(vars(artist))\n",
    "'''"
   ]
  },
  {
   "cell_type": "code",
   "execution_count": 86,
   "metadata": {},
   "outputs": [
    {
     "name": "stdout",
     "output_type": "stream",
     "text": [
      "Suprême NTM 24568\n",
      "=====\n",
      "Affirmative Action 1657320\n",
      "=====\n",
      "Chacun sa Mafia \n",
      "Chacun sa Mifa\n",
      "You sit back relax catching contacts\n",
      "Sip your cognac …\n"
     ]
    }
   ],
   "source": [
    "print(artist.name, artist.id)\n",
    "print('=====')\n",
    "print(artist.songs[1].title, artist.songs[1].id)\n",
    "print('=====')\n",
    "print(artist.songs[1].lyrics[56:140], '…')"
   ]
  },
  {
   "cell_type": "markdown",
   "metadata": {},
   "source": [
    "It's easy to loop on the song list:"
   ]
  },
  {
   "cell_type": "code",
   "execution_count": 87,
   "metadata": {},
   "outputs": [
    {
     "name": "stdout",
     "output_type": "stream",
     "text": [
      "93.2 NTMEO Radio\n",
      "Affirmative Action\n",
      "Affirmative Action (Saint-Denis-Style Remix)\n"
     ]
    }
   ],
   "source": [
    "for song in artist.songs:\n",
    "    print(song.title)"
   ]
  },
  {
   "cell_type": "markdown",
   "metadata": {},
   "source": [
    "LyricsGenius permet d’accéder directement aux paroles d’une chanson:"
   ]
  },
  {
   "cell_type": "code",
   "execution_count": 89,
   "metadata": {},
   "outputs": [
    {
     "name": "stdout",
     "output_type": "stream",
     "text": [
      "Searching for \"Encore là\" by NTM...\n",
      "Done.\n",
      "18 ContributorsOn est encore là Lyrics[Couplet 1 - KoolShen]\n",
      "Retour en force de l'ordre moral, je veux surtout pas te casser ton moral\n",
      "Mais c'est le bordel quand t'entres pas dans leur panel, je suis formel\n",
      "Et reste formé pour ça, nique le CSA\n",
      "C'est pour ça que j'ai gardé ma tenue de combat\n",
      "Que je lâcherai pas mon ton-bâ, fais gaffe à ton dos, protège tes abdos\n",
      "Si tu parles cash de leurs vices, ils te feront pas de cadeau\n",
      "On nous censure parce que notre culture est trop basanée\n",
      "Qu'on représente pas assez la France du passé\n",
      "C'est carré, on veut nous stopper : ça allait\n",
      "Tant qu'on rappait dans les MJC, mais aujourd'hui\n",
      "Le phénomène a grandi, Dieu merci, je remercie\n",
      "Les jeunes qui rappent sans merci et puis nique sa mère, si\n",
      "On passe pas dans leurs radios, on fera le tour, c'est pas grave\n",
      "Le plus dur c'était de sortir de la cave et les gens le savent\n",
      "Hey, on est encore là\n",
      "Prêt à foutre le souk et tout le monde est ccord-d'a\n",
      "\n",
      "[Refrain - Joeystarr, KoolShen]\n",
      "Non, non ! (hahaha...) On est encore là\n",
      "Prêt à foutre le souk et tout le monde est ccord-d'a\n",
      "Nique le CSA ! (hahaha...)\n",
      "\"Fuck that ! I'm above that. I don't play that.\"\n",
      "Non, non ! (hahaha...) On est encore là\n",
      "Prêt à foutre le souk et tout le monde est ccord-d'a\n",
      "Nique le CSA ! (hahaha...)\n",
      "\"Fuck that ! I'm above that. I don't play that.\"\n",
      "You might also like[Couplet 2 - Joeystarr]\n",
      "Personne n'a oublié : il fut un temps, on nous aurait pendu\n",
      "Comme des vendus, des bandits à la langue trop pendue\n",
      "C'est les honneurs qu'on nous réserve pour la suite ?\n",
      "Parce que quand je kicke la vérité, putain, ça se complique !\n",
      "C'est pour ça que je lis dans leurs yeux la terreur, ce qui me fait peur\n",
      "C'est que mon cœur est aussi dur que le pays qui m'a vu naître par erreur\n",
      "Ici, ce pays où l'esprit critique est en crise\n",
      "Écrasé par l'assise des hypocrites qui ont la mainmise\n",
      "Misant sur l'info biz, la falsifiant, t'façon faut que ça saigne\n",
      "On pousse les masses à la confrontation, putain, c'est pas bon\n",
      "Enlevez-nous ce bâillon, y a trop de trucs qui tournent pas rond\n",
      "Et donc face à tout ça, faut pas lâcher, faut faire front !\n",
      "Faut plus m'interdire de faire vibrer les consciences\n",
      "T'façon c'est tout ce que je sais faire, j'en subis les conséquences\n",
      "Et si on censure, s'acharne à casser le Suprême\n",
      "C'est qu'on fait pas partie de la solution, mais peut-être plutôt du problème...\n",
      "\n",
      "[Refrain - Joeystarr, KoolShen]\n",
      "Non, non ! (hahaha...) On est encore là\n",
      "Prêt à foutre le souk et tout le monde est ccord-d'a\n",
      "Nique le CSA ! (hahaha...)\n",
      "\"Fuck that ! I'm above that. I don't play that.\"\n",
      "Non, non ! (hahaha...) On est encore là\n",
      "Prêt à foutre le souk et tout le monde est ccord-d'a\n",
      "Nique le CSA ! (hahaha...)\n",
      "\"Fuck that ! I'm above that. I don't play that.\"\n",
      "[Bridge - extrait télé]\n",
      "\"Oui eh bien bonjour\n",
      "Je me trouve donc en ce moment-même au tribunal d'Aix-en-Provence\n",
      "Pour l'affaire qui oppose le groupe Suprême NTM aux forces de l'ordre\n",
      "Et les juges viennent à l'instant de rendre leur verdict.\"\n",
      "\n",
      "[Couplet 3 - KoolShen]\n",
      "Deux mois de sursis, cinq barres d'amende, on est condamnés\n",
      "Pour être encore là après tant d'années\n",
      "Et pour les avoir tant tannés instantanément, de façon spontanée\n",
      "On en paye le prix aujourd'hui mon gars, mais c'est pas un hasard\n",
      "Ça correspond au climat bizarre\n",
      "À l'odeur étrange qui émane du côté d'Orange\n",
      "Le Sud est contaminé, remarque, y a pas que la droite, aussi\n",
      "Les lois Debré tu crois que c'est quoi sinon une pâle copie ?\n",
      "De celui qu'on ne censure pas\n",
      "De celui qui parle de race supérieure et qu'on invite à tous les débats\n",
      "Je suis pas sûr qu'y ait pas deux poids, deux mesures et pas\n",
      "Et pas de justice, surtout si tu pèses pas\n",
      "Tant pis, on vit avec ça et puis de toute façon\n",
      "On s'est jamais trop fait d'illusion\n",
      "La liberté d'expression ? Laissez-moi gole-ri\n",
      "Ils subissent tous des pressions, non c'est pas des conneries\n",
      "La grande bouffonnerie, continue mais je serai là\n",
      "C'est pour ça qu'à chaque fois, je ferai la différence, refrè là\n",
      "Tu sais, je défraie la chronique, pas par plaisir, putain, mais simplement parce que je chronique\n",
      "La vie et ça les met en panique\n",
      "[Refrain - Joeystarr, KoolShen]\n",
      "Non, non ! (hahaha...) On est encore là\n",
      "Prêt à foutre le souk et tout le monde est ccord-d'a\n",
      "Nique le CSA ! (hahaha...)\n",
      "\"Fuck that ! I'm above that. I don't play that.\"\n",
      "Non, non ! (hahaha...) On est encore là\n",
      "Prêt à foutre le souk et tout le monde est ccord-d'a\n",
      "Nique le CSA ! (hahaha...)\n",
      "\"Fuck that ! I'm above that. I don't play that1Embed\n"
     ]
    }
   ],
   "source": [
    "song_title_search = 'Encore là'\n",
    "band_name_search = 'NTM'\n",
    "print(genius.search_song(song_title_search, band_name_search).lyrics)"
   ]
  },
  {
   "cell_type": "markdown",
   "metadata": {},
   "source": [
    "It becomes very easy to write a small function to build a search corpus..."
   ]
  },
  {
   "cell_type": "code",
   "execution_count": 90,
   "metadata": {},
   "outputs": [],
   "source": [
    "import lyricsgenius\n",
    "import pandas as pd\n",
    "\n",
    "def get_artists_lyrics(artist_names_list, max_songs, sort_criteria):\n",
    "    \n",
    "    genius = lyricsgenius.Genius(api_key.your_client_access_token)\n",
    "    lyrics_df = pd.DataFrame(columns=['artist_name', 'artist_id', 'song_id', 'song_title', 'song_lyrics'])\n",
    "    \n",
    "    for artist_name in artist_names_list:\n",
    "        artist = genius.search_artist(artist_name, max_songs=max_songs, sort=sort_criteria)\n",
    "        artist_name = artist.name\n",
    "        artist_id = artist.id\n",
    "        songs_meta = []\n",
    "        for song in artist.songs:\n",
    "            song_meta = [\n",
    "                str(artist_name),\n",
    "                str(artist_id),\n",
    "                str(song.id),\n",
    "                str(song.title),\n",
    "                str(song.lyrics)\n",
    "            ]\n",
    "            lyrics_df.loc[len(lyrics_df)] = song_meta\n",
    "    return(lyrics_df)"
   ]
  },
  {
   "cell_type": "code",
   "execution_count": 91,
   "metadata": {},
   "outputs": [
    {
     "name": "stdout",
     "output_type": "stream",
     "text": [
      "Searching for songs by NTM...\n",
      "\n",
      "Changing artist name to 'Suprême NTM'\n",
      "Song 1: \"Laisse pas traîner ton fils\"\n",
      "Song 2: \"Ma Benz\"\n",
      "Song 3: \"That’s My People\"\n",
      "\n",
      "Reached user-specified song limit (3).\n",
      "Done. Found 3 songs.\n",
      "Searching for songs by Orelsan...\n",
      "\n",
      "Changing artist name to 'OrelSan'\n",
      "Song 1: \"Notes pour trop tard\"\n",
      "Song 2: \"Rêves bizarres\"\n",
      "Song 3: \"Suicide social\"\n",
      "\n",
      "Reached user-specified song limit (3).\n",
      "Done. Found 3 songs.\n"
     ]
    }
   ],
   "source": [
    "lyrics_df = get_artists_lyrics(['NTM', 'Orelsan'], 3, 'popularity')"
   ]
  },
  {
   "cell_type": "code",
   "execution_count": 92,
   "metadata": {},
   "outputs": [
    {
     "data": {
      "text/html": [
       "<div>\n",
       "<style scoped>\n",
       "    .dataframe tbody tr th:only-of-type {\n",
       "        vertical-align: middle;\n",
       "    }\n",
       "\n",
       "    .dataframe tbody tr th {\n",
       "        vertical-align: top;\n",
       "    }\n",
       "\n",
       "    .dataframe thead th {\n",
       "        text-align: right;\n",
       "    }\n",
       "</style>\n",
       "<table border=\"1\" class=\"dataframe\">\n",
       "  <thead>\n",
       "    <tr style=\"text-align: right;\">\n",
       "      <th></th>\n",
       "      <th>artist_name</th>\n",
       "      <th>artist_id</th>\n",
       "      <th>song_id</th>\n",
       "      <th>song_title</th>\n",
       "      <th>song_lyrics</th>\n",
       "    </tr>\n",
       "  </thead>\n",
       "  <tbody>\n",
       "    <tr>\n",
       "      <th>0</th>\n",
       "      <td>Suprême NTM</td>\n",
       "      <td>24568</td>\n",
       "      <td>2706</td>\n",
       "      <td>Laisse pas traîner ton fils</td>\n",
       "      <td>41 ContributorsTranslationsEnglishLaisse pas t...</td>\n",
       "    </tr>\n",
       "    <tr>\n",
       "      <th>1</th>\n",
       "      <td>Suprême NTM</td>\n",
       "      <td>24568</td>\n",
       "      <td>67453</td>\n",
       "      <td>Ma Benz</td>\n",
       "      <td>36 ContributorsMa Benz Lyrics[Intro - Lord Kos...</td>\n",
       "    </tr>\n",
       "    <tr>\n",
       "      <th>2</th>\n",
       "      <td>Suprême NTM</td>\n",
       "      <td>24568</td>\n",
       "      <td>4921</td>\n",
       "      <td>That’s My People</td>\n",
       "      <td>24 ContributorsTranslationsEnglishThat’s My Pe...</td>\n",
       "    </tr>\n",
       "    <tr>\n",
       "      <th>3</th>\n",
       "      <td>OrelSan</td>\n",
       "      <td>1286</td>\n",
       "      <td>3266715</td>\n",
       "      <td>Notes pour trop tard</td>\n",
       "      <td>101 ContributorsTranslationsEnglishNotes pour ...</td>\n",
       "    </tr>\n",
       "    <tr>\n",
       "      <th>4</th>\n",
       "      <td>OrelSan</td>\n",
       "      <td>1286</td>\n",
       "      <td>4088140</td>\n",
       "      <td>Rêves bizarres</td>\n",
       "      <td>153 ContributorsRêves bizarres Lyrics[Paroles ...</td>\n",
       "    </tr>\n",
       "  </tbody>\n",
       "</table>\n",
       "</div>"
      ],
      "text/plain": [
       "   artist_name artist_id  song_id                   song_title  \\\n",
       "0  Suprême NTM     24568     2706  Laisse pas traîner ton fils   \n",
       "1  Suprême NTM     24568    67453                      Ma Benz   \n",
       "2  Suprême NTM     24568     4921             That’s My People   \n",
       "3      OrelSan      1286  3266715         Notes pour trop tard   \n",
       "4      OrelSan      1286  4088140               Rêves bizarres   \n",
       "\n",
       "                                         song_lyrics  \n",
       "0  41 ContributorsTranslationsEnglishLaisse pas t...  \n",
       "1  36 ContributorsMa Benz Lyrics[Intro - Lord Kos...  \n",
       "2  24 ContributorsTranslationsEnglishThat’s My Pe...  \n",
       "3  101 ContributorsTranslationsEnglishNotes pour ...  \n",
       "4  153 ContributorsRêves bizarres Lyrics[Paroles ...  "
      ]
     },
     "execution_count": 92,
     "metadata": {},
     "output_type": "execute_result"
    }
   ],
   "source": [
    "lyrics_df.head()"
   ]
  },
  {
   "cell_type": "markdown",
   "metadata": {},
   "source": [
    "**The corpus is rapidly built up for analysis: stylometry, attribution or topic modeling, etc.**"
   ]
  },
  {
   "cell_type": "code",
   "execution_count": 105,
   "metadata": {},
   "outputs": [
    {
     "name": "stdout",
     "output_type": "stream",
     "text": [
      "36 ContributorsMa Benz Lyrics[Intro - Lord Kossity &  Joey Starr]\n",
      "Yo, yo rude boy !\n",
      "Jaguar Gorgone, Kool Shen, Lord Kossity\n",
      "Come back again, now man !\n",
      "SP.One from the track\n",
      "Everytime I’m coming with car (for real !)\n",
      "He comin' with them [?]\n",
      "\n"
     ]
    }
   ],
   "source": [
    "print(lyrics_df.iloc[1].song_lyrics[:240])"
   ]
  },
  {
   "cell_type": "markdown",
   "metadata": {},
   "source": [
    "**Issue**. We see that the first line contains credits... `.index()` allows us to position ourselves after the first line break."
   ]
  },
  {
   "cell_type": "code",
   "execution_count": 107,
   "metadata": {},
   "outputs": [
    {
     "name": "stdout",
     "output_type": "stream",
     "text": [
      "Yo, yo rude boy !\n",
      "Jaguar Gorgone, Kool Shen, Lord Kossity\n",
      "Come back again, now man !\n",
      "SP.One from the track\n",
      "Everytime I’m coming with car (for real !)\n",
      "He comin' with them [?]\n",
      "\n"
     ]
    }
   ],
   "source": [
    "# problème on constate que la première ligne contient des crédits… la méthode .index() permet de se positionner après le premier saut de ligne.\n",
    "lyrics = lyrics_df.iloc[1].song_lyrics[:240]\n",
    "print(lyrics[lyrics.index('\\n')+1:])"
   ]
  },
  {
   "cell_type": "markdown",
   "metadata": {},
   "source": [
    "We can apply this method to the `song_lyrics` column of the dataframe, in order to improve the data. Alternatively, we could rewrite our `get_artists_lyrics()` function.\n",
    "**Warning**. Be careful to apply only once, otherwise the first line of the lyrics will be lost each time it is run..."
   ]
  },
  {
   "cell_type": "code",
   "execution_count": 108,
   "metadata": {},
   "outputs": [
    {
     "data": {
      "text/plain": [
       "0    41 ContributorsTranslationsEnglishLaisse pas t...\n",
       "1    36 ContributorsMa Benz Lyrics[Intro - Lord Kos...\n",
       "2    24 ContributorsTranslationsEnglishThat’s My Pe...\n",
       "3    101 ContributorsTranslationsEnglishNotes pour ...\n",
       "4    153 ContributorsRêves bizarres Lyrics[Paroles ...\n",
       "5    111 ContributorsSuicide social Lyrics[Paroles ...\n",
       "Name: song_lyrics, dtype: object"
      ]
     },
     "execution_count": 108,
     "metadata": {},
     "output_type": "execute_result"
    }
   ],
   "source": [
    "lyrics_df['song_lyrics']"
   ]
  },
  {
   "cell_type": "code",
   "execution_count": 109,
   "metadata": {},
   "outputs": [
    {
     "data": {
      "text/plain": [
       "0    \\n[Couplet 1 - Kool Shen]\\nÀ l'aube de l'an 20...\n",
       "1    Yo, yo rude boy !\\nJaguar Gorgone, Kool Shen, ...\n",
       "2    J't'explique, c'que j'kiffe, c'est de fumer de...\n",
       "3    \\n[Intro]\\nOk, j'avais ton âge y'a à peu près ...\n",
       "4    \\n[Refrain : OrelSan]\\nCe soir, j'me mets mina...\n",
       "5    \\n[Couplet unique]\\nAujourd'hui sera l'dernier...\n",
       "Name: song_lyrics, dtype: object"
      ]
     },
     "execution_count": 109,
     "metadata": {},
     "output_type": "execute_result"
    }
   ],
   "source": [
    "lyrics_df['song_lyrics'] = lyrics_df['song_lyrics'].apply(lambda x: x[x.index('\\n')+1:])\n",
    "lyrics_df['song_lyrics']"
   ]
  },
  {
   "cell_type": "markdown",
   "metadata": {},
   "source": [
    "With Genius, we discovered JSON and learned how to browse it to extract data. We read its API documentation and managed a token for authentication. Finally, we discovered a first wrapper and its documentation, so we could easily build up a search corpus."
   ]
  },
  {
   "cell_type": "markdown",
   "metadata": {},
   "source": [
    "### Gallica Search API (XML)\n",
    "\n",
    "[Gallica](https://gallica.bnf.fr/) is the digital library of the Bibliothèque nationale de France and its partners. It has been freely accessible since 1997, and contains several million documents (>10).\n",
    "\n",
    "Above all, BnF has done an impressive job of making these open resources available, via various APIs that enable interaction with different services: metadata, textual data, but also iconographic data recollection.\n",
    "\n",
    "These [Gallica's APIs are documented](https://api.bnf.fr/recherche?f[0]=sources:197) in exemplary manner, with particular attention paid to the needs of researchers.\n",
    "\n",
    "**Using the Search API, let's start by trying to automatically collect data relating to Jules Verne's novels.**  \n",
    "\n",
    "**This API allows you to search the Gallica digital collection:**\n",
    "\n",
    "- **Documentation**: [https://api.bnf.fr/fr/api-gallica-de-recherche](https://api.bnf.fr/fr/api-gallica-de-recherche)\n",
    "- **SRU Gallica search service**: https://api.bnf.fr/fr/api-gallica-de-recherche#scroll-nav__3\n",
    "\n",
    "SRU (Search/Retrieval via URL) is a **standard metadata exchange protocol** adapted to the needs of library catalogues. In other words, the libraries have agreed to define a standardised way of offering their catalogue as a web service.\n",
    "\n",
    "And the SRU standard specifies **how to query** the server that exposes the catalogue data and **how to format the response**.\n",
    "\n",
    "Read: https://bibliotheques.wordpress.com/2017/10/27/papa-cest-quoi-un-sru/\n",
    "\n",
    "![SRU](img/SRU.png)\n",
    "\n",
    "\n",
    "#### CQL Query\n",
    "\n",
    "The basics: https://gallica.bnf.fr/SRU?version=1.2&operation=searchRetrieve&query={CQL_QUERY}\n",
    "\n",
    "\n",
    "[CQL, the Contextual Query Language](https://www.loc.gov/standards/sru/cql/), is a formal language for representing queries to information retrieval systems such as web indexes, bibliographic catalogs and museum collection information. The design objective is that queries be human readable and writable, and that the language be intuitive while maintaining the expressiveness of more complex languages.\n",
    "\n",
    "\n",
    "A few examples to help you understand.\n",
    "\n",
    "\n",
    "**Documents mentioning \"Jules Verne\" in Gallica** (>18752 records…):\n",
    "\n",
    "- `query=gallica all \"Jules Verne\"`\n",
    "- [https://gallica.bnf.fr/SRU?version=1.2&operation=searchRetrieve&**query=gallica all \"Jules Verne\"**](https://gallica.bnf.fr/SRU?version=1.2&operation=searchRetrieve&query=gallica%20all%20%22Jules%20Verne%22)\n",
    "\n",
    "**Documents of which \"Jules Verne\" is the author in Gallica** (>400 records):  \n",
    "\n",
    "- `query=dc.creator all \"jules verne\"`\n",
    "- [https://gallica.bnf.fr/SRU?version=1.2&operation=searchRetrieve&**query=dc.creator all \"Jules Verne\"**](https://gallica.bnf.fr/SRU?version=1.2&operation=searchRetrieve&query=dc.creator%20all%20%22Jules%20Verne%22)\n",
    "\n",
    "**Books (monographs) in French authored by \"Jules Verne\" in Gallica** (>290 records):\n",
    "\n",
    "- `query=dc.creator all \"jules verne\"&filter=dc.type all \"monographie\" and dc.language all \"fre\"`\n",
    "- [https://gallica.bnf.fr/SRU?version=1.2&operation=searchRetrieve&**query=dc.creator all \"jules verne\"&filter=dc.type all \"monographie\" and dc.language all \"fre\"**](https://gallica.bnf.fr/SRU?version=1.2&operation=searchRetrieve&query=dc.creator%20all%20%22jules%20verne%22&filter=dc.type%20all%20%22monographie%22%20and%20dc.language%20all%20%22fre%22)\n",
    "\n",
    "\n",
    "There are also **sorting criteria**. Results can be sorted according to OCR quality: `ocr.quality/sort.descending`:\n",
    "\n",
    "[https://gallica.bnf.fr/SRU?version=1.2&operation=searchRetrieve&query=dc.creator all \"jules verne\" sortby ocr.quality/sort.descending&filter=dc.type all \"monographie\" and dc.language all \"fre\"](https://gallica.bnf.fr/SRU?version=1.2&operation=searchRetrieve&query=dc.creator%20all%20%22jules%20verne%22%20sortby%20ocr.quality/sort.descending&filter=dc.type%20all%20%22monographie%22%20and%20dc.language%20all%20%22fre%22)\n",
    "\n",
    "There are other parameters:\n",
    " \n",
    "- `startRecord`: the pagination system index, between 1 and the maximum number of results returned by the query\n",
    "- `maximumRecords`: the number of results returned by the service (from 0 to a maximum of 50). By default, if this parameter is not present, the value is 15.\n",
    "\n",
    "\n",
    "**The 5 Jules Verne books with the best OCR quality**:\n",
    "\n",
    "- `query=dc.creator all \"jules verne\" sortby ocr.quality/sort.descending&filter=dc.type all \"monographie\" and dc.language all \"fre\"&maximumRecords=5`\n",
    "- [https://gallica.bnf.fr/SRU?version=1.2&operation=searchRetrieve&query=dc.creator all \"jules verne\" sortby ocr.quality/sort.descending&filter=dc.type all \"monographie\" and dc.language all \"fre\"&maximumRecords=5](https://gallica.bnf.fr/SRU?version=1.2&operation=searchRetrieve&query=dc.creator%20all%20%22jules%20verne%22%20sortby%20ocr.quality/sort.descending&filter=dc.type%20all%20%22monographie%22%20and%20dc.language%20all%20%22fre%22&maximumRecords=5)\n",
    "\n",
    "We're going to start working on this very small corpus to understand the format of the response.\n",
    " "
   ]
  },
  {
   "cell_type": "code",
   "execution_count": 25,
   "metadata": {},
   "outputs": [
    {
     "data": {
      "text/plain": [
       "'application/xml;charset=UTF-8'"
      ]
     },
     "execution_count": 25,
     "metadata": {},
     "output_type": "execute_result"
    }
   ],
   "source": [
    "import requests\n",
    "url = \"https://gallica.bnf.fr/SRU?version=1.2&operation=searchRetrieve&query=dc.creator%20all%20%22jules%20verne%22%20sortby%20ocr.quality/sort.descending&filter=dc.type%20all%20%22monographie%22%20and%20dc.language%20all%20%22fre%22&maximumRecords=5\"\n",
    "response = requests.get(url)\n",
    "response.headers['Content-Type']"
   ]
  },
  {
   "cell_type": "markdown",
   "metadata": {},
   "source": [
    "This time, the response is not formatted as JSON, but as XML.  \n",
    "Unfortunately, `Requests` does not handle parsing XML responses… :("
   ]
  },
  {
   "cell_type": "code",
   "execution_count": 35,
   "metadata": {},
   "outputs": [
    {
     "name": "stdout",
     "output_type": "stream",
     "text": [
      "<?xml version=\"1.0\" encoding=\"UTF-8\" standalone=\"yes\"?>\n",
      "<srw:searchRetrieveResponse xmlns:ns6=\"http://gallica.bnf.fr/namespaces/gallica/\" xmlns:diag=\"http://www.loc.gov/zing/srw/diagnostic/\" xmlns:oai_dc=\"http://www.openarchives.org/OAI/2.0/oai_dc/\" xmlns:srw=\"http://www.loc.gov/zing/srw/\" xmlns:dc=\"http://purl.org/dc/elements/1.1/\">\n",
      "    <srw:version>1.2</srw:version>\n",
      "    <srw:echoedSearchRetrieveRequest>\n",
      "        <srw:query>dc.creator all \"jules verne\" sortby ocr.quality/sort.descending</srw:query>\n",
      "        <srw:version>1.2</srw:version>\n",
      "    </srw:echoedSearchRetrieveRequest>\n",
      "    <srw:numberOfRecords>218</srw:numberOfRecords>\n",
      "    <srw:extraResponseData>&lt;numberOfRecordsDecollapser&gt;296&lt;/numberOfRecordsDecollapser&gt;</srw:extraResponseData>\n",
      "    <srw:records>\n",
      "        <srw:record>\n",
      "            <srw:recordSchema>http://www.openarchives.org/OAI/2.0/OAIdc.xsd</srw:recordSchema>\n",
      "            <srw:recordPacking>xml</srw:recordPacking>\n",
      "            <srw:recordData>\n",
      "                <oai_dc:dc>\n",
      "                    <dc:contributor>Philippoteaux, Paul (1846-1923). Illustrateur</dc:contributor>\n",
      "                    <dc:contributor>Laplante, Charles (1837-1903). Graveur</dc:contributor>\n",
      "                    <dc:creator>Verne, Jules (1828-1905). Auteur du texte</dc:creator>\n",
      "                    <dc:date>1877</dc:date>\n",
      "                    <dc:description>Collection : Bibliothèque d'éducation et de récréation</dc:description>\n",
      "                    <dc:description>Collection : Bibliothèque d'éducation et de récréation</dc:description>\n",
      "                    <dc:description>Appartient à l’ensemble documentaire : BvdPrs001</dc:description>\n",
      "                    <dc:description>Contient une table des matières</dc:description>\n",
      "                    <dc:description>Avec mode texte</dc:description>\n",
      "                    <dc:format>2 parties en 1 vol. (395 p.) : ill., illustration au titre, frontisp., cartonnage ill. en coul. ; 27 cm</dc:format>\n",
      "                    <dc:format>Nombre total de vues : 416</dc:format>\n",
      "                    <dc:identifier>https://gallica.bnf.fr/ark:/12148/bpt6k65775059</dc:identifier>\n",
      "                    <dc:language>fre</dc:language>\n",
      "                    <dc:publisher>J. Hetzel (Paris)</dc:publisher>\n",
      "                    <dc:relation>Notice du catalogue : http://catalogue.bnf.fr/ark:/12148/cb352846329</dc:relation>\n",
      "                    <dc:rights>domaine public</dc:rights>\n",
      "                    <dc:rights>public domain</dc:rights>\n",
      "                    <dc:source>Ville de Paris / Fonds Heure joyeuse, 2013-418086</dc:source>\n",
      "                    <dc:title>Hector Servadac : voyages et aventures à travers le monde solaire / par Jules Verne ; dessins de P. Philippoteaux, gravés par Laplante</dc:title>\n",
      "                    <dc:type>text</dc:type>\n",
      "                    <dc:type>monographie imprimée</dc:type>\n",
      "                    <dc:type>printed monograph</dc:type>\n",
      "                </oai_dc:dc>\n",
      "            </srw:recordData>\n",
      "            <srw:recordIdentifier>ark</srw:recordIdentifier>\n",
      "            <srw:recordPosition>0</srw:recordPosition>\n",
      "            <srw:extraRecordData>\n",
      "                <epubFile></epubFile>\n",
      "                <highres>https://gallica.bnf.fr/ark:/12148/bpt6k65775059.highres</highres>\n",
      "                <infoSupModifiable></infoSupModifiable>\n",
      "                <link>https://gallica.bnf.fr/ark:/12148/bpt6k65775059</link>\n",
      "                <lowres>https://gallica.bnf.fr/ark:/12148/bpt6k65775059.lowres</lowres>\n",
      "                <medres>https://gallica.bnf.fr/ark:/12148/bpt6k65775059.medres</medres>\n",
      "                <nqamoyen>99.99</nqamoyen>\n",
      "                <provenance>Gallica</provenance>\n",
      "                <thumbnail>https://gallica.bnf.fr/ark:/12148/bpt6k65775059.thumbnail</thumbnail>\n",
      "                <typedoc>monographies</typedoc>\n",
      "                <uri>bpt6k65775059</uri>\n",
      "            </srw:extraRecordData>\n",
      "        </srw:record>\n",
      "        <srw:record>\n",
      "            <srw:recordSchema>http://www.openarchives.org/OAI/2.0/OAIdc.xsd</srw:recordSchema>\n",
      "            <srw:recordPacking>xml</srw:recordPacking>\n",
      "            <srw:recordData>\n",
      "                <oai_dc:dc>\n",
      "                    <dc:contributor>Philippoteaux, Paul (1846-1923). Illustrateur</dc:contributor>\n",
      "                    <dc:creator>Verne, Jules (1828-1905). Auteur du texte</dc:creator>\n",
      "                    <dc:date>1896</dc:date>\n",
      "                    <dc:description>Collection : Bibliothèque des succès scolaires</dc:description>\n",
      "                    <dc:description>Contient une table des matières</dc:description>\n",
      "                    <dc:description>Avec mode texte</dc:description>\n",
      "                    <dc:format>1 vol. (228 p.) : fig., cartes, portr., fig. au titre, frontisp. ; gr. in-8</dc:format>\n",
      "                    <dc:format>Nombre total de vues : 248</dc:format>\n",
      "                    <dc:format>application/epub+zip</dc:format>\n",
      "                    <dc:identifier>https://gallica.bnf.fr/ark:/12148/bpt6k65501998</dc:identifier>\n",
      "                    <dc:language>fre</dc:language>\n",
      "                    <dc:language>français</dc:language>\n",
      "                    <dc:publisher>J. Hetzel (Paris)</dc:publisher>\n",
      "                    <dc:relation>Notice du catalogue : http://catalogue.bnf.fr/ark:/12148/cb31562766z</dc:relation>\n",
      "                    <dc:rights>domaine public</dc:rights>\n",
      "                    <dc:rights>public domain</dc:rights>\n",
      "                    <dc:source>Bibliothèque nationale de France, département Philosophie, histoire, sciences de l'homme, 4-G-673</dc:source>\n",
      "                    <dc:title>Les voyages du Capitaine Cook / par Jules Verne... ; dessins par P. Philippoteaux ; fac-similés d'après les documents anciens et cartes par Matthis et Morieu</dc:title>\n",
      "                    <dc:type>text</dc:type>\n",
      "                    <dc:type>monographie imprimée</dc:type>\n",
      "                    <dc:type>monographie imprimée</dc:type>\n",
      "                </oai_dc:dc>\n",
      "            </srw:recordData>\n",
      "            <srw:recordIdentifier>ark</srw:recordIdentifier>\n",
      "            <srw:recordPosition>1</srw:recordPosition>\n",
      "            <srw:extraRecordData>\n",
      "                <epubFile>/ark:/12148/bpt6k65501998.epub</epubFile>\n",
      "                <highres>https://gallica.bnf.fr/ark:/12148/bpt6k65501998.highres</highres>\n",
      "                <infoSupModifiable></infoSupModifiable>\n",
      "                <link>https://gallica.bnf.fr/ark:/12148/bpt6k65501998</link>\n",
      "                <lowres>https://gallica.bnf.fr/ark:/12148/bpt6k65501998.lowres</lowres>\n",
      "                <medres>https://gallica.bnf.fr/ark:/12148/bpt6k65501998.medres</medres>\n",
      "                <nqamoyen>99.99</nqamoyen>\n",
      "                <provenance>Gallica</provenance>\n",
      "                <thumbnail>https://gallica.bnf.fr/ark:/12148/bpt6k65501998.thumbnail</thumbnail>\n",
      "                <typedoc>monographies</typedoc>\n",
      "                <uri>bpt6k65501998</uri>\n",
      "            </srw:extraRecordData>\n",
      "        </srw:record>\n",
      "        <srw:record>\n",
      "            <srw:recordSchema>http://www.openarchives.org/OAI/2.0/OAIdc.xsd</srw:recordSchema>\n",
      "            <srw:recordPacking>xml</srw:recordPacking>\n",
      "            <srw:recordData>\n",
      "                <oai_dc:dc>\n",
      "                    <dc:contributor>Benett, Léon (1839-1916). Illustrateur</dc:contributor>\n",
      "                    <dc:creator>Verne, Jules (1828-1905). Auteur du texte</dc:creator>\n",
      "                    <dc:date>1886</dc:date>\n",
      "                    <dc:description>Collection : Bibliothèque d'éducation et de récréation. Les voyages extraordinaires</dc:description>\n",
      "                    <dc:description>Collection : Bibliothèque d'éducation et de récréation</dc:description>\n",
      "                    <dc:description>Appartient à l’ensemble documentaire : BvdPrs001</dc:description>\n",
      "                    <dc:description>Contient une table des matières</dc:description>\n",
      "                    <dc:description>Avec mode texte</dc:description>\n",
      "                    <dc:format>1 vol. (198 p.) : ill., pl., fig. au titre, frontisp. ; gr. in-8</dc:format>\n",
      "                    <dc:format>Nombre total de vues : 442</dc:format>\n",
      "                    <dc:format>application/epub+zip</dc:format>\n",
      "                    <dc:identifier>https://gallica.bnf.fr/ark:/12148/bpt6k6512278z</dc:identifier>\n",
      "                    <dc:language>fre</dc:language>\n",
      "                    <dc:publisher>J. Hetzel (Paris)</dc:publisher>\n",
      "                    <dc:relation>Notice du catalogue : http://catalogue.bnf.fr/ark:/12148/cb435284602</dc:relation>\n",
      "                    <dc:rights>domaine public</dc:rights>\n",
      "                    <dc:rights>public domain</dc:rights>\n",
      "                    <dc:source>Ville de Paris / Fonds Heure joyeuse, 2013-35179</dc:source>\n",
      "                    <dc:title>Robur-le-conquérant / par Jules Verne ; 87 dessins par L. Benett et G. Roux</dc:title>\n",
      "                    <dc:type>text</dc:type>\n",
      "                    <dc:type>monographie imprimée</dc:type>\n",
      "                    <dc:type>printed monograph</dc:type>\n",
      "                </oai_dc:dc>\n",
      "            </srw:recordData>\n",
      "            <srw:recordIdentifier>ark</srw:recordIdentifier>\n",
      "            <srw:recordPosition>2</srw:recordPosition>\n",
      "            <srw:extraRecordData>\n",
      "                <epubFile>/ark:/12148/bpt6k6512278z.epub</epubFile>\n",
      "                <highres>https://gallica.bnf.fr/ark:/12148/bpt6k6512278z.highres</highres>\n",
      "                <infoSupModifiable></infoSupModifiable>\n",
      "                <link>https://gallica.bnf.fr/ark:/12148/bpt6k6512278z</link>\n",
      "                <lowres>https://gallica.bnf.fr/ark:/12148/bpt6k6512278z.lowres</lowres>\n",
      "                <medres>https://gallica.bnf.fr/ark:/12148/bpt6k6512278z.medres</medres>\n",
      "                <nqamoyen>99.99</nqamoyen>\n",
      "                <provenance>Gallica</provenance>\n",
      "                <thumbnail>https://gallica.bnf.fr/ark:/12148/bpt6k6512278z.thumbnail</thumbnail>\n",
      "                <typedoc>monographies</typedoc>\n",
      "                <uri>bpt6k6512278z</uri>\n",
      "            </srw:extraRecordData>\n",
      "        </srw:record>\n",
      "        <srw:record>\n",
      "            <srw:recordSchema>http://www.openarchives.org/OAI/2.0/OAIdc.xsd</srw:recordSchema>\n",
      "            <srw:recordPacking>xml</srw:recordPacking>\n",
      "            <srw:recordData>\n",
      "                <oai_dc:dc>\n",
      "                    <dc:contributor>Benett, Léon (1839-1916). Illustrateur</dc:contributor>\n",
      "                    <dc:creator>Verne, Jules (1828-1905). Auteur du texte</dc:creator>\n",
      "                    <dc:date>1887</dc:date>\n",
      "                    <dc:description>[Nord contre Sud (français)]</dc:description>\n",
      "                    <dc:description>Collection : Collection Hetzel</dc:description>\n",
      "                    <dc:description>Collection : Collection Hetzel</dc:description>\n",
      "                    <dc:description>Appartient à l’ensemble documentaire : BvdPrs001</dc:description>\n",
      "                    <dc:description>Contient une table des matières</dc:description>\n",
      "                    <dc:description>Avec mode texte</dc:description>\n",
      "                    <dc:format>2 parties en 1 vol. (412 p.-[5] f. de pl. en coul.) : ill., frontisp., carte, cartonnage ill. en coul. ; 28 cm</dc:format>\n",
      "                    <dc:format>Nombre total de vues : 436</dc:format>\n",
      "                    <dc:format>application/epub+zip</dc:format>\n",
      "                    <dc:identifier>https://gallica.bnf.fr/ark:/12148/bpt6k65773135</dc:identifier>\n",
      "                    <dc:language>fre</dc:language>\n",
      "                    <dc:publisher>Collection Hetzel (Paris)</dc:publisher>\n",
      "                    <dc:relation>Notice d’oeuvre : http://catalogue.bnf.fr/ark:/12148/cb18000173r</dc:relation>\n",
      "                    <dc:relation>Notice du catalogue : http://catalogue.bnf.fr/ark:/12148/cb35284651k</dc:relation>\n",
      "                    <dc:rights>domaine public</dc:rights>\n",
      "                    <dc:rights>public domain</dc:rights>\n",
      "                    <dc:source>Ville de Paris / Fonds Heure joyeuse, 2013-438074</dc:source>\n",
      "                    <dc:title>Nord contre Sud : les voyages extraordinaires / par Jules Verne,... ; dessins par Benett..</dc:title>\n",
      "                    <dc:type>text</dc:type>\n",
      "                    <dc:type>monographie imprimée</dc:type>\n",
      "                    <dc:type>printed monograph</dc:type>\n",
      "                </oai_dc:dc>\n",
      "            </srw:recordData>\n",
      "            <srw:recordIdentifier>ark</srw:recordIdentifier>\n",
      "            <srw:recordPosition>3</srw:recordPosition>\n",
      "            <srw:extraRecordData>\n",
      "                <epubFile>/ark:/12148/bpt6k65773135.epub</epubFile>\n",
      "                <highres>https://gallica.bnf.fr/ark:/12148/bpt6k65773135.highres</highres>\n",
      "                <infoSupModifiable></infoSupModifiable>\n",
      "                <link>https://gallica.bnf.fr/ark:/12148/bpt6k65773135</link>\n",
      "                <lowres>https://gallica.bnf.fr/ark:/12148/bpt6k65773135.lowres</lowres>\n",
      "                <medres>https://gallica.bnf.fr/ark:/12148/bpt6k65773135.medres</medres>\n",
      "                <nqamoyen>99.99</nqamoyen>\n",
      "                <provenance>Gallica</provenance>\n",
      "                <thumbnail>https://gallica.bnf.fr/ark:/12148/bpt6k65773135.thumbnail</thumbnail>\n",
      "                <typedoc>monographies</typedoc>\n",
      "                <uri>bpt6k65773135</uri>\n",
      "            </srw:extraRecordData>\n",
      "        </srw:record>\n",
      "        <srw:record>\n",
      "            <srw:recordSchema>http://www.openarchives.org/OAI/2.0/OAIdc.xsd</srw:recordSchema>\n",
      "            <srw:recordPacking>xml</srw:recordPacking>\n",
      "            <srw:recordData>\n",
      "                <oai_dc:dc>\n",
      "                    <dc:creator>Verne, Jules (1828-1905). Auteur du texte</dc:creator>\n",
      "                    <dc:date>1871</dc:date>\n",
      "                    <dc:description>Collection : Bibliothèque d'éducation et de récréation</dc:description>\n",
      "                    <dc:description>Contient une table des matières</dc:description>\n",
      "                    <dc:description>Avec mode texte</dc:description>\n",
      "                    <dc:format>1 vol. (302 p.) ; in-18</dc:format>\n",
      "                    <dc:format>Nombre total de vues : 330</dc:format>\n",
      "                    <dc:format>application/epub+zip</dc:format>\n",
      "                    <dc:identifier>https://gallica.bnf.fr/ark:/12148/bpt6k65143496</dc:identifier>\n",
      "                    <dc:language>fre</dc:language>\n",
      "                    <dc:language>français</dc:language>\n",
      "                    <dc:publisher>J. Hetzel et Cie (Paris)</dc:publisher>\n",
      "                    <dc:relation>Notice du catalogue : http://catalogue.bnf.fr/ark:/12148/cb443670892</dc:relation>\n",
      "                    <dc:rights>domaine public</dc:rights>\n",
      "                    <dc:rights>public domain</dc:rights>\n",
      "                    <dc:source>Bibliothèque nationale de France, département Littérature et art, Y2-72863</dc:source>\n",
      "                    <dc:title>De la terre à la lune : trajet direct en 97 heures (10e édition) / Jules Verne</dc:title>\n",
      "                    <dc:type>text</dc:type>\n",
      "                    <dc:type>monographie imprimée</dc:type>\n",
      "                    <dc:type>monographie imprimée</dc:type>\n",
      "                </oai_dc:dc>\n",
      "            </srw:recordData>\n",
      "            <srw:recordIdentifier>ark</srw:recordIdentifier>\n",
      "            <srw:recordPosition>4</srw:recordPosition>\n",
      "            <srw:extraRecordData>\n",
      "                <epubFile>/ark:/12148/bpt6k65143496.epub</epubFile>\n",
      "                <highres>https://gallica.bnf.fr/ark:/12148/bpt6k65143496.highres</highres>\n",
      "                <infoSupModifiable></infoSupModifiable>\n",
      "                <link>https://gallica.bnf.fr/ark:/12148/bpt6k65143496</link>\n",
      "                <lowres>https://gallica.bnf.fr/ark:/12148/bpt6k65143496.lowres</lowres>\n",
      "                <medres>https://gallica.bnf.fr/ark:/12148/bpt6k65143496.medres</medres>\n",
      "                <nqamoyen>99.99</nqamoyen>\n",
      "                <provenance>Gallica</provenance>\n",
      "                <thumbnail>https://gallica.bnf.fr/ark:/12148/bpt6k65143496.thumbnail</thumbnail>\n",
      "                <typedoc>monographies</typedoc>\n",
      "                <uri>bpt6k65143496</uri>\n",
      "            </srw:extraRecordData>\n",
      "        </srw:record>\n",
      "    </srw:records>\n",
      "    <srw:nextRecordPosition>6</srw:nextRecordPosition>\n",
      "</srw:searchRetrieveResponse>\n",
      "\n"
     ]
    }
   ],
   "source": [
    "print(response.text)"
   ]
  },
  {
   "cell_type": "markdown",
   "metadata": {},
   "source": [
    "You can observe the XML structure of a notice.\n",
    "\n",
    "```xml\n",
    "<?xml version=\"1.0\" encoding=\"UTF-8\" standalone=\"yes\"?>\n",
    "<srw:searchRetrieveResponse\n",
    "    xmlns:srw=\"http://www.loc.gov/zing/srw/\"\n",
    "    xmlns:oai_dc=\"http://www.openarchives.org/OAI/2.0/oai_dc/\"\n",
    "    xmlns:dc=\"http://purl.org/dc/elements/1.1/\">\n",
    "    <srw:records>\n",
    "        <srw:record>\n",
    "            <srw:recordSchema>http://www.openarchives.org/OAI/2.0/OAIdc.xsd</srw:recordSchema>\n",
    "            …\n",
    "            <srw:recordData>\n",
    "                <oai_dc:dc>\n",
    "                    <dc:creator>Verne, Jules (1828-1905)…</dc:creator>\n",
    "                    <dc:date>1896</dc:date>\n",
    "                    <dc:identifier>https://gallica.bnf.fr/ark:/12148/bpt6k65501998</dc:identifier>\n",
    "                    <dc:language>fre</dc:language>\n",
    "                    <dc:source>Bibliothèque nationale de France…</dc:source>\n",
    "                    <dc:title>Les voyages du Capitaine Cook…</dc:title>\n",
    "                    <dc:identifier>https://gallica.bnf.fr/ark:/12148/bpt6k65501998</dc:identifier>\n",
    "                </oai_dc:dc>\n",
    "            </srw:recordData>\n",
    "            …\n",
    "        </srw:record>\n",
    "        <srw:record/>\n",
    "        …\n",
    "    </srw:records>\n",
    "</srw:searchRetrieveResponse>\n",
    "```\n",
    "\n",
    "To extract the information… **we need to parse XML data**!"
   ]
  },
  {
   "cell_type": "markdown",
   "metadata": {},
   "source": [
    "#### XML Parsing\n",
    "\n",
    "**[The ElementTree XML API](https://docs.python.org/3/library/xml.etree.elementtree.html)**. The `xml.etree.ElementTree` (`ET` in short) module implements a simple and efficient API for parsing and creating XML data.\n",
    "\n",
    "XML is an inherently hierarchical data format, and the most natural way to represent it is with a tree. **ET has two classes** for this purpose:\n",
    "\n",
    "- `ElementTree` represents the whole XML document as a tree\n",
    "- `Element` represents a single node in this tree.\n",
    "\n",
    "Interactions with the whole document (reading and writing to/from files) are usually done on the ElementTree level. Interactions with a single XML element and its sub-elements are done on the Element level.\n",
    "\n",
    "\n",
    "**[fromstring() parses XML from a string directly into an Element](https://docs.python.org/3/library/xml.etree.elementtree.html#xml.etree.ElementTree.fromstring)** –stored below in the `root` variable– which is the root element of the parsed tree.\n",
    "\n",
    "Then, `Element` has some useful methods that help iterate recursively over all the sub-tree below it (its children, their children, and so on). For example, `Element.iter()`.\n",
    "\n",
    "**[The iter() method](https://docs.python.org/3/library/xml.etree.elementtree.html#xml.etree.ElementTree.Element.iter)** creates a tree iterator with the current element as the root. The iterator iterates over this element and all elements below it, in document (depth first) order. If tag is not None or '*', only elements whose tag equals tag are returned from the iterator."
   ]
  },
  {
   "cell_type": "code",
   "execution_count": null,
   "metadata": {},
   "outputs": [],
   "source": [
    "import xml.etree.ElementTree as ET\n",
    "root = ET.fromstring(response.content)\n",
    "for child in root.iter('*'):\n",
    "    print(child.tag)"
   ]
  },
  {
   "cell_type": "markdown",
   "metadata": {},
   "source": [
    "#### Metadata extraction\n",
    "\n",
    "We can see that all the elements of the response are accessible, according to their namespace: `{http://purl.org/dc/elements/1.1/}creator`  \n",
    "The `creator` element is declared for the Dublin Core namespace (`http://purl.org/dc/elements/1.1/`).\n",
    "\n",
    "Using a `for` loop, each `record` is read, and the `Element.findall()` method is used to extract Dublin Core metadata:\n",
    "\n",
    "- `identifier`\n",
    "- `date`\n",
    "- `title`\n",
    "- `creator`\n",
    "\n",
    "NB. The [`Element.findall()` method](https://docs.python.org/3/library/xml.etree.elementtree.html#xml.etree.ElementTree.Element.findall) finds only elements with a tag which are direct children of the current element."
   ]
  },
  {
   "cell_type": "code",
   "execution_count": 36,
   "metadata": {},
   "outputs": [
    {
     "name": "stdout",
     "output_type": "stream",
     "text": [
      "Verne, Jules (1828-1905). Auteur du texte https://gallica.bnf.fr/ark:/12148/bpt6k65775059 1877 Hector Servadac : voyages et aventures à travers le monde solaire / par Jules Verne ; dessins de P. Philippoteaux, gravés par Laplante\n",
      "Verne, Jules (1828-1905). Auteur du texte https://gallica.bnf.fr/ark:/12148/bpt6k65501998 1896 Les voyages du Capitaine Cook / par Jules Verne... ; dessins par P. Philippoteaux ; fac-similés d'après les documents anciens et cartes par Matthis et Morieu\n",
      "Verne, Jules (1828-1905). Auteur du texte https://gallica.bnf.fr/ark:/12148/bpt6k6512278z 1886 Robur-le-conquérant / par Jules Verne ; 87 dessins par L. Benett et G. Roux\n",
      "Verne, Jules (1828-1905). Auteur du texte https://gallica.bnf.fr/ark:/12148/bpt6k65773135 1887 Nord contre Sud : les voyages extraordinaires / par Jules Verne,... ; dessins par Benett..\n",
      "Verne, Jules (1828-1905). Auteur du texte https://gallica.bnf.fr/ark:/12148/bpt6k65143496 1871 De la terre à la lune : trajet direct en 97 heures (10e édition) / Jules Verne\n"
     ]
    }
   ],
   "source": [
    "import xml.etree.ElementTree as ET\n",
    "root = ET.fromstring(response.content)\n",
    "for record in root.iter('{http://www.loc.gov/zing/srw/}record'):\n",
    "    dc_identifier = record.findall('{http://www.loc.gov/zing/srw/}recordData/{http://www.openarchives.org/OAI/2.0/oai_dc/}dc/{http://purl.org/dc/elements/1.1/}identifier')[0].text\n",
    "    dc_date = record.findall('{http://www.loc.gov/zing/srw/}recordData/{http://www.openarchives.org/OAI/2.0/oai_dc/}dc/{http://purl.org/dc/elements/1.1/}date')[0].text\n",
    "    dc_title = record.findall('{http://www.loc.gov/zing/srw/}recordData/{http://www.openarchives.org/OAI/2.0/oai_dc/}dc/{http://purl.org/dc/elements/1.1/}title')[0].text\n",
    "    dc_creator = record.findall('{http://www.loc.gov/zing/srw/}recordData/{http://www.openarchives.org/OAI/2.0/oai_dc/}dc/{http://purl.org/dc/elements/1.1/}creator')[0].text\n",
    "    print(dc_creator, dc_identifier, dc_date, dc_title)"
   ]
  },
  {
   "cell_type": "code",
   "execution_count": 37,
   "metadata": {},
   "outputs": [
    {
     "data": {
      "text/html": [
       "<div>\n",
       "<style scoped>\n",
       "    .dataframe tbody tr th:only-of-type {\n",
       "        vertical-align: middle;\n",
       "    }\n",
       "\n",
       "    .dataframe tbody tr th {\n",
       "        vertical-align: top;\n",
       "    }\n",
       "\n",
       "    .dataframe thead th {\n",
       "        text-align: right;\n",
       "    }\n",
       "</style>\n",
       "<table border=\"1\" class=\"dataframe\">\n",
       "  <thead>\n",
       "    <tr style=\"text-align: right;\">\n",
       "      <th></th>\n",
       "      <th>ocr_quality</th>\n",
       "      <th>dc_creator</th>\n",
       "      <th>dc_identifier</th>\n",
       "      <th>dc_date</th>\n",
       "      <th>dc_title</th>\n",
       "    </tr>\n",
       "  </thead>\n",
       "  <tbody>\n",
       "    <tr>\n",
       "      <th>0</th>\n",
       "      <td>99.99</td>\n",
       "      <td>Verne, Jules (1828-1905). Auteur du texte</td>\n",
       "      <td>https://gallica.bnf.fr/ark:/12148/bpt6k65775059</td>\n",
       "      <td>1877</td>\n",
       "      <td>Hector Servadac : voyages et aventures à trave...</td>\n",
       "    </tr>\n",
       "    <tr>\n",
       "      <th>1</th>\n",
       "      <td>99.99</td>\n",
       "      <td>Verne, Jules (1828-1905). Auteur du texte</td>\n",
       "      <td>https://gallica.bnf.fr/ark:/12148/bpt6k65501998</td>\n",
       "      <td>1896</td>\n",
       "      <td>Les voyages du Capitaine Cook / par Jules Vern...</td>\n",
       "    </tr>\n",
       "    <tr>\n",
       "      <th>2</th>\n",
       "      <td>99.99</td>\n",
       "      <td>Verne, Jules (1828-1905). Auteur du texte</td>\n",
       "      <td>https://gallica.bnf.fr/ark:/12148/bpt6k6512278z</td>\n",
       "      <td>1886</td>\n",
       "      <td>Robur-le-conquérant / par Jules Verne ; 87 des...</td>\n",
       "    </tr>\n",
       "    <tr>\n",
       "      <th>3</th>\n",
       "      <td>99.99</td>\n",
       "      <td>Verne, Jules (1828-1905). Auteur du texte</td>\n",
       "      <td>https://gallica.bnf.fr/ark:/12148/bpt6k65773135</td>\n",
       "      <td>1887</td>\n",
       "      <td>Nord contre Sud : les voyages extraordinaires ...</td>\n",
       "    </tr>\n",
       "    <tr>\n",
       "      <th>4</th>\n",
       "      <td>99.99</td>\n",
       "      <td>Verne, Jules (1828-1905). Auteur du texte</td>\n",
       "      <td>https://gallica.bnf.fr/ark:/12148/bpt6k65143496</td>\n",
       "      <td>1871</td>\n",
       "      <td>De la terre à la lune : trajet direct en 97 he...</td>\n",
       "    </tr>\n",
       "  </tbody>\n",
       "</table>\n",
       "</div>"
      ],
      "text/plain": [
       "  ocr_quality                                 dc_creator  \\\n",
       "0       99.99  Verne, Jules (1828-1905). Auteur du texte   \n",
       "1       99.99  Verne, Jules (1828-1905). Auteur du texte   \n",
       "2       99.99  Verne, Jules (1828-1905). Auteur du texte   \n",
       "3       99.99  Verne, Jules (1828-1905). Auteur du texte   \n",
       "4       99.99  Verne, Jules (1828-1905). Auteur du texte   \n",
       "\n",
       "                                     dc_identifier dc_date  \\\n",
       "0  https://gallica.bnf.fr/ark:/12148/bpt6k65775059    1877   \n",
       "1  https://gallica.bnf.fr/ark:/12148/bpt6k65501998    1896   \n",
       "2  https://gallica.bnf.fr/ark:/12148/bpt6k6512278z    1886   \n",
       "3  https://gallica.bnf.fr/ark:/12148/bpt6k65773135    1887   \n",
       "4  https://gallica.bnf.fr/ark:/12148/bpt6k65143496    1871   \n",
       "\n",
       "                                            dc_title  \n",
       "0  Hector Servadac : voyages et aventures à trave...  \n",
       "1  Les voyages du Capitaine Cook / par Jules Vern...  \n",
       "2  Robur-le-conquérant / par Jules Verne ; 87 des...  \n",
       "3  Nord contre Sud : les voyages extraordinaires ...  \n",
       "4  De la terre à la lune : trajet direct en 97 he...  "
      ]
     },
     "execution_count": 37,
     "metadata": {},
     "output_type": "execute_result"
    }
   ],
   "source": [
    "# Same thing, but loading data into a dataframe\n",
    "import pandas as pd\n",
    "metadata = []\n",
    "root = ET.fromstring(response.content)\n",
    "for record in root.iter('{http://www.loc.gov/zing/srw/}record'):\n",
    "    dc_identifier = record.findall('{http://www.loc.gov/zing/srw/}recordData/{http://www.openarchives.org/OAI/2.0/oai_dc/}dc/{http://purl.org/dc/elements/1.1/}identifier')[0].text\n",
    "    dc_date = record.findall('{http://www.loc.gov/zing/srw/}recordData/{http://www.openarchives.org/OAI/2.0/oai_dc/}dc/{http://purl.org/dc/elements/1.1/}date')[0].text\n",
    "    dc_title = record.findall('{http://www.loc.gov/zing/srw/}recordData/{http://www.openarchives.org/OAI/2.0/oai_dc/}dc/{http://purl.org/dc/elements/1.1/}title')[0].text\n",
    "    dc_creator = record.findall('{http://www.loc.gov/zing/srw/}recordData/{http://www.openarchives.org/OAI/2.0/oai_dc/}dc/{http://purl.org/dc/elements/1.1/}creator')[0].text\n",
    "    ocr_quality = record.findall('{http://www.loc.gov/zing/srw/}extraRecordData/nqamoyen')[0].text\n",
    "    metadata.append({\n",
    "        'ocr_quality': ocr_quality,\n",
    "        'dc_creator': dc_creator,\n",
    "        'dc_identifier': dc_identifier,\n",
    "        'dc_date': dc_date,\n",
    "        'dc_title': dc_title\n",
    "    })\n",
    "metadata_df = pd.DataFrame(metadata)\n",
    "metadata_df"
   ]
  },
  {
   "cell_type": "code",
   "execution_count": 115,
   "metadata": {},
   "outputs": [],
   "source": [
    "# We make the code reusable by defining a function.\n",
    "def get_gallica_metadata(search_api_url):\n",
    "    response = requests.get(url)\n",
    "    root = ET.fromstring(response.content)\n",
    "    metadata = []\n",
    "    for record in root.iter('{http://www.loc.gov/zing/srw/}record'):\n",
    "        dc_identifier = record.findall('{http://www.loc.gov/zing/srw/}recordData/{http://www.openarchives.org/OAI/2.0/oai_dc/}dc/{http://purl.org/dc/elements/1.1/}identifier')[0].text\n",
    "        dc_date = record.findall('{http://www.loc.gov/zing/srw/}recordData/{http://www.openarchives.org/OAI/2.0/oai_dc/}dc/{http://purl.org/dc/elements/1.1/}date')[0].text if record.findall('{http://www.loc.gov/zing/srw/}recordData/{http://www.openarchives.org/OAI/2.0/oai_dc/}dc/{http://purl.org/dc/elements/1.1/}date') else 'NaN'\n",
    "        dc_title = record.findall('{http://www.loc.gov/zing/srw/}recordData/{http://www.openarchives.org/OAI/2.0/oai_dc/}dc/{http://purl.org/dc/elements/1.1/}title')[0].text\n",
    "        dc_creator = record.findall('{http://www.loc.gov/zing/srw/}recordData/{http://www.openarchives.org/OAI/2.0/oai_dc/}dc/{http://purl.org/dc/elements/1.1/}creator')[0].text\n",
    "        ocr_quality = record.findall('{http://www.loc.gov/zing/srw/}extraRecordData/nqamoyen')[0].text\n",
    "        metadata.append({\n",
    "            'ocr_quality': ocr_quality,\n",
    "            'dc_creator': dc_creator,\n",
    "            'dc_identifier': dc_identifier,\n",
    "            'dc_date': dc_date,\n",
    "            'dc_title': dc_title\n",
    "        })\n",
    "    metadata_df = pd.DataFrame(metadata)\n",
    "    return metadata_df\n"
   ]
  },
  {
   "cell_type": "markdown",
   "metadata": {},
   "source": [
    "Same thing. But this version of the function, which is a little more abstract, allows you to specify the list of fields to be extracted as an argument (`dc_elements_array`)."
   ]
  },
  {
   "cell_type": "code",
   "execution_count": 38,
   "metadata": {},
   "outputs": [],
   "source": [
    "# Same. Pass the list of fields to be extracted\n",
    "def get_gallica_metadata(search_api_url, dc_elements_array):\n",
    "    response = requests.get(url)\n",
    "    root = ET.fromstring(response.content)\n",
    "    metadata = []\n",
    "    for record in root.iter('{http://www.loc.gov/zing/srw/}record'):\n",
    "        record_meta_dic = {}\n",
    "        for dc_el in dc_elements_array:\n",
    "            if record.findall('{http://www.loc.gov/zing/srw/}recordData/{http://www.openarchives.org/OAI/2.0/oai_dc/}dc/{http://purl.org/dc/elements/1.1/}'+dc_el)[0].text:\n",
    "                record_meta_dic[dc_el] = record.findall('{http://www.loc.gov/zing/srw/}recordData/{http://www.openarchives.org/OAI/2.0/oai_dc/}dc/{http://purl.org/dc/elements/1.1/}'+dc_el)[0].text\n",
    "            else :\n",
    "                record_meta_dic[dc_el] = 'NaN'\n",
    "        # non DC metadata\n",
    "        record_meta_dic['ocr_quality'] = record.findall('{http://www.loc.gov/zing/srw/}extraRecordData/nqamoyen')[0].text if record.findall('{http://www.loc.gov/zing/srw/}extraRecordData/nqamoyen')[0].text else 'NaN'\n",
    "        metadata.append(record_meta_dic)\n",
    "    metadata_df = pd.DataFrame(metadata)\n",
    "    return metadata_df\n"
   ]
  },
  {
   "cell_type": "code",
   "execution_count": 39,
   "metadata": {},
   "outputs": [
    {
     "data": {
      "text/html": [
       "<div>\n",
       "<style scoped>\n",
       "    .dataframe tbody tr th:only-of-type {\n",
       "        vertical-align: middle;\n",
       "    }\n",
       "\n",
       "    .dataframe tbody tr th {\n",
       "        vertical-align: top;\n",
       "    }\n",
       "\n",
       "    .dataframe thead th {\n",
       "        text-align: right;\n",
       "    }\n",
       "</style>\n",
       "<table border=\"1\" class=\"dataframe\">\n",
       "  <thead>\n",
       "    <tr style=\"text-align: right;\">\n",
       "      <th></th>\n",
       "      <th>creator</th>\n",
       "      <th>identifier</th>\n",
       "      <th>title</th>\n",
       "      <th>ocr_quality</th>\n",
       "    </tr>\n",
       "  </thead>\n",
       "  <tbody>\n",
       "    <tr>\n",
       "      <th>0</th>\n",
       "      <td>Verne, Jules (1828-1905). Auteur du texte</td>\n",
       "      <td>https://gallica.bnf.fr/ark:/12148/bpt6k65775059</td>\n",
       "      <td>Hector Servadac : voyages et aventures à trave...</td>\n",
       "      <td>99.99</td>\n",
       "    </tr>\n",
       "    <tr>\n",
       "      <th>1</th>\n",
       "      <td>Verne, Jules (1828-1905). Auteur du texte</td>\n",
       "      <td>https://gallica.bnf.fr/ark:/12148/bpt6k65501998</td>\n",
       "      <td>Les voyages du Capitaine Cook / par Jules Vern...</td>\n",
       "      <td>99.99</td>\n",
       "    </tr>\n",
       "    <tr>\n",
       "      <th>2</th>\n",
       "      <td>Verne, Jules (1828-1905). Auteur du texte</td>\n",
       "      <td>https://gallica.bnf.fr/ark:/12148/bpt6k6512278z</td>\n",
       "      <td>Robur-le-conquérant / par Jules Verne ; 87 des...</td>\n",
       "      <td>99.99</td>\n",
       "    </tr>\n",
       "    <tr>\n",
       "      <th>3</th>\n",
       "      <td>Verne, Jules (1828-1905). Auteur du texte</td>\n",
       "      <td>https://gallica.bnf.fr/ark:/12148/bpt6k65773135</td>\n",
       "      <td>Nord contre Sud : les voyages extraordinaires ...</td>\n",
       "      <td>99.99</td>\n",
       "    </tr>\n",
       "    <tr>\n",
       "      <th>4</th>\n",
       "      <td>Verne, Jules (1828-1905). Auteur du texte</td>\n",
       "      <td>https://gallica.bnf.fr/ark:/12148/bpt6k65143496</td>\n",
       "      <td>De la terre à la lune : trajet direct en 97 he...</td>\n",
       "      <td>99.99</td>\n",
       "    </tr>\n",
       "  </tbody>\n",
       "</table>\n",
       "</div>"
      ],
      "text/plain": [
       "                                     creator  \\\n",
       "0  Verne, Jules (1828-1905). Auteur du texte   \n",
       "1  Verne, Jules (1828-1905). Auteur du texte   \n",
       "2  Verne, Jules (1828-1905). Auteur du texte   \n",
       "3  Verne, Jules (1828-1905). Auteur du texte   \n",
       "4  Verne, Jules (1828-1905). Auteur du texte   \n",
       "\n",
       "                                        identifier  \\\n",
       "0  https://gallica.bnf.fr/ark:/12148/bpt6k65775059   \n",
       "1  https://gallica.bnf.fr/ark:/12148/bpt6k65501998   \n",
       "2  https://gallica.bnf.fr/ark:/12148/bpt6k6512278z   \n",
       "3  https://gallica.bnf.fr/ark:/12148/bpt6k65773135   \n",
       "4  https://gallica.bnf.fr/ark:/12148/bpt6k65143496   \n",
       "\n",
       "                                               title ocr_quality  \n",
       "0  Hector Servadac : voyages et aventures à trave...       99.99  \n",
       "1  Les voyages du Capitaine Cook / par Jules Vern...       99.99  \n",
       "2  Robur-le-conquérant / par Jules Verne ; 87 des...       99.99  \n",
       "3  Nord contre Sud : les voyages extraordinaires ...       99.99  \n",
       "4  De la terre à la lune : trajet direct en 97 he...       99.99  "
      ]
     },
     "execution_count": 39,
     "metadata": {},
     "output_type": "execute_result"
    }
   ],
   "source": [
    "url = \"https://gallica.bnf.fr/SRU?version=1.2&operation=searchRetrieve&query=dc.creator%20all%20%22jules%20verne%22%20sortby%20ocr.quality/sort.descending&filter=dc.type%20all%20%22monographie%22%20and%20dc.language%20all%20%22fre%22&startRecord=1&maximumRecords=5\"\n",
    "books_df = get_gallica_metadata(url, ['creator', 'identifier', 'title'])\n",
    "books_df\n"
   ]
  },
  {
   "cell_type": "markdown",
   "metadata": {},
   "source": [
    "At the start of the course, we inherited a TSV file for accessing the Gutenberg versions of Jules Verne's novels. This time, thanks to Gallica's Search API and your new skills in XML data parsing, you've automatically built up this table yourself.\n",
    "\n",
    "**Now it's time to retrieve the text too!**"
   ]
  },
  {
   "cell_type": "code",
   "execution_count": 118,
   "metadata": {},
   "outputs": [],
   "source": [
    "# une fois qu’on dispose des ark, on peut charger le texte\n",
    "# Découverte de l’API Document\n",
    "\n",
    "ark_url = 'https://gallica.bnf.fr/ark:/12148/bpt6k65775059'\n",
    "response = requests.get(ark_url+'.texteBrut')\n"
   ]
  },
  {
   "cell_type": "code",
   "execution_count": 119,
   "metadata": {},
   "outputs": [],
   "source": [
    "from bs4 import BeautifulSoup\n",
    "document = BeautifulSoup(response.text, \"html.parser\")\n",
    "first_hr_tag = document.select('hr')[0]\n",
    "text = ''\n",
    "for p in first_hr_tag.find_all_next('p'):\n",
    "    text += p.text + '\\n'\n",
    "#print(text.strip())"
   ]
  },
  {
   "cell_type": "code",
   "execution_count": 120,
   "metadata": {},
   "outputs": [],
   "source": [
    "def get_book_text(ark_url):\n",
    "    response = requests.get(ark_url+'.texteBrut')\n",
    "    document = BeautifulSoup(response.text, \"html.parser\")\n",
    "    first_hr_tag = document.select('hr')[0]\n",
    "    text = ''\n",
    "    for p in first_hr_tag.find_all_next('p'):\n",
    "        text += p.text + '\\n'\n",
    "    return text\n",
    "    "
   ]
  },
  {
   "cell_type": "code",
   "execution_count": null,
   "metadata": {},
   "outputs": [],
   "source": [
    "#print(get_book_text(ark_url))"
   ]
  },
  {
   "cell_type": "code",
   "execution_count": 122,
   "metadata": {},
   "outputs": [
    {
     "data": {
      "text/html": [
       "<div>\n",
       "<style scoped>\n",
       "    .dataframe tbody tr th:only-of-type {\n",
       "        vertical-align: middle;\n",
       "    }\n",
       "\n",
       "    .dataframe tbody tr th {\n",
       "        vertical-align: top;\n",
       "    }\n",
       "\n",
       "    .dataframe thead th {\n",
       "        text-align: right;\n",
       "    }\n",
       "</style>\n",
       "<table border=\"1\" class=\"dataframe\">\n",
       "  <thead>\n",
       "    <tr style=\"text-align: right;\">\n",
       "      <th></th>\n",
       "      <th>creator</th>\n",
       "      <th>identifier</th>\n",
       "      <th>title</th>\n",
       "      <th>ocr_quality</th>\n",
       "      <th>text</th>\n",
       "    </tr>\n",
       "  </thead>\n",
       "  <tbody>\n",
       "    <tr>\n",
       "      <th>0</th>\n",
       "      <td>Verne, Jules (1828-1905). Auteur du texte</td>\n",
       "      <td>https://gallica.bnf.fr/ark:/12148/bpt6k65775059</td>\n",
       "      <td>Hector Servadac : voyages et aventures à trave...</td>\n",
       "      <td>99.99</td>\n",
       "      <td>JULES VERNE \\nHECTOR \\nSERVADAC \\nHECTOR SERVA...</td>\n",
       "    </tr>\n",
       "    <tr>\n",
       "      <th>1</th>\n",
       "      <td>Verne, Jules (1828-1905). Auteur du texte</td>\n",
       "      <td>https://gallica.bnf.fr/ark:/12148/bpt6k65501998</td>\n",
       "      <td>Les voyages du Capitaine Cook / par Jules Vern...</td>\n",
       "      <td>99.99</td>\n",
       "      <td>LES VOYAGES \\nDU \\nCAPITAINE COOK \\nBIBLIOTHÈQ...</td>\n",
       "    </tr>\n",
       "    <tr>\n",
       "      <th>2</th>\n",
       "      <td>Verne, Jules (1828-1905). Auteur du texte</td>\n",
       "      <td>https://gallica.bnf.fr/ark:/12148/bpt6k6512278z</td>\n",
       "      <td>Robur-le-conquérant / par Jules Verne ; 87 des...</td>\n",
       "      <td>99.99</td>\n",
       "      <td>ROBUR LE CONQUÉRANT \\nCOLLECTION HETZEL \\nROBU...</td>\n",
       "    </tr>\n",
       "    <tr>\n",
       "      <th>3</th>\n",
       "      <td>Verne, Jules (1828-1905). Auteur du texte</td>\n",
       "      <td>https://gallica.bnf.fr/ark:/12148/bpt6k65773135</td>\n",
       "      <td>Nord contre Sud : les voyages extraordinaires ...</td>\n",
       "      <td>99.99</td>\n",
       "      <td>JULES VERNE \\nNORD \\nVOYAGES \\nEXTRAORDINAIRE ...</td>\n",
       "    </tr>\n",
       "    <tr>\n",
       "      <th>4</th>\n",
       "      <td>Verne, Jules (1828-1905). Auteur du texte</td>\n",
       "      <td>https://gallica.bnf.fr/ark:/12148/bpt6k65143496</td>\n",
       "      <td>De la terre à la lune : trajet direct en 97 he...</td>\n",
       "      <td>99.99</td>\n",
       "      <td>DE LA TERRE \\nA \\nLA LUNE \\nⓒ \\nOUVRAGES DU MÊ...</td>\n",
       "    </tr>\n",
       "  </tbody>\n",
       "</table>\n",
       "</div>"
      ],
      "text/plain": [
       "                                     creator  \\\n",
       "0  Verne, Jules (1828-1905). Auteur du texte   \n",
       "1  Verne, Jules (1828-1905). Auteur du texte   \n",
       "2  Verne, Jules (1828-1905). Auteur du texte   \n",
       "3  Verne, Jules (1828-1905). Auteur du texte   \n",
       "4  Verne, Jules (1828-1905). Auteur du texte   \n",
       "\n",
       "                                        identifier  \\\n",
       "0  https://gallica.bnf.fr/ark:/12148/bpt6k65775059   \n",
       "1  https://gallica.bnf.fr/ark:/12148/bpt6k65501998   \n",
       "2  https://gallica.bnf.fr/ark:/12148/bpt6k6512278z   \n",
       "3  https://gallica.bnf.fr/ark:/12148/bpt6k65773135   \n",
       "4  https://gallica.bnf.fr/ark:/12148/bpt6k65143496   \n",
       "\n",
       "                                               title ocr_quality  \\\n",
       "0  Hector Servadac : voyages et aventures à trave...       99.99   \n",
       "1  Les voyages du Capitaine Cook / par Jules Vern...       99.99   \n",
       "2  Robur-le-conquérant / par Jules Verne ; 87 des...       99.99   \n",
       "3  Nord contre Sud : les voyages extraordinaires ...       99.99   \n",
       "4  De la terre à la lune : trajet direct en 97 he...       99.99   \n",
       "\n",
       "                                                text  \n",
       "0  JULES VERNE \\nHECTOR \\nSERVADAC \\nHECTOR SERVA...  \n",
       "1  LES VOYAGES \\nDU \\nCAPITAINE COOK \\nBIBLIOTHÈQ...  \n",
       "2  ROBUR LE CONQUÉRANT \\nCOLLECTION HETZEL \\nROBU...  \n",
       "3  JULES VERNE \\nNORD \\nVOYAGES \\nEXTRAORDINAIRE ...  \n",
       "4  DE LA TERRE \\nA \\nLA LUNE \\nⓒ \\nOUVRAGES DU MÊ...  "
      ]
     },
     "execution_count": 122,
     "metadata": {},
     "output_type": "execute_result"
    }
   ],
   "source": [
    "# on peut enfin ajoouter ce texte dans notre dataframe\n",
    "books_df['text'] = books_df.apply(lambda x: get_book_text(x['identifier']), axis=1)\n",
    "books_df\n"
   ]
  },
  {
   "cell_type": "code",
   "execution_count": null,
   "metadata": {},
   "outputs": [],
   "source": [
    "#print(books_df.iloc[1]['text'])"
   ]
  },
  {
   "cell_type": "code",
   "execution_count": null,
   "metadata": {},
   "outputs": [],
   "source": [
    "# Pour constituer son corpus et l’appeler plus tard, il est aussi possible de copier les fichiers localement\n",
    "\n",
    "#print(books_df.iloc[1]['text'])"
   ]
  },
  {
   "cell_type": "code",
   "execution_count": null,
   "metadata": {},
   "outputs": [],
   "source": [
    "# Il existe des wrappers pour les API les plus utilisées\n",
    "# Par exemple Twitter : https://twython.readthedocs.io/en/latest/"
   ]
  },
  {
   "cell_type": "code",
   "execution_count": null,
   "metadata": {},
   "outputs": [],
   "source": [
    "# faire un tour des services existants pour rammaser du texte, en particulier Wikisource\n",
    "#https://fr.wikisource.org/wiki/J%E2%80%99accuse%E2%80%A6!\n",
    "#https://ws-export.wmcloud.org/?lang=fr&title=J%E2%80%99accuse%E2%80%A6!"
   ]
  },
  {
   "cell_type": "markdown",
   "metadata": {},
   "source": [
    "### Gallica Document API\n",
    "\n",
    "Pour un identfiant ark, il est toujours possible d’accéder aux métadonnées inscrites dans la notice OAI.\n",
    "\n",
    "`https://gallica.bnf.fr/services/OAIRecord?ark={ark}`\n",
    "\n",
    "Ce service renvoie la notice OAI-PMH du document ainsi que d’autres informations techniques, telles que le type de document, ou si la recherche plein texte est disponible ou pas.\n",
    "\n",
    "Un seul paramètre est obligatoire, il s’agit de l’ark de l’identifiant numérique du document."
   ]
  },
  {
   "cell_type": "code",
   "execution_count": 123,
   "metadata": {},
   "outputs": [],
   "source": [
    "from xml.etree import ElementTree\n",
    "tree = ElementTree.fromstring(requests.get('https://gallica.bnf.fr/services/OAIRecord?ark=bpt6k65501998').content)"
   ]
  },
  {
   "cell_type": "code",
   "execution_count": 124,
   "metadata": {},
   "outputs": [
    {
     "data": {
      "text/plain": [
       "'99.99'"
      ]
     },
     "execution_count": 124,
     "metadata": {},
     "output_type": "execute_result"
    }
   ],
   "source": [
    "tree.find('nqamoyen').text"
   ]
  },
  {
   "cell_type": "code",
   "execution_count": 125,
   "metadata": {},
   "outputs": [
    {
     "name": "stdout",
     "output_type": "stream",
     "text": [
      "Notice du catalogue : http://catalogue.bnf.fr/ark:/12148/cb31562766z\n"
     ]
    }
   ],
   "source": [
    "# ou lister les ressources liées\n",
    "for relation in tree.iter('{http://purl.org/dc/elements/1.1/}relation'):\n",
    "    print(relation.text)"
   ]
  },
  {
   "cell_type": "markdown",
   "metadata": {},
   "source": [
    "#### Service de récupération du texte\n",
    "\n",
    "Pour la récupération du texte brut :\n",
    "\n",
    "`https://gallica.bnf.fr/ark:/12148/{ark}.texteBrut`\n",
    "\n",
    "Si l'on souhaite une partie du document, on ajoutera le qualifier f[X]n[y] à la fin du qualifier texteBrut, où X est le numéro de la page à partir de laquelle on souhaite obtenir le texte, et n le nombre des pages suivantes.\n",
    "\n",
    "`https://gallica.bnf.fr/ark:/12148/{ark}/f{start_page_number}n{number_of_pages}.texteBrut`\n",
    "\n",
    "Par exemple, les 5 premières pages du chapitre consacré à Bougainville (p. 75-79 => 5 pages à partir de f87)\n",
    "\n",
    "[https://gallica.bnf.fr/ark:/12148/bpt6k65501998/f87n5.texteBrut](https://gallica.bnf.fr/ark:/12148/bpt6k65501998/f87n5.texteBrut)\n"
   ]
  },
  {
   "cell_type": "markdown",
   "metadata": {},
   "source": [
    "#### Service de récupération de l’OCR (ALTO)\n",
    "\n",
    "L'API Gallica suivante (RequestDigitalElement) permet d'extraire une page OCR de la bibliothèque numérique :\n",
    "\n",
    "`https://gallica.bnf.fr/RequestDigitalElement?O={ark}&E=ALTO&Deb={page_number}`\n",
    "\n",
    "Par exemple, l’ALTO de la première page du premier chapitre consacré à Bougainville (p. 1 => f13)\n",
    "\n",
    "https://gallica.bnf.fr/RequestDigitalElement?O=bpt6k65501998&E=ALTO&Deb=13\n"
   ]
  },
  {
   "cell_type": "code",
   "execution_count": 126,
   "metadata": {},
   "outputs": [
    {
     "name": "stdout",
     "output_type": "stream",
     "text": [
      "PAG_00000013_IL000001\n"
     ]
    }
   ],
   "source": [
    "# ALTO = du XML\n",
    "# Il devient possible d’extraire du contenu, par exemple la référence d’une imaje\n",
    "\n",
    "from xml.etree import ElementTree\n",
    "tree = ElementTree.fromstring(requests.get('https://gallica.bnf.fr/RequestDigitalElement?O=bpt6k65501998&E=ALTO&Deb=13').content)\n",
    "for illustration in tree.iter('{http://bibnum.bnf.fr/ns/alto_prod}Illustration'):\n",
    "    print(illustration.get('ID'))"
   ]
  },
  {
   "cell_type": "code",
   "execution_count": 127,
   "metadata": {},
   "outputs": [
    {
     "data": {
      "text/plain": [
       "[{'ID': 'PAG_00000013_IL000001',\n",
       "  'HPOS': '378',\n",
       "  'VPOS': '774',\n",
       "  'WIDTH': '1845',\n",
       "  'HEIGHT': '2209'}]"
      ]
     },
     "execution_count": 127,
     "metadata": {},
     "output_type": "execute_result"
    }
   ],
   "source": [
    "# Il est du coup possible, de récupérer les coordonnées de l’image et de l’afficher grâce à IIIF\n",
    "\n",
    "illustrations = []\n",
    "for illustration in tree.iter('{http://bibnum.bnf.fr/ns/alto_prod}Illustration'):\n",
    "    illustrations.append({\n",
    "            'ID': illustration.get('ID'),\n",
    "            'HPOS': illustration.get('HPOS'),\n",
    "            'VPOS': illustration.get('VPOS'),\n",
    "            'WIDTH': illustration.get('WIDTH'),\n",
    "            'HEIGHT': illustration.get('HEIGHT')\n",
    "        })\n",
    "illustrations"
   ]
  },
  {
   "cell_type": "code",
   "execution_count": 128,
   "metadata": {},
   "outputs": [
    {
     "data": {
      "text/html": [
       "<img src=\"https://gallica.bnf.fr/iiif/ark:/12148/bpt6k65501998/f13/378,774,1845,2209/full/0/native.jpg\" width=\"400\"/>"
      ],
      "text/plain": [
       "<IPython.core.display.Image object>"
      ]
     },
     "execution_count": 128,
     "metadata": {},
     "output_type": "execute_result"
    }
   ],
   "source": [
    "from IPython.display import Image\n",
    "\n",
    "illustration_iiif_url = ('https://gallica.bnf.fr/iiif/ark:/12148/bpt6k65501998/f13/'\n",
    "      + illustrations[0]['HPOS'] +','\n",
    "      + illustrations[0]['VPOS'] +','\n",
    "      + illustrations[0]['WIDTH'] +','\n",
    "      + illustrations[0]['HEIGHT']\n",
    "      + '/full/0/native.jpg')\n",
    "\n",
    "Image(url=illustration_iiif_url, width=400)\n"
   ]
  },
  {
   "cell_type": "markdown",
   "metadata": {},
   "source": [
    "### Wrappers\n",
    "\n",
    "- PyGallica : https://github.com/ian-nai/PyGallica\n",
    "- gallipy : https://libraries.io/pypi/gallipy\n"
   ]
  },
  {
   "cell_type": "markdown",
   "metadata": {},
   "source": [
    "## Preprocessing with Spacy\n",
    "\n",
    "On apprend à manipuler le texte. On commence avec les entités nommées\n",
    "In this lesson, we're going to learn about a text analysis method called Named Entity Recognition (NER). This method will help us computationally identify people, places, and things (of various kinds) in a text or collection of texts."
   ]
  },
  {
   "cell_type": "code",
   "execution_count": null,
   "metadata": {},
   "outputs": [],
   "source": [
    "!pip install -U spacy"
   ]
  },
  {
   "cell_type": "code",
   "execution_count": null,
   "metadata": {},
   "outputs": [],
   "source": [
    "import spacy\n",
    "from spacy import displacy\n",
    "from collections import Counter\n",
    "import pandas as pd\n",
    "pd.options.display.max_rows = 600\n",
    "pd.options.display.max_colwidth = 400"
   ]
  },
  {
   "cell_type": "code",
   "execution_count": null,
   "metadata": {},
   "outputs": [],
   "source": [
    "# Download Language Model\n",
    "conda install -c conda-forge spacy-model-fr_core_news_md"
   ]
  },
  {
   "cell_type": "code",
   "execution_count": null,
   "metadata": {},
   "outputs": [],
   "source": [
    "import fr_core_news_md\n",
    "nlp = fr_core_news_md.load()"
   ]
  },
  {
   "cell_type": "code",
   "execution_count": null,
   "metadata": {},
   "outputs": [],
   "source": [
    "text = books_df.iloc[1]['text']\n",
    "document = nlp(text)"
   ]
  },
  {
   "cell_type": "code",
   "execution_count": null,
   "metadata": {},
   "outputs": [],
   "source": [
    "#displacy.render(document, style=\"ent\")"
   ]
  },
  {
   "cell_type": "code",
   "execution_count": null,
   "metadata": {},
   "outputs": [],
   "source": [
    "#document.ents"
   ]
  },
  {
   "cell_type": "code",
   "execution_count": null,
   "metadata": {},
   "outputs": [],
   "source": [
    "for named_entity in document.ents:\n",
    "    print(named_entity, named_entity.label_)"
   ]
  },
  {
   "cell_type": "code",
   "execution_count": null,
   "metadata": {},
   "outputs": [],
   "source": [
    "for named_entity in document.ents:\n",
    "    if named_entity.label_ == \"PER\":\n",
    "        print(named_entity)"
   ]
  },
  {
   "cell_type": "code",
   "execution_count": null,
   "metadata": {},
   "outputs": [],
   "source": [
    "import math\n",
    "number_of_chunks = 80\n",
    "\n",
    "chunk_size = math.ceil(len(text) / number_of_chunks)\n",
    "\n",
    "text_chunks = []\n",
    "\n",
    "for number in range(0, len(text), chunk_size):\n",
    "    text_chunk = text[number:number+chunk_size]\n",
    "    text_chunks.append(text_chunk)"
   ]
  },
  {
   "cell_type": "code",
   "execution_count": null,
   "metadata": {},
   "outputs": [],
   "source": [
    "#len(text_chunks)\n",
    "#text_chunks[0]"
   ]
  },
  {
   "cell_type": "code",
   "execution_count": null,
   "metadata": {},
   "outputs": [],
   "source": [
    "# https://spacy.io/api/language#pipe\n",
    "# nlp.pipe returns a generator on purpose\n",
    "# https://www.dataquest.io/blog/python-generators-tutorial/\n",
    "chunked_documents = list(nlp.pipe(text_chunks))"
   ]
  },
  {
   "cell_type": "code",
   "execution_count": null,
   "metadata": {},
   "outputs": [],
   "source": [
    "# TODO: transformer en fonction pour extraire selon arg les PER|LOC\n",
    "people = []\n",
    "\n",
    "for doc in chunked_documents:\n",
    "    for named_entity in doc.ents:\n",
    "        if named_entity.label_ == \"PER\":\n",
    "            people.append(named_entity.text)\n",
    "\n",
    "# https://docs.python.org/3/library/collections.html#collections.Counter\n",
    "people_tally = Counter(people)\n",
    "\n",
    "people_df = pd.DataFrame(people_tally.most_common(), columns=['character', 'count'])\n",
    "people_df.iloc[0:25]"
   ]
  },
  {
   "cell_type": "code",
   "execution_count": null,
   "metadata": {},
   "outputs": [],
   "source": [
    "# NB on peut aussi segmenter en phrases\n",
    "'''\n",
    "for sentence in document.sents:\n",
    "    print(sentence.text, '===')\n",
    "'''"
   ]
  },
  {
   "cell_type": "markdown",
   "metadata": {},
   "source": [
    "### POS / Lemmatisation"
   ]
  },
  {
   "cell_type": "code",
   "execution_count": null,
   "metadata": {},
   "outputs": [],
   "source": [
    "sample = \"Un jour peut-être, je parviendrai à réussir ce que je souhaite entreprendre.\""
   ]
  },
  {
   "cell_type": "code",
   "execution_count": null,
   "metadata": {},
   "outputs": [],
   "source": [
    "document = nlp(books_df.iloc[1]['text'])"
   ]
  },
  {
   "cell_type": "code",
   "execution_count": null,
   "metadata": {},
   "outputs": [],
   "source": [
    "# https://universaldependencies.org/u/pos/\n",
    "# les tokens ont de très nombreux attributs\n",
    "for token in document:\n",
    "    print(token, token.lemma_, token.pos_)"
   ]
  },
  {
   "cell_type": "markdown",
   "metadata": {},
   "source": [
    "### Les bases de Spacy\n",
    "https://realpython.com/natural-language-processing-spacy-python/"
   ]
  },
  {
   "cell_type": "code",
   "execution_count": null,
   "metadata": {},
   "outputs": [],
   "source": [
    "quote = \"Certains attendent que le temps change, d'autres le saisissent avec force et agissent. Lorsque ta vue veut pénétrer trop loin dans les ténèbres, il advient qu'en imaginant tu t'égares.\""
   ]
  },
  {
   "cell_type": "code",
   "execution_count": null,
   "metadata": {},
   "outputs": [],
   "source": [
    "# le modèle de langue chargé\n",
    "# un paquet de modèles de langue\n",
    "nlp"
   ]
  },
  {
   "cell_type": "code",
   "execution_count": null,
   "metadata": {},
   "outputs": [],
   "source": [
    "document = nlp(quote)"
   ]
  },
  {
   "cell_type": "code",
   "execution_count": null,
   "metadata": {},
   "outputs": [],
   "source": [
    "document"
   ]
  },
  {
   "cell_type": "code",
   "execution_count": null,
   "metadata": {},
   "outputs": [],
   "source": [
    "type(document)"
   ]
  },
  {
   "cell_type": "code",
   "execution_count": null,
   "metadata": {},
   "outputs": [],
   "source": [
    "print([token.text for token in document])"
   ]
  },
  {
   "cell_type": "code",
   "execution_count": null,
   "metadata": {},
   "outputs": [],
   "source": [
    "sentences = list(document.sents)\n",
    "sentences"
   ]
  },
  {
   "cell_type": "code",
   "execution_count": null,
   "metadata": {},
   "outputs": [],
   "source": [
    "for sentence in sentences:\n",
    "    print(f'{sentence[:5]}…')"
   ]
  },
  {
   "cell_type": "code",
   "execution_count": null,
   "metadata": {},
   "outputs": [],
   "source": [
    "from spacy.lang.fr.stop_words import STOP_WORDS as fr_stop\n",
    "for stop_word in list(fr_stop)[:10]:\n",
    "    print(stop_word)\n",
    "len(fr_stop)"
   ]
  },
  {
   "cell_type": "code",
   "execution_count": null,
   "metadata": {},
   "outputs": [],
   "source": [
    "print([token.text for token in document if not token.is_stop])"
   ]
  }
 ],
 "metadata": {
  "kernelspec": {
   "display_name": "Python 3 (ipykernel)",
   "language": "python",
   "name": "python3"
  },
  "language_info": {
   "codemirror_mode": {
    "name": "ipython",
    "version": 3
   },
   "file_extension": ".py",
   "mimetype": "text/x-python",
   "name": "python",
   "nbconvert_exporter": "python",
   "pygments_lexer": "ipython3",
   "version": "3.9.16"
  }
 },
 "nbformat": 4,
 "nbformat_minor": 4
}
